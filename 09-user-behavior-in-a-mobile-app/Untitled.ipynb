{
 "cells": [
  {
   "cell_type": "markdown",
   "id": "923ed967",
   "metadata": {},
   "source": [
    "# Анализ пользовательского поведения в мобильном приложении \n",
    "\n",
    "На основе данных использования мобильного приложения для продажи продуктов питания проанализировать воронку продаж, а также оценить результаты A/A/B-тестирования\n",
    "\n",
    "**Описание данных**\n",
    "Каждая запись в логе — это действие пользователя, или событие.\n",
    "- EventName — название события;\n",
    "- DeviceIDHash — уникальный идентификатор пользователя;\n",
    "- EventTimestamp — время события;\n",
    "- ExpId — номер эксперимента: 246 и 247 — контрольные группы, а 248 — экспериментальная."
   ]
  }
 ],
 "metadata": {
  "kernelspec": {
   "display_name": "Python 3",
   "language": "python",
   "name": "python3"
  },
  "language_info": {
   "codemirror_mode": {
    "name": "ipython",
    "version": 3
   },
   "file_extension": ".py",
   "mimetype": "text/x-python",
   "name": "python",
   "nbconvert_exporter": "python",
   "pygments_lexer": "ipython3",
   "version": "3.8.8"
  },
  "toc": {
   "base_numbering": 1,
   "nav_menu": {},
   "number_sections": true,
   "sideBar": true,
   "skip_h1_title": false,
   "title_cell": "Table of Contents",
   "title_sidebar": "Contents",
   "toc_cell": false,
   "toc_position": {},
   "toc_section_display": true,
   "toc_window_display": false
  }
 },
 "nbformat": 4,
 "nbformat_minor": 5
}
