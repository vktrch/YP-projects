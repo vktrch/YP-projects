{
 "cells": [
  {
   "cell_type": "markdown",
   "metadata": {},
   "source": [
    "# Определение перспективного тарифа для телеком компании"
   ]
  },
  {
   "cell_type": "markdown",
   "metadata": {},
   "source": [
    "## Открытие файла с данными и изучение общей информации"
   ]
  },
  {
   "cell_type": "code",
   "execution_count": 1,
   "metadata": {},
   "outputs": [],
   "source": [
    "import pandas as pd\n",
    "import matplotlib.pyplot as plt\n",
    "from scipy import stats as st\n",
    "import numpy as np\n",
    "import warnings"
   ]
  },
  {
   "cell_type": "code",
   "execution_count": 2,
   "metadata": {},
   "outputs": [],
   "source": [
    "warnings.filterwarnings('ignore')"
   ]
  },
  {
   "cell_type": "code",
   "execution_count": 3,
   "metadata": {},
   "outputs": [],
   "source": [
    "calls = pd.read_csv('C:/Users/Timofey/Downloads/calls.csv')\n",
    "internet = pd.read_csv('C:/Users/Timofey/Downloads/internet.csv')\n",
    "messages = pd.read_csv('C:/Users/Timofey/Downloads/messages.csv')\n",
    "tariffs = pd.read_csv('C:/Users/Timofey/Downloads/tariffs.csv')\n",
    "users = pd.read_csv('C:/Users/Timofey/Downloads/users.csv')"
   ]
  },
  {
   "cell_type": "code",
   "execution_count": 4,
   "metadata": {},
   "outputs": [],
   "source": [
    "def review (df):\n",
    "    display(df.head())\n",
    "    print ()\n",
    "    display (df.info())\n",
    "    print()\n",
    "    display (df.describe())\n",
    "    print()\n",
    "    print ('Количество дубликатов:',df.duplicated().sum())\n",
    "    print()\n",
    "    print('Количество пропусков:')\n",
    "    print(df.isna().sum())\n",
    "# Функция для просмотра основной информации по датасетам"
   ]
  },
  {
   "cell_type": "code",
   "execution_count": 5,
   "metadata": {},
   "outputs": [
    {
     "data": {
      "text/html": [
       "<div>\n",
       "<style scoped>\n",
       "    .dataframe tbody tr th:only-of-type {\n",
       "        vertical-align: middle;\n",
       "    }\n",
       "\n",
       "    .dataframe tbody tr th {\n",
       "        vertical-align: top;\n",
       "    }\n",
       "\n",
       "    .dataframe thead th {\n",
       "        text-align: right;\n",
       "    }\n",
       "</style>\n",
       "<table border=\"1\" class=\"dataframe\">\n",
       "  <thead>\n",
       "    <tr style=\"text-align: right;\">\n",
       "      <th></th>\n",
       "      <th>id</th>\n",
       "      <th>call_date</th>\n",
       "      <th>duration</th>\n",
       "      <th>user_id</th>\n",
       "    </tr>\n",
       "  </thead>\n",
       "  <tbody>\n",
       "    <tr>\n",
       "      <th>0</th>\n",
       "      <td>1000_0</td>\n",
       "      <td>2018-07-25</td>\n",
       "      <td>0.00</td>\n",
       "      <td>1000</td>\n",
       "    </tr>\n",
       "    <tr>\n",
       "      <th>1</th>\n",
       "      <td>1000_1</td>\n",
       "      <td>2018-08-17</td>\n",
       "      <td>0.00</td>\n",
       "      <td>1000</td>\n",
       "    </tr>\n",
       "    <tr>\n",
       "      <th>2</th>\n",
       "      <td>1000_2</td>\n",
       "      <td>2018-06-11</td>\n",
       "      <td>2.85</td>\n",
       "      <td>1000</td>\n",
       "    </tr>\n",
       "    <tr>\n",
       "      <th>3</th>\n",
       "      <td>1000_3</td>\n",
       "      <td>2018-09-21</td>\n",
       "      <td>13.80</td>\n",
       "      <td>1000</td>\n",
       "    </tr>\n",
       "    <tr>\n",
       "      <th>4</th>\n",
       "      <td>1000_4</td>\n",
       "      <td>2018-12-15</td>\n",
       "      <td>5.18</td>\n",
       "      <td>1000</td>\n",
       "    </tr>\n",
       "  </tbody>\n",
       "</table>\n",
       "</div>"
      ],
      "text/plain": [
       "       id   call_date  duration  user_id\n",
       "0  1000_0  2018-07-25      0.00     1000\n",
       "1  1000_1  2018-08-17      0.00     1000\n",
       "2  1000_2  2018-06-11      2.85     1000\n",
       "3  1000_3  2018-09-21     13.80     1000\n",
       "4  1000_4  2018-12-15      5.18     1000"
      ]
     },
     "metadata": {},
     "output_type": "display_data"
    },
    {
     "name": "stdout",
     "output_type": "stream",
     "text": [
      "\n",
      "<class 'pandas.core.frame.DataFrame'>\n",
      "RangeIndex: 202607 entries, 0 to 202606\n",
      "Data columns (total 4 columns):\n",
      " #   Column     Non-Null Count   Dtype  \n",
      "---  ------     --------------   -----  \n",
      " 0   id         202607 non-null  object \n",
      " 1   call_date  202607 non-null  object \n",
      " 2   duration   202607 non-null  float64\n",
      " 3   user_id    202607 non-null  int64  \n",
      "dtypes: float64(1), int64(1), object(2)\n",
      "memory usage: 6.2+ MB\n"
     ]
    },
    {
     "data": {
      "text/plain": [
       "None"
      ]
     },
     "metadata": {},
     "output_type": "display_data"
    },
    {
     "name": "stdout",
     "output_type": "stream",
     "text": [
      "\n"
     ]
    },
    {
     "data": {
      "text/html": [
       "<div>\n",
       "<style scoped>\n",
       "    .dataframe tbody tr th:only-of-type {\n",
       "        vertical-align: middle;\n",
       "    }\n",
       "\n",
       "    .dataframe tbody tr th {\n",
       "        vertical-align: top;\n",
       "    }\n",
       "\n",
       "    .dataframe thead th {\n",
       "        text-align: right;\n",
       "    }\n",
       "</style>\n",
       "<table border=\"1\" class=\"dataframe\">\n",
       "  <thead>\n",
       "    <tr style=\"text-align: right;\">\n",
       "      <th></th>\n",
       "      <th>duration</th>\n",
       "      <th>user_id</th>\n",
       "    </tr>\n",
       "  </thead>\n",
       "  <tbody>\n",
       "    <tr>\n",
       "      <th>count</th>\n",
       "      <td>202607.000000</td>\n",
       "      <td>202607.000000</td>\n",
       "    </tr>\n",
       "    <tr>\n",
       "      <th>mean</th>\n",
       "      <td>6.755887</td>\n",
       "      <td>1253.940619</td>\n",
       "    </tr>\n",
       "    <tr>\n",
       "      <th>std</th>\n",
       "      <td>5.843365</td>\n",
       "      <td>144.722751</td>\n",
       "    </tr>\n",
       "    <tr>\n",
       "      <th>min</th>\n",
       "      <td>0.000000</td>\n",
       "      <td>1000.000000</td>\n",
       "    </tr>\n",
       "    <tr>\n",
       "      <th>25%</th>\n",
       "      <td>1.300000</td>\n",
       "      <td>1126.000000</td>\n",
       "    </tr>\n",
       "    <tr>\n",
       "      <th>50%</th>\n",
       "      <td>6.000000</td>\n",
       "      <td>1260.000000</td>\n",
       "    </tr>\n",
       "    <tr>\n",
       "      <th>75%</th>\n",
       "      <td>10.700000</td>\n",
       "      <td>1379.000000</td>\n",
       "    </tr>\n",
       "    <tr>\n",
       "      <th>max</th>\n",
       "      <td>38.000000</td>\n",
       "      <td>1499.000000</td>\n",
       "    </tr>\n",
       "  </tbody>\n",
       "</table>\n",
       "</div>"
      ],
      "text/plain": [
       "            duration        user_id\n",
       "count  202607.000000  202607.000000\n",
       "mean        6.755887    1253.940619\n",
       "std         5.843365     144.722751\n",
       "min         0.000000    1000.000000\n",
       "25%         1.300000    1126.000000\n",
       "50%         6.000000    1260.000000\n",
       "75%        10.700000    1379.000000\n",
       "max        38.000000    1499.000000"
      ]
     },
     "metadata": {},
     "output_type": "display_data"
    },
    {
     "name": "stdout",
     "output_type": "stream",
     "text": [
      "\n",
      "Количество дубликатов: 0\n",
      "\n",
      "Количество пропусков:\n",
      "id           0\n",
      "call_date    0\n",
      "duration     0\n",
      "user_id      0\n",
      "dtype: int64\n"
     ]
    }
   ],
   "source": [
    "review(calls)"
   ]
  },
  {
   "cell_type": "code",
   "execution_count": 6,
   "metadata": {},
   "outputs": [
    {
     "data": {
      "text/html": [
       "<div>\n",
       "<style scoped>\n",
       "    .dataframe tbody tr th:only-of-type {\n",
       "        vertical-align: middle;\n",
       "    }\n",
       "\n",
       "    .dataframe tbody tr th {\n",
       "        vertical-align: top;\n",
       "    }\n",
       "\n",
       "    .dataframe thead th {\n",
       "        text-align: right;\n",
       "    }\n",
       "</style>\n",
       "<table border=\"1\" class=\"dataframe\">\n",
       "  <thead>\n",
       "    <tr style=\"text-align: right;\">\n",
       "      <th></th>\n",
       "      <th>Unnamed: 0</th>\n",
       "      <th>id</th>\n",
       "      <th>mb_used</th>\n",
       "      <th>session_date</th>\n",
       "      <th>user_id</th>\n",
       "    </tr>\n",
       "  </thead>\n",
       "  <tbody>\n",
       "    <tr>\n",
       "      <th>0</th>\n",
       "      <td>0</td>\n",
       "      <td>1000_0</td>\n",
       "      <td>112.95</td>\n",
       "      <td>2018-11-25</td>\n",
       "      <td>1000</td>\n",
       "    </tr>\n",
       "    <tr>\n",
       "      <th>1</th>\n",
       "      <td>1</td>\n",
       "      <td>1000_1</td>\n",
       "      <td>1052.81</td>\n",
       "      <td>2018-09-07</td>\n",
       "      <td>1000</td>\n",
       "    </tr>\n",
       "    <tr>\n",
       "      <th>2</th>\n",
       "      <td>2</td>\n",
       "      <td>1000_2</td>\n",
       "      <td>1197.26</td>\n",
       "      <td>2018-06-25</td>\n",
       "      <td>1000</td>\n",
       "    </tr>\n",
       "    <tr>\n",
       "      <th>3</th>\n",
       "      <td>3</td>\n",
       "      <td>1000_3</td>\n",
       "      <td>550.27</td>\n",
       "      <td>2018-08-22</td>\n",
       "      <td>1000</td>\n",
       "    </tr>\n",
       "    <tr>\n",
       "      <th>4</th>\n",
       "      <td>4</td>\n",
       "      <td>1000_4</td>\n",
       "      <td>302.56</td>\n",
       "      <td>2018-09-24</td>\n",
       "      <td>1000</td>\n",
       "    </tr>\n",
       "  </tbody>\n",
       "</table>\n",
       "</div>"
      ],
      "text/plain": [
       "   Unnamed: 0      id  mb_used session_date  user_id\n",
       "0           0  1000_0   112.95   2018-11-25     1000\n",
       "1           1  1000_1  1052.81   2018-09-07     1000\n",
       "2           2  1000_2  1197.26   2018-06-25     1000\n",
       "3           3  1000_3   550.27   2018-08-22     1000\n",
       "4           4  1000_4   302.56   2018-09-24     1000"
      ]
     },
     "metadata": {},
     "output_type": "display_data"
    },
    {
     "name": "stdout",
     "output_type": "stream",
     "text": [
      "\n",
      "<class 'pandas.core.frame.DataFrame'>\n",
      "RangeIndex: 149396 entries, 0 to 149395\n",
      "Data columns (total 5 columns):\n",
      " #   Column        Non-Null Count   Dtype  \n",
      "---  ------        --------------   -----  \n",
      " 0   Unnamed: 0    149396 non-null  int64  \n",
      " 1   id            149396 non-null  object \n",
      " 2   mb_used       149396 non-null  float64\n",
      " 3   session_date  149396 non-null  object \n",
      " 4   user_id       149396 non-null  int64  \n",
      "dtypes: float64(1), int64(2), object(2)\n",
      "memory usage: 5.7+ MB\n"
     ]
    },
    {
     "data": {
      "text/plain": [
       "None"
      ]
     },
     "metadata": {},
     "output_type": "display_data"
    },
    {
     "name": "stdout",
     "output_type": "stream",
     "text": [
      "\n"
     ]
    },
    {
     "data": {
      "text/html": [
       "<div>\n",
       "<style scoped>\n",
       "    .dataframe tbody tr th:only-of-type {\n",
       "        vertical-align: middle;\n",
       "    }\n",
       "\n",
       "    .dataframe tbody tr th {\n",
       "        vertical-align: top;\n",
       "    }\n",
       "\n",
       "    .dataframe thead th {\n",
       "        text-align: right;\n",
       "    }\n",
       "</style>\n",
       "<table border=\"1\" class=\"dataframe\">\n",
       "  <thead>\n",
       "    <tr style=\"text-align: right;\">\n",
       "      <th></th>\n",
       "      <th>Unnamed: 0</th>\n",
       "      <th>mb_used</th>\n",
       "      <th>user_id</th>\n",
       "    </tr>\n",
       "  </thead>\n",
       "  <tbody>\n",
       "    <tr>\n",
       "      <th>count</th>\n",
       "      <td>149396.000000</td>\n",
       "      <td>149396.000000</td>\n",
       "      <td>149396.000000</td>\n",
       "    </tr>\n",
       "    <tr>\n",
       "      <th>mean</th>\n",
       "      <td>74697.500000</td>\n",
       "      <td>370.192426</td>\n",
       "      <td>1252.099842</td>\n",
       "    </tr>\n",
       "    <tr>\n",
       "      <th>std</th>\n",
       "      <td>43127.054745</td>\n",
       "      <td>278.300951</td>\n",
       "      <td>144.050823</td>\n",
       "    </tr>\n",
       "    <tr>\n",
       "      <th>min</th>\n",
       "      <td>0.000000</td>\n",
       "      <td>0.000000</td>\n",
       "      <td>1000.000000</td>\n",
       "    </tr>\n",
       "    <tr>\n",
       "      <th>25%</th>\n",
       "      <td>37348.750000</td>\n",
       "      <td>138.187500</td>\n",
       "      <td>1130.000000</td>\n",
       "    </tr>\n",
       "    <tr>\n",
       "      <th>50%</th>\n",
       "      <td>74697.500000</td>\n",
       "      <td>348.015000</td>\n",
       "      <td>1251.000000</td>\n",
       "    </tr>\n",
       "    <tr>\n",
       "      <th>75%</th>\n",
       "      <td>112046.250000</td>\n",
       "      <td>559.552500</td>\n",
       "      <td>1380.000000</td>\n",
       "    </tr>\n",
       "    <tr>\n",
       "      <th>max</th>\n",
       "      <td>149395.000000</td>\n",
       "      <td>1724.830000</td>\n",
       "      <td>1499.000000</td>\n",
       "    </tr>\n",
       "  </tbody>\n",
       "</table>\n",
       "</div>"
      ],
      "text/plain": [
       "          Unnamed: 0        mb_used        user_id\n",
       "count  149396.000000  149396.000000  149396.000000\n",
       "mean    74697.500000     370.192426    1252.099842\n",
       "std     43127.054745     278.300951     144.050823\n",
       "min         0.000000       0.000000    1000.000000\n",
       "25%     37348.750000     138.187500    1130.000000\n",
       "50%     74697.500000     348.015000    1251.000000\n",
       "75%    112046.250000     559.552500    1380.000000\n",
       "max    149395.000000    1724.830000    1499.000000"
      ]
     },
     "metadata": {},
     "output_type": "display_data"
    },
    {
     "name": "stdout",
     "output_type": "stream",
     "text": [
      "\n",
      "Количество дубликатов: 0\n",
      "\n",
      "Количество пропусков:\n",
      "Unnamed: 0      0\n",
      "id              0\n",
      "mb_used         0\n",
      "session_date    0\n",
      "user_id         0\n",
      "dtype: int64\n"
     ]
    }
   ],
   "source": [
    "review(internet)"
   ]
  },
  {
   "cell_type": "code",
   "execution_count": 7,
   "metadata": {},
   "outputs": [
    {
     "data": {
      "text/html": [
       "<div>\n",
       "<style scoped>\n",
       "    .dataframe tbody tr th:only-of-type {\n",
       "        vertical-align: middle;\n",
       "    }\n",
       "\n",
       "    .dataframe tbody tr th {\n",
       "        vertical-align: top;\n",
       "    }\n",
       "\n",
       "    .dataframe thead th {\n",
       "        text-align: right;\n",
       "    }\n",
       "</style>\n",
       "<table border=\"1\" class=\"dataframe\">\n",
       "  <thead>\n",
       "    <tr style=\"text-align: right;\">\n",
       "      <th></th>\n",
       "      <th>id</th>\n",
       "      <th>message_date</th>\n",
       "      <th>user_id</th>\n",
       "    </tr>\n",
       "  </thead>\n",
       "  <tbody>\n",
       "    <tr>\n",
       "      <th>0</th>\n",
       "      <td>1000_0</td>\n",
       "      <td>2018-06-27</td>\n",
       "      <td>1000</td>\n",
       "    </tr>\n",
       "    <tr>\n",
       "      <th>1</th>\n",
       "      <td>1000_1</td>\n",
       "      <td>2018-10-08</td>\n",
       "      <td>1000</td>\n",
       "    </tr>\n",
       "    <tr>\n",
       "      <th>2</th>\n",
       "      <td>1000_2</td>\n",
       "      <td>2018-08-04</td>\n",
       "      <td>1000</td>\n",
       "    </tr>\n",
       "    <tr>\n",
       "      <th>3</th>\n",
       "      <td>1000_3</td>\n",
       "      <td>2018-06-16</td>\n",
       "      <td>1000</td>\n",
       "    </tr>\n",
       "    <tr>\n",
       "      <th>4</th>\n",
       "      <td>1000_4</td>\n",
       "      <td>2018-12-05</td>\n",
       "      <td>1000</td>\n",
       "    </tr>\n",
       "  </tbody>\n",
       "</table>\n",
       "</div>"
      ],
      "text/plain": [
       "       id message_date  user_id\n",
       "0  1000_0   2018-06-27     1000\n",
       "1  1000_1   2018-10-08     1000\n",
       "2  1000_2   2018-08-04     1000\n",
       "3  1000_3   2018-06-16     1000\n",
       "4  1000_4   2018-12-05     1000"
      ]
     },
     "metadata": {},
     "output_type": "display_data"
    },
    {
     "name": "stdout",
     "output_type": "stream",
     "text": [
      "\n",
      "<class 'pandas.core.frame.DataFrame'>\n",
      "RangeIndex: 123036 entries, 0 to 123035\n",
      "Data columns (total 3 columns):\n",
      " #   Column        Non-Null Count   Dtype \n",
      "---  ------        --------------   ----- \n",
      " 0   id            123036 non-null  object\n",
      " 1   message_date  123036 non-null  object\n",
      " 2   user_id       123036 non-null  int64 \n",
      "dtypes: int64(1), object(2)\n",
      "memory usage: 2.8+ MB\n"
     ]
    },
    {
     "data": {
      "text/plain": [
       "None"
      ]
     },
     "metadata": {},
     "output_type": "display_data"
    },
    {
     "name": "stdout",
     "output_type": "stream",
     "text": [
      "\n"
     ]
    },
    {
     "data": {
      "text/html": [
       "<div>\n",
       "<style scoped>\n",
       "    .dataframe tbody tr th:only-of-type {\n",
       "        vertical-align: middle;\n",
       "    }\n",
       "\n",
       "    .dataframe tbody tr th {\n",
       "        vertical-align: top;\n",
       "    }\n",
       "\n",
       "    .dataframe thead th {\n",
       "        text-align: right;\n",
       "    }\n",
       "</style>\n",
       "<table border=\"1\" class=\"dataframe\">\n",
       "  <thead>\n",
       "    <tr style=\"text-align: right;\">\n",
       "      <th></th>\n",
       "      <th>user_id</th>\n",
       "    </tr>\n",
       "  </thead>\n",
       "  <tbody>\n",
       "    <tr>\n",
       "      <th>count</th>\n",
       "      <td>123036.000000</td>\n",
       "    </tr>\n",
       "    <tr>\n",
       "      <th>mean</th>\n",
       "      <td>1256.989410</td>\n",
       "    </tr>\n",
       "    <tr>\n",
       "      <th>std</th>\n",
       "      <td>143.523967</td>\n",
       "    </tr>\n",
       "    <tr>\n",
       "      <th>min</th>\n",
       "      <td>1000.000000</td>\n",
       "    </tr>\n",
       "    <tr>\n",
       "      <th>25%</th>\n",
       "      <td>1134.000000</td>\n",
       "    </tr>\n",
       "    <tr>\n",
       "      <th>50%</th>\n",
       "      <td>1271.000000</td>\n",
       "    </tr>\n",
       "    <tr>\n",
       "      <th>75%</th>\n",
       "      <td>1381.000000</td>\n",
       "    </tr>\n",
       "    <tr>\n",
       "      <th>max</th>\n",
       "      <td>1499.000000</td>\n",
       "    </tr>\n",
       "  </tbody>\n",
       "</table>\n",
       "</div>"
      ],
      "text/plain": [
       "             user_id\n",
       "count  123036.000000\n",
       "mean     1256.989410\n",
       "std       143.523967\n",
       "min      1000.000000\n",
       "25%      1134.000000\n",
       "50%      1271.000000\n",
       "75%      1381.000000\n",
       "max      1499.000000"
      ]
     },
     "metadata": {},
     "output_type": "display_data"
    },
    {
     "name": "stdout",
     "output_type": "stream",
     "text": [
      "\n",
      "Количество дубликатов: 0\n",
      "\n",
      "Количество пропусков:\n",
      "id              0\n",
      "message_date    0\n",
      "user_id         0\n",
      "dtype: int64\n"
     ]
    }
   ],
   "source": [
    "review(messages)"
   ]
  },
  {
   "cell_type": "code",
   "execution_count": 8,
   "metadata": {},
   "outputs": [
    {
     "data": {
      "text/html": [
       "<div>\n",
       "<style scoped>\n",
       "    .dataframe tbody tr th:only-of-type {\n",
       "        vertical-align: middle;\n",
       "    }\n",
       "\n",
       "    .dataframe tbody tr th {\n",
       "        vertical-align: top;\n",
       "    }\n",
       "\n",
       "    .dataframe thead th {\n",
       "        text-align: right;\n",
       "    }\n",
       "</style>\n",
       "<table border=\"1\" class=\"dataframe\">\n",
       "  <thead>\n",
       "    <tr style=\"text-align: right;\">\n",
       "      <th></th>\n",
       "      <th>messages_included</th>\n",
       "      <th>mb_per_month_included</th>\n",
       "      <th>minutes_included</th>\n",
       "      <th>rub_monthly_fee</th>\n",
       "      <th>rub_per_gb</th>\n",
       "      <th>rub_per_message</th>\n",
       "      <th>rub_per_minute</th>\n",
       "      <th>tariff_name</th>\n",
       "    </tr>\n",
       "  </thead>\n",
       "  <tbody>\n",
       "    <tr>\n",
       "      <th>0</th>\n",
       "      <td>50</td>\n",
       "      <td>15360</td>\n",
       "      <td>500</td>\n",
       "      <td>550</td>\n",
       "      <td>200</td>\n",
       "      <td>3</td>\n",
       "      <td>3</td>\n",
       "      <td>smart</td>\n",
       "    </tr>\n",
       "    <tr>\n",
       "      <th>1</th>\n",
       "      <td>1000</td>\n",
       "      <td>30720</td>\n",
       "      <td>3000</td>\n",
       "      <td>1950</td>\n",
       "      <td>150</td>\n",
       "      <td>1</td>\n",
       "      <td>1</td>\n",
       "      <td>ultra</td>\n",
       "    </tr>\n",
       "  </tbody>\n",
       "</table>\n",
       "</div>"
      ],
      "text/plain": [
       "   messages_included  mb_per_month_included  minutes_included  \\\n",
       "0                 50                  15360               500   \n",
       "1               1000                  30720              3000   \n",
       "\n",
       "   rub_monthly_fee  rub_per_gb  rub_per_message  rub_per_minute tariff_name  \n",
       "0              550         200                3               3       smart  \n",
       "1             1950         150                1               1       ultra  "
      ]
     },
     "execution_count": 8,
     "metadata": {},
     "output_type": "execute_result"
    }
   ],
   "source": [
    "tariffs.head()"
   ]
  },
  {
   "cell_type": "code",
   "execution_count": 9,
   "metadata": {},
   "outputs": [
    {
     "data": {
      "text/html": [
       "<div>\n",
       "<style scoped>\n",
       "    .dataframe tbody tr th:only-of-type {\n",
       "        vertical-align: middle;\n",
       "    }\n",
       "\n",
       "    .dataframe tbody tr th {\n",
       "        vertical-align: top;\n",
       "    }\n",
       "\n",
       "    .dataframe thead th {\n",
       "        text-align: right;\n",
       "    }\n",
       "</style>\n",
       "<table border=\"1\" class=\"dataframe\">\n",
       "  <thead>\n",
       "    <tr style=\"text-align: right;\">\n",
       "      <th></th>\n",
       "      <th>user_id</th>\n",
       "      <th>age</th>\n",
       "      <th>churn_date</th>\n",
       "      <th>city</th>\n",
       "      <th>first_name</th>\n",
       "      <th>last_name</th>\n",
       "      <th>reg_date</th>\n",
       "      <th>tariff</th>\n",
       "    </tr>\n",
       "  </thead>\n",
       "  <tbody>\n",
       "    <tr>\n",
       "      <th>0</th>\n",
       "      <td>1000</td>\n",
       "      <td>52</td>\n",
       "      <td>NaN</td>\n",
       "      <td>Краснодар</td>\n",
       "      <td>Рафаил</td>\n",
       "      <td>Верещагин</td>\n",
       "      <td>2018-05-25</td>\n",
       "      <td>ultra</td>\n",
       "    </tr>\n",
       "    <tr>\n",
       "      <th>1</th>\n",
       "      <td>1001</td>\n",
       "      <td>41</td>\n",
       "      <td>NaN</td>\n",
       "      <td>Москва</td>\n",
       "      <td>Иван</td>\n",
       "      <td>Ежов</td>\n",
       "      <td>2018-11-01</td>\n",
       "      <td>smart</td>\n",
       "    </tr>\n",
       "    <tr>\n",
       "      <th>2</th>\n",
       "      <td>1002</td>\n",
       "      <td>59</td>\n",
       "      <td>NaN</td>\n",
       "      <td>Стерлитамак</td>\n",
       "      <td>Евгений</td>\n",
       "      <td>Абрамович</td>\n",
       "      <td>2018-06-17</td>\n",
       "      <td>smart</td>\n",
       "    </tr>\n",
       "    <tr>\n",
       "      <th>3</th>\n",
       "      <td>1003</td>\n",
       "      <td>23</td>\n",
       "      <td>NaN</td>\n",
       "      <td>Москва</td>\n",
       "      <td>Белла</td>\n",
       "      <td>Белякова</td>\n",
       "      <td>2018-08-17</td>\n",
       "      <td>ultra</td>\n",
       "    </tr>\n",
       "    <tr>\n",
       "      <th>4</th>\n",
       "      <td>1004</td>\n",
       "      <td>68</td>\n",
       "      <td>NaN</td>\n",
       "      <td>Новокузнецк</td>\n",
       "      <td>Татьяна</td>\n",
       "      <td>Авдеенко</td>\n",
       "      <td>2018-05-14</td>\n",
       "      <td>ultra</td>\n",
       "    </tr>\n",
       "  </tbody>\n",
       "</table>\n",
       "</div>"
      ],
      "text/plain": [
       "   user_id  age churn_date         city first_name  last_name    reg_date  \\\n",
       "0     1000   52        NaN    Краснодар     Рафаил  Верещагин  2018-05-25   \n",
       "1     1001   41        NaN       Москва       Иван       Ежов  2018-11-01   \n",
       "2     1002   59        NaN  Стерлитамак    Евгений  Абрамович  2018-06-17   \n",
       "3     1003   23        NaN       Москва      Белла   Белякова  2018-08-17   \n",
       "4     1004   68        NaN  Новокузнецк    Татьяна   Авдеенко  2018-05-14   \n",
       "\n",
       "  tariff  \n",
       "0  ultra  \n",
       "1  smart  \n",
       "2  smart  \n",
       "3  ultra  \n",
       "4  ultra  "
      ]
     },
     "metadata": {},
     "output_type": "display_data"
    },
    {
     "name": "stdout",
     "output_type": "stream",
     "text": [
      "\n",
      "<class 'pandas.core.frame.DataFrame'>\n",
      "RangeIndex: 500 entries, 0 to 499\n",
      "Data columns (total 8 columns):\n",
      " #   Column      Non-Null Count  Dtype \n",
      "---  ------      --------------  ----- \n",
      " 0   user_id     500 non-null    int64 \n",
      " 1   age         500 non-null    int64 \n",
      " 2   churn_date  38 non-null     object\n",
      " 3   city        500 non-null    object\n",
      " 4   first_name  500 non-null    object\n",
      " 5   last_name   500 non-null    object\n",
      " 6   reg_date    500 non-null    object\n",
      " 7   tariff      500 non-null    object\n",
      "dtypes: int64(2), object(6)\n",
      "memory usage: 31.4+ KB\n"
     ]
    },
    {
     "data": {
      "text/plain": [
       "None"
      ]
     },
     "metadata": {},
     "output_type": "display_data"
    },
    {
     "name": "stdout",
     "output_type": "stream",
     "text": [
      "\n"
     ]
    },
    {
     "data": {
      "text/html": [
       "<div>\n",
       "<style scoped>\n",
       "    .dataframe tbody tr th:only-of-type {\n",
       "        vertical-align: middle;\n",
       "    }\n",
       "\n",
       "    .dataframe tbody tr th {\n",
       "        vertical-align: top;\n",
       "    }\n",
       "\n",
       "    .dataframe thead th {\n",
       "        text-align: right;\n",
       "    }\n",
       "</style>\n",
       "<table border=\"1\" class=\"dataframe\">\n",
       "  <thead>\n",
       "    <tr style=\"text-align: right;\">\n",
       "      <th></th>\n",
       "      <th>user_id</th>\n",
       "      <th>age</th>\n",
       "    </tr>\n",
       "  </thead>\n",
       "  <tbody>\n",
       "    <tr>\n",
       "      <th>count</th>\n",
       "      <td>500.000000</td>\n",
       "      <td>500.00000</td>\n",
       "    </tr>\n",
       "    <tr>\n",
       "      <th>mean</th>\n",
       "      <td>1249.500000</td>\n",
       "      <td>46.58800</td>\n",
       "    </tr>\n",
       "    <tr>\n",
       "      <th>std</th>\n",
       "      <td>144.481833</td>\n",
       "      <td>16.66763</td>\n",
       "    </tr>\n",
       "    <tr>\n",
       "      <th>min</th>\n",
       "      <td>1000.000000</td>\n",
       "      <td>18.00000</td>\n",
       "    </tr>\n",
       "    <tr>\n",
       "      <th>25%</th>\n",
       "      <td>1124.750000</td>\n",
       "      <td>32.00000</td>\n",
       "    </tr>\n",
       "    <tr>\n",
       "      <th>50%</th>\n",
       "      <td>1249.500000</td>\n",
       "      <td>46.00000</td>\n",
       "    </tr>\n",
       "    <tr>\n",
       "      <th>75%</th>\n",
       "      <td>1374.250000</td>\n",
       "      <td>62.00000</td>\n",
       "    </tr>\n",
       "    <tr>\n",
       "      <th>max</th>\n",
       "      <td>1499.000000</td>\n",
       "      <td>75.00000</td>\n",
       "    </tr>\n",
       "  </tbody>\n",
       "</table>\n",
       "</div>"
      ],
      "text/plain": [
       "           user_id        age\n",
       "count   500.000000  500.00000\n",
       "mean   1249.500000   46.58800\n",
       "std     144.481833   16.66763\n",
       "min    1000.000000   18.00000\n",
       "25%    1124.750000   32.00000\n",
       "50%    1249.500000   46.00000\n",
       "75%    1374.250000   62.00000\n",
       "max    1499.000000   75.00000"
      ]
     },
     "metadata": {},
     "output_type": "display_data"
    },
    {
     "name": "stdout",
     "output_type": "stream",
     "text": [
      "\n",
      "Количество дубликатов: 0\n",
      "\n",
      "Количество пропусков:\n",
      "user_id         0\n",
      "age             0\n",
      "churn_date    462\n",
      "city            0\n",
      "first_name      0\n",
      "last_name       0\n",
      "reg_date        0\n",
      "tariff          0\n",
      "dtype: int64\n"
     ]
    }
   ],
   "source": [
    "review(users)"
   ]
  },
  {
   "cell_type": "markdown",
   "metadata": {},
   "source": [
    "В исходных файлах представленно 5 таблиц, описывающих данные 500 пользователей, тарифные планы, которые они используют, а также данные о звонках, сообщениях и интернет-трафике. Данные неоднородны по размеру. Потребуется заменить тип данных у столбцов с датой и временем, а также округлить значения минут разговора и мегабайт использованного трафика в большую сторону, так как тарифы считаются по минутам и мегабайтам. В таблице users присутствуют пропущенные значения в churn_date, скорее всего, это связано с тем, что тариф ещё действовал на момент выгрузки данных. В таблице interner присутствует лишний столбец дублирующий индекс, от него нужно будет избавиться."
   ]
  },
  {
   "cell_type": "markdown",
   "metadata": {},
   "source": [
    "## Подготовка данных"
   ]
  },
  {
   "cell_type": "markdown",
   "metadata": {},
   "source": [
    "### Изменение типов данных"
   ]
  },
  {
   "cell_type": "code",
   "execution_count": 10,
   "metadata": {},
   "outputs": [],
   "source": [
    "calls['call_date'] = pd.to_datetime(calls['call_date'], format='%Y-%m-%d')\n",
    "internet['session_date'] = pd.to_datetime(internet['session_date'], format='%Y-%m-%d')\n",
    "messages['message_date'] = pd.to_datetime(messages['message_date'], format='%Y-%m-%d')\n",
    "users['churn_date'] = pd.to_datetime(users['churn_date'], format='%Y-%m-%d')\n",
    "users['reg_date'] = pd.to_datetime(users['reg_date'], format='%Y-%m-%d')\n",
    "# Замена формата даты."
   ]
  },
  {
   "cell_type": "code",
   "execution_count": 11,
   "metadata": {},
   "outputs": [],
   "source": [
    "calls['duration'] = np.ceil(calls['duration'])\n",
    "calls['duration'] = calls['duration'].astype('int')\n",
    "# Округление длительности разговоров до минут в большую сторону, изменение типа данных"
   ]
  },
  {
   "cell_type": "markdown",
   "metadata": {},
   "source": [
    "### Исправление ошибок в данных"
   ]
  },
  {
   "cell_type": "markdown",
   "metadata": {},
   "source": [
    "В таблице с информацией о звонках присутствует довольно много нулевых по продолжительности звонков, скорее всего, это пропущенные или непринятые вызовы. Стоит избавиться от этих строк."
   ]
  },
  {
   "cell_type": "code",
   "execution_count": 12,
   "metadata": {},
   "outputs": [
    {
     "data": {
      "text/plain": [
       "<AxesSubplot:ylabel='Frequency'>"
      ]
     },
     "execution_count": 12,
     "metadata": {},
     "output_type": "execute_result"
    },
    {
     "data": {
      "image/png": "[encoded data removed]",
      "text/plain": [
       "<Figure size 936x504 with 1 Axes>"
      ]
     },
     "metadata": {
      "needs_background": "light"
     },
     "output_type": "display_data"
    }
   ],
   "source": [
    "calls.plot(kind='hist', y='duration', grid=True, figsize=(13,7), bins=100)"
   ]
  },
  {
   "cell_type": "code",
   "execution_count": 13,
   "metadata": {},
   "outputs": [],
   "source": [
    "calls = calls.drop(calls[calls['duration'] == 0 ]['duration'].index).reset_index(drop = True)"
   ]
  },
  {
   "cell_type": "markdown",
   "metadata": {},
   "source": [
    "В таблице с потребляемым трафиком также присутствует большое количество нулевых значений, можно предположить, что это неудачные попытки загрузить что-либо в местах без связи. От этих строк так же можно избавиться."
   ]
  },
  {
   "cell_type": "code",
   "execution_count": 14,
   "metadata": {},
   "outputs": [
    {
     "data": {
      "text/plain": [
       "<AxesSubplot:ylabel='Frequency'>"
      ]
     },
     "execution_count": 14,
     "metadata": {},
     "output_type": "execute_result"
    },
    {
     "data": {
      "image/png": "[encoded data removed]",
      "text/plain": [
       "<Figure size 936x504 with 1 Axes>"
      ]
     },
     "metadata": {
      "needs_background": "light"
     },
     "output_type": "display_data"
    }
   ],
   "source": [
    "internet.plot(kind='hist', y='mb_used', grid=True, figsize=(13,7), bins=100)"
   ]
  },
  {
   "cell_type": "code",
   "execution_count": 15,
   "metadata": {},
   "outputs": [],
   "source": [
    "internet = internet.drop(internet[internet['mb_used'] == 0 ]['mb_used'].index).reset_index(drop = True)"
   ]
  },
  {
   "cell_type": "markdown",
   "metadata": {},
   "source": [
    "Удаление столбца 'Unnamed: 0' из датафрейма internet"
   ]
  },
  {
   "cell_type": "code",
   "execution_count": 16,
   "metadata": {},
   "outputs": [],
   "source": [
    "internet=internet.drop(columns='Unnamed: 0')"
   ]
  },
  {
   "cell_type": "markdown",
   "metadata": {},
   "source": [
    "### Суммарная активность пользователей по месяцам"
   ]
  },
  {
   "cell_type": "markdown",
   "metadata": {},
   "source": [
    "Добавление столбцов с месяцами"
   ]
  },
  {
   "cell_type": "code",
   "execution_count": 17,
   "metadata": {},
   "outputs": [],
   "source": [
    "calls['month'] = calls['call_date'].dt.month\n",
    "internet['month'] = internet['session_date'].dt.month\n",
    "messages['month'] = messages['message_date'].dt.month"
   ]
  },
  {
   "cell_type": "markdown",
   "metadata": {},
   "source": [
    "Группировка звонков, трафика и сообщений по пользователям и месяцам"
   ]
  },
  {
   "cell_type": "code",
   "execution_count": 18,
   "metadata": {},
   "outputs": [],
   "source": [
    "user_calls = calls.groupby(['user_id', 'month']).agg({'duration':'sum', 'id':'count'}).reset_index().rename(columns={\"duration\": \"call_duration\", \"id\":\"number_of_calls\"})"
   ]
  },
  {
   "cell_type": "code",
   "execution_count": 19,
   "metadata": {},
   "outputs": [],
   "source": [
    "user_messages = messages.groupby(['user_id', 'month']).agg({'id':'count'}).reset_index().rename(columns={\"id\": \"messages\"})"
   ]
  },
  {
   "cell_type": "code",
   "execution_count": 20,
   "metadata": {},
   "outputs": [],
   "source": [
    "user_internet = internet.groupby(['user_id', 'month']).agg({'mb_used':'sum'}).reset_index()"
   ]
  },
  {
   "cell_type": "markdown",
   "metadata": {},
   "source": [
    "Объединение всех интересующих данных в одной таблице и переименование столбца tariff_name для этого"
   ]
  },
  {
   "cell_type": "code",
   "execution_count": 21,
   "metadata": {},
   "outputs": [],
   "source": [
    "tariffs=tariffs.rename(columns={\"tariff_name\":\"tariff\"})"
   ]
  },
  {
   "cell_type": "code",
   "execution_count": 22,
   "metadata": {},
   "outputs": [],
   "source": [
    "df = user_calls.merge(user_messages, on=['user_id', 'month'], how='outer')\\\n",
    ".merge(user_internet, on=['user_id', 'month'], how='outer')\\\n",
    ".merge(users, on='user_id', how='left')\\\n",
    ".merge(tariffs, on='tariff', how='left')"
   ]
  },
  {
   "cell_type": "markdown",
   "metadata": {},
   "source": [
    "Стоит избавить от столбцов, которые не будут использоваться в дальнейшем анализе"
   ]
  },
  {
   "cell_type": "code",
   "execution_count": 23,
   "metadata": {},
   "outputs": [],
   "source": [
    "df = df.drop(['age', 'churn_date', 'first_name', 'last_name', 'reg_date'], axis='columns')"
   ]
  },
  {
   "cell_type": "markdown",
   "metadata": {},
   "source": [
    "Пропущенные значения стоит заменить нулями"
   ]
  },
  {
   "cell_type": "code",
   "execution_count": 24,
   "metadata": {},
   "outputs": [],
   "source": [
    "df.fillna(0, inplace=True)"
   ]
  },
  {
   "cell_type": "markdown",
   "metadata": {},
   "source": [
    "Ежемесячная выручка с каждого пользователя."
   ]
  },
  {
   "cell_type": "code",
   "execution_count": 25,
   "metadata": {},
   "outputs": [],
   "source": [
    "def get_revenue(row):\n",
    "    revenue_by_min = 0\n",
    "    revenue_by_messages = 0\n",
    "    revenue_mb = 0\n",
    "    if row['call_duration']- row['minutes_included'] > 0:\n",
    "        revenue_by_min = (row['call_duration']- row['minutes_included']) * row['rub_per_minute'] \n",
    "        \n",
    "    if row['messages'] - row['messages_included'] > 0:\n",
    "        revenue_by_messages = (row['messages'] - row['messages_included']) * row['rub_per_message'] \n",
    "\n",
    "    if row['mb_used'] - row['mb_per_month_included'] > 0:\n",
    "        revenue_mb = np.ceil((row['mb_used'] - row['mb_per_month_included']) / 1024) * row['rub_per_gb']\n",
    "\n",
    "    return revenue_by_min + revenue_by_messages + revenue_mb + row['rub_monthly_fee']"
   ]
  },
  {
   "cell_type": "code",
   "execution_count": 26,
   "metadata": {},
   "outputs": [],
   "source": [
    "df['revenue'] = df.apply(get_revenue, axis=1)"
   ]
  },
  {
   "cell_type": "code",
   "execution_count": 27,
   "metadata": {},
   "outputs": [
    {
     "data": {
      "text/html": [
       "<div>\n",
       "<style scoped>\n",
       "    .dataframe tbody tr th:only-of-type {\n",
       "        vertical-align: middle;\n",
       "    }\n",
       "\n",
       "    .dataframe tbody tr th {\n",
       "        vertical-align: top;\n",
       "    }\n",
       "\n",
       "    .dataframe thead th {\n",
       "        text-align: right;\n",
       "    }\n",
       "</style>\n",
       "<table border=\"1\" class=\"dataframe\">\n",
       "  <thead>\n",
       "    <tr style=\"text-align: right;\">\n",
       "      <th></th>\n",
       "      <th>user_id</th>\n",
       "      <th>month</th>\n",
       "      <th>call_duration</th>\n",
       "      <th>number_of_calls</th>\n",
       "      <th>messages</th>\n",
       "      <th>mb_used</th>\n",
       "      <th>city</th>\n",
       "      <th>tariff</th>\n",
       "      <th>messages_included</th>\n",
       "      <th>mb_per_month_included</th>\n",
       "      <th>minutes_included</th>\n",
       "      <th>rub_monthly_fee</th>\n",
       "      <th>rub_per_gb</th>\n",
       "      <th>rub_per_message</th>\n",
       "      <th>rub_per_minute</th>\n",
       "      <th>revenue</th>\n",
       "    </tr>\n",
       "  </thead>\n",
       "  <tbody>\n",
       "    <tr>\n",
       "      <th>2852</th>\n",
       "      <td>1452</td>\n",
       "      <td>8</td>\n",
       "      <td>150.0</td>\n",
       "      <td>15.0</td>\n",
       "      <td>51.0</td>\n",
       "      <td>30466.81</td>\n",
       "      <td>Москва</td>\n",
       "      <td>ultra</td>\n",
       "      <td>1000</td>\n",
       "      <td>30720</td>\n",
       "      <td>3000</td>\n",
       "      <td>1950</td>\n",
       "      <td>150</td>\n",
       "      <td>1</td>\n",
       "      <td>1</td>\n",
       "      <td>1950.0</td>\n",
       "    </tr>\n",
       "    <tr>\n",
       "      <th>570</th>\n",
       "      <td>1092</td>\n",
       "      <td>6</td>\n",
       "      <td>212.0</td>\n",
       "      <td>29.0</td>\n",
       "      <td>22.0</td>\n",
       "      <td>7972.08</td>\n",
       "      <td>Ижевск</td>\n",
       "      <td>smart</td>\n",
       "      <td>50</td>\n",
       "      <td>15360</td>\n",
       "      <td>500</td>\n",
       "      <td>550</td>\n",
       "      <td>200</td>\n",
       "      <td>3</td>\n",
       "      <td>3</td>\n",
       "      <td>550.0</td>\n",
       "    </tr>\n",
       "    <tr>\n",
       "      <th>2775</th>\n",
       "      <td>1435</td>\n",
       "      <td>8</td>\n",
       "      <td>358.0</td>\n",
       "      <td>35.0</td>\n",
       "      <td>0.0</td>\n",
       "      <td>18991.00</td>\n",
       "      <td>Москва</td>\n",
       "      <td>smart</td>\n",
       "      <td>50</td>\n",
       "      <td>15360</td>\n",
       "      <td>500</td>\n",
       "      <td>550</td>\n",
       "      <td>200</td>\n",
       "      <td>3</td>\n",
       "      <td>3</td>\n",
       "      <td>1350.0</td>\n",
       "    </tr>\n",
       "    <tr>\n",
       "      <th>52</th>\n",
       "      <td>1006</td>\n",
       "      <td>12</td>\n",
       "      <td>379.0</td>\n",
       "      <td>44.0</td>\n",
       "      <td>0.0</td>\n",
       "      <td>18476.11</td>\n",
       "      <td>Ульяновск</td>\n",
       "      <td>smart</td>\n",
       "      <td>50</td>\n",
       "      <td>15360</td>\n",
       "      <td>500</td>\n",
       "      <td>550</td>\n",
       "      <td>200</td>\n",
       "      <td>3</td>\n",
       "      <td>3</td>\n",
       "      <td>1350.0</td>\n",
       "    </tr>\n",
       "    <tr>\n",
       "      <th>2190</th>\n",
       "      <td>1352</td>\n",
       "      <td>11</td>\n",
       "      <td>881.0</td>\n",
       "      <td>89.0</td>\n",
       "      <td>7.0</td>\n",
       "      <td>18766.26</td>\n",
       "      <td>Рязань</td>\n",
       "      <td>ultra</td>\n",
       "      <td>1000</td>\n",
       "      <td>30720</td>\n",
       "      <td>3000</td>\n",
       "      <td>1950</td>\n",
       "      <td>150</td>\n",
       "      <td>1</td>\n",
       "      <td>1</td>\n",
       "      <td>1950.0</td>\n",
       "    </tr>\n",
       "    <tr>\n",
       "      <th>597</th>\n",
       "      <td>1096</td>\n",
       "      <td>8</td>\n",
       "      <td>369.0</td>\n",
       "      <td>39.0</td>\n",
       "      <td>102.0</td>\n",
       "      <td>3664.59</td>\n",
       "      <td>Брянск</td>\n",
       "      <td>ultra</td>\n",
       "      <td>1000</td>\n",
       "      <td>30720</td>\n",
       "      <td>3000</td>\n",
       "      <td>1950</td>\n",
       "      <td>150</td>\n",
       "      <td>1</td>\n",
       "      <td>1</td>\n",
       "      <td>1950.0</td>\n",
       "    </tr>\n",
       "    <tr>\n",
       "      <th>1565</th>\n",
       "      <td>1250</td>\n",
       "      <td>12</td>\n",
       "      <td>446.0</td>\n",
       "      <td>50.0</td>\n",
       "      <td>43.0</td>\n",
       "      <td>11967.90</td>\n",
       "      <td>Смоленск</td>\n",
       "      <td>smart</td>\n",
       "      <td>50</td>\n",
       "      <td>15360</td>\n",
       "      <td>500</td>\n",
       "      <td>550</td>\n",
       "      <td>200</td>\n",
       "      <td>3</td>\n",
       "      <td>3</td>\n",
       "      <td>550.0</td>\n",
       "    </tr>\n",
       "    <tr>\n",
       "      <th>2122</th>\n",
       "      <td>1339</td>\n",
       "      <td>12</td>\n",
       "      <td>617.0</td>\n",
       "      <td>66.0</td>\n",
       "      <td>0.0</td>\n",
       "      <td>20769.96</td>\n",
       "      <td>Москва</td>\n",
       "      <td>smart</td>\n",
       "      <td>50</td>\n",
       "      <td>15360</td>\n",
       "      <td>500</td>\n",
       "      <td>550</td>\n",
       "      <td>200</td>\n",
       "      <td>3</td>\n",
       "      <td>3</td>\n",
       "      <td>2101.0</td>\n",
       "    </tr>\n",
       "    <tr>\n",
       "      <th>1837</th>\n",
       "      <td>1294</td>\n",
       "      <td>4</td>\n",
       "      <td>204.0</td>\n",
       "      <td>27.0</td>\n",
       "      <td>18.0</td>\n",
       "      <td>21066.00</td>\n",
       "      <td>Владивосток</td>\n",
       "      <td>ultra</td>\n",
       "      <td>1000</td>\n",
       "      <td>30720</td>\n",
       "      <td>3000</td>\n",
       "      <td>1950</td>\n",
       "      <td>150</td>\n",
       "      <td>1</td>\n",
       "      <td>1</td>\n",
       "      <td>1950.0</td>\n",
       "    </tr>\n",
       "    <tr>\n",
       "      <th>2414</th>\n",
       "      <td>1384</td>\n",
       "      <td>5</td>\n",
       "      <td>737.0</td>\n",
       "      <td>83.0</td>\n",
       "      <td>4.0</td>\n",
       "      <td>23380.30</td>\n",
       "      <td>Нижний Новгород</td>\n",
       "      <td>smart</td>\n",
       "      <td>50</td>\n",
       "      <td>15360</td>\n",
       "      <td>500</td>\n",
       "      <td>550</td>\n",
       "      <td>200</td>\n",
       "      <td>3</td>\n",
       "      <td>3</td>\n",
       "      <td>2861.0</td>\n",
       "    </tr>\n",
       "  </tbody>\n",
       "</table>\n",
       "</div>"
      ],
      "text/plain": [
       "      user_id  month  call_duration  number_of_calls  messages   mb_used  \\\n",
       "2852     1452      8          150.0             15.0      51.0  30466.81   \n",
       "570      1092      6          212.0             29.0      22.0   7972.08   \n",
       "2775     1435      8          358.0             35.0       0.0  18991.00   \n",
       "52       1006     12          379.0             44.0       0.0  18476.11   \n",
       "2190     1352     11          881.0             89.0       7.0  18766.26   \n",
       "597      1096      8          369.0             39.0     102.0   3664.59   \n",
       "1565     1250     12          446.0             50.0      43.0  11967.90   \n",
       "2122     1339     12          617.0             66.0       0.0  20769.96   \n",
       "1837     1294      4          204.0             27.0      18.0  21066.00   \n",
       "2414     1384      5          737.0             83.0       4.0  23380.30   \n",
       "\n",
       "                 city tariff  messages_included  mb_per_month_included  \\\n",
       "2852           Москва  ultra               1000                  30720   \n",
       "570            Ижевск  smart                 50                  15360   \n",
       "2775           Москва  smart                 50                  15360   \n",
       "52          Ульяновск  smart                 50                  15360   \n",
       "2190           Рязань  ultra               1000                  30720   \n",
       "597            Брянск  ultra               1000                  30720   \n",
       "1565         Смоленск  smart                 50                  15360   \n",
       "2122           Москва  smart                 50                  15360   \n",
       "1837      Владивосток  ultra               1000                  30720   \n",
       "2414  Нижний Новгород  smart                 50                  15360   \n",
       "\n",
       "      minutes_included  rub_monthly_fee  rub_per_gb  rub_per_message  \\\n",
       "2852              3000             1950         150                1   \n",
       "570                500              550         200                3   \n",
       "2775               500              550         200                3   \n",
       "52                 500              550         200                3   \n",
       "2190              3000             1950         150                1   \n",
       "597               3000             1950         150                1   \n",
       "1565               500              550         200                3   \n",
       "2122               500              550         200                3   \n",
       "1837              3000             1950         150                1   \n",
       "2414               500              550         200                3   \n",
       "\n",
       "      rub_per_minute  revenue  \n",
       "2852               1   1950.0  \n",
       "570                3    550.0  \n",
       "2775               3   1350.0  \n",
       "52                 3   1350.0  \n",
       "2190               1   1950.0  \n",
       "597                1   1950.0  \n",
       "1565               3    550.0  \n",
       "2122               3   2101.0  \n",
       "1837               1   1950.0  \n",
       "2414               3   2861.0  "
      ]
     },
     "execution_count": 27,
     "metadata": {},
     "output_type": "execute_result"
    }
   ],
   "source": [
    "df.sample(10)"
   ]
  },
  {
   "cell_type": "code",
   "execution_count": 28,
   "metadata": {},
   "outputs": [
    {
     "name": "stdout",
     "output_type": "stream",
     "text": [
      "<class 'pandas.core.frame.DataFrame'>\n",
      "Int64Index: 3214 entries, 0 to 3213\n",
      "Data columns (total 16 columns):\n",
      " #   Column                 Non-Null Count  Dtype  \n",
      "---  ------                 --------------  -----  \n",
      " 0   user_id                3214 non-null   int64  \n",
      " 1   month                  3214 non-null   int64  \n",
      " 2   call_duration          3214 non-null   float64\n",
      " 3   number_of_calls        3214 non-null   float64\n",
      " 4   messages               3214 non-null   float64\n",
      " 5   mb_used                3214 non-null   float64\n",
      " 6   city                   3214 non-null   object \n",
      " 7   tariff                 3214 non-null   object \n",
      " 8   messages_included      3214 non-null   int64  \n",
      " 9   mb_per_month_included  3214 non-null   int64  \n",
      " 10  minutes_included       3214 non-null   int64  \n",
      " 11  rub_monthly_fee        3214 non-null   int64  \n",
      " 12  rub_per_gb             3214 non-null   int64  \n",
      " 13  rub_per_message        3214 non-null   int64  \n",
      " 14  rub_per_minute         3214 non-null   int64  \n",
      " 15  revenue                3214 non-null   float64\n",
      "dtypes: float64(5), int64(9), object(2)\n",
      "memory usage: 426.9+ KB\n"
     ]
    }
   ],
   "source": [
    "df.info()"
   ]
  },
  {
   "cell_type": "markdown",
   "metadata": {},
   "source": [
    "В результате предобработки данных получилась сгрупированная по пользователям и месяцам таблица со всеми необходимыми показателями."
   ]
  },
  {
   "cell_type": "markdown",
   "metadata": {},
   "source": [
    "## Анализ данных"
   ]
  },
  {
   "cell_type": "markdown",
   "metadata": {},
   "source": [
    "### Cколько в среднем пользователю требуется минут, сообщений и мегабайт каждый месяц."
   ]
  },
  {
   "cell_type": "code",
   "execution_count": 29,
   "metadata": {},
   "outputs": [],
   "source": [
    "medians_by_month = df.pivot_table(index=['tariff', 'month'], values=['call_duration', 'messages', 'mb_used'], aggfunc=['median', 'count']).drop([( 'count',       'mb_used'), ( 'count',      'messages')], axis='columns')\n",
    "#.rename(columns={( \"count\", \"call_duration\"):\"users\"}) не понимаю, как в этом случае можно переименовать столбец"
   ]
  },
  {
   "cell_type": "code",
   "execution_count": 30,
   "metadata": {},
   "outputs": [
    {
     "data": {
      "text/html": [
       "<div>\n",
       "<style scoped>\n",
       "    .dataframe tbody tr th:only-of-type {\n",
       "        vertical-align: middle;\n",
       "    }\n",
       "\n",
       "    .dataframe tbody tr th {\n",
       "        vertical-align: top;\n",
       "    }\n",
       "\n",
       "    .dataframe thead tr th {\n",
       "        text-align: left;\n",
       "    }\n",
       "\n",
       "    .dataframe thead tr:last-of-type th {\n",
       "        text-align: right;\n",
       "    }\n",
       "</style>\n",
       "<table border=\"1\" class=\"dataframe\">\n",
       "  <thead>\n",
       "    <tr>\n",
       "      <th></th>\n",
       "      <th></th>\n",
       "      <th colspan=\"3\" halign=\"left\">median</th>\n",
       "      <th>count</th>\n",
       "    </tr>\n",
       "    <tr>\n",
       "      <th></th>\n",
       "      <th></th>\n",
       "      <th>call_duration</th>\n",
       "      <th>mb_used</th>\n",
       "      <th>messages</th>\n",
       "      <th>call_duration</th>\n",
       "    </tr>\n",
       "    <tr>\n",
       "      <th>tariff</th>\n",
       "      <th>month</th>\n",
       "      <th></th>\n",
       "      <th></th>\n",
       "      <th></th>\n",
       "      <th></th>\n",
       "    </tr>\n",
       "  </thead>\n",
       "  <tbody>\n",
       "    <tr>\n",
       "      <th rowspan=\"12\" valign=\"top\">smart</th>\n",
       "      <th>1</th>\n",
       "      <td>162.5</td>\n",
       "      <td>7096.185</td>\n",
       "      <td>15.0</td>\n",
       "      <td>34</td>\n",
       "    </tr>\n",
       "    <tr>\n",
       "      <th>2</th>\n",
       "      <td>258.0</td>\n",
       "      <td>12553.710</td>\n",
       "      <td>20.0</td>\n",
       "      <td>58</td>\n",
       "    </tr>\n",
       "    <tr>\n",
       "      <th>3</th>\n",
       "      <td>409.0</td>\n",
       "      <td>15670.250</td>\n",
       "      <td>23.0</td>\n",
       "      <td>77</td>\n",
       "    </tr>\n",
       "    <tr>\n",
       "      <th>4</th>\n",
       "      <td>368.5</td>\n",
       "      <td>14087.650</td>\n",
       "      <td>28.0</td>\n",
       "      <td>112</td>\n",
       "    </tr>\n",
       "    <tr>\n",
       "      <th>5</th>\n",
       "      <td>433.0</td>\n",
       "      <td>16323.940</td>\n",
       "      <td>30.0</td>\n",
       "      <td>141</td>\n",
       "    </tr>\n",
       "    <tr>\n",
       "      <th>6</th>\n",
       "      <td>400.0</td>\n",
       "      <td>16077.440</td>\n",
       "      <td>28.0</td>\n",
       "      <td>164</td>\n",
       "    </tr>\n",
       "    <tr>\n",
       "      <th>7</th>\n",
       "      <td>414.0</td>\n",
       "      <td>15925.290</td>\n",
       "      <td>29.0</td>\n",
       "      <td>201</td>\n",
       "    </tr>\n",
       "    <tr>\n",
       "      <th>8</th>\n",
       "      <td>432.0</td>\n",
       "      <td>16833.490</td>\n",
       "      <td>27.0</td>\n",
       "      <td>235</td>\n",
       "    </tr>\n",
       "    <tr>\n",
       "      <th>9</th>\n",
       "      <td>435.0</td>\n",
       "      <td>16028.435</td>\n",
       "      <td>30.0</td>\n",
       "      <td>260</td>\n",
       "    </tr>\n",
       "    <tr>\n",
       "      <th>10</th>\n",
       "      <td>427.5</td>\n",
       "      <td>17225.335</td>\n",
       "      <td>30.0</td>\n",
       "      <td>294</td>\n",
       "    </tr>\n",
       "    <tr>\n",
       "      <th>11</th>\n",
       "      <td>428.5</td>\n",
       "      <td>17013.800</td>\n",
       "      <td>28.0</td>\n",
       "      <td>316</td>\n",
       "    </tr>\n",
       "    <tr>\n",
       "      <th>12</th>\n",
       "      <td>471.0</td>\n",
       "      <td>17713.510</td>\n",
       "      <td>29.0</td>\n",
       "      <td>337</td>\n",
       "    </tr>\n",
       "    <tr>\n",
       "      <th rowspan=\"12\" valign=\"top\">ultra</th>\n",
       "      <th>1</th>\n",
       "      <td>382.0</td>\n",
       "      <td>14791.370</td>\n",
       "      <td>32.0</td>\n",
       "      <td>9</td>\n",
       "    </tr>\n",
       "    <tr>\n",
       "      <th>2</th>\n",
       "      <td>168.0</td>\n",
       "      <td>7327.125</td>\n",
       "      <td>5.5</td>\n",
       "      <td>24</td>\n",
       "    </tr>\n",
       "    <tr>\n",
       "      <th>3</th>\n",
       "      <td>403.0</td>\n",
       "      <td>17495.180</td>\n",
       "      <td>20.0</td>\n",
       "      <td>37</td>\n",
       "    </tr>\n",
       "    <tr>\n",
       "      <th>4</th>\n",
       "      <td>453.0</td>\n",
       "      <td>16645.780</td>\n",
       "      <td>17.0</td>\n",
       "      <td>55</td>\n",
       "    </tr>\n",
       "    <tr>\n",
       "      <th>5</th>\n",
       "      <td>519.0</td>\n",
       "      <td>18696.430</td>\n",
       "      <td>25.0</td>\n",
       "      <td>67</td>\n",
       "    </tr>\n",
       "    <tr>\n",
       "      <th>6</th>\n",
       "      <td>479.0</td>\n",
       "      <td>19480.205</td>\n",
       "      <td>27.5</td>\n",
       "      <td>84</td>\n",
       "    </tr>\n",
       "    <tr>\n",
       "      <th>7</th>\n",
       "      <td>542.0</td>\n",
       "      <td>20014.220</td>\n",
       "      <td>38.0</td>\n",
       "      <td>91</td>\n",
       "    </tr>\n",
       "    <tr>\n",
       "      <th>8</th>\n",
       "      <td>500.0</td>\n",
       "      <td>18932.620</td>\n",
       "      <td>40.0</td>\n",
       "      <td>107</td>\n",
       "    </tr>\n",
       "    <tr>\n",
       "      <th>9</th>\n",
       "      <td>520.0</td>\n",
       "      <td>19656.300</td>\n",
       "      <td>43.0</td>\n",
       "      <td>115</td>\n",
       "    </tr>\n",
       "    <tr>\n",
       "      <th>10</th>\n",
       "      <td>533.0</td>\n",
       "      <td>20338.150</td>\n",
       "      <td>49.0</td>\n",
       "      <td>123</td>\n",
       "    </tr>\n",
       "    <tr>\n",
       "      <th>11</th>\n",
       "      <td>546.0</td>\n",
       "      <td>18377.790</td>\n",
       "      <td>43.0</td>\n",
       "      <td>134</td>\n",
       "    </tr>\n",
       "    <tr>\n",
       "      <th>12</th>\n",
       "      <td>584.0</td>\n",
       "      <td>21972.630</td>\n",
       "      <td>51.0</td>\n",
       "      <td>139</td>\n",
       "    </tr>\n",
       "  </tbody>\n",
       "</table>\n",
       "</div>"
      ],
      "text/plain": [
       "                    median                             count\n",
       "             call_duration    mb_used messages call_duration\n",
       "tariff month                                                \n",
       "smart  1             162.5   7096.185     15.0            34\n",
       "       2             258.0  12553.710     20.0            58\n",
       "       3             409.0  15670.250     23.0            77\n",
       "       4             368.5  14087.650     28.0           112\n",
       "       5             433.0  16323.940     30.0           141\n",
       "       6             400.0  16077.440     28.0           164\n",
       "       7             414.0  15925.290     29.0           201\n",
       "       8             432.0  16833.490     27.0           235\n",
       "       9             435.0  16028.435     30.0           260\n",
       "       10            427.5  17225.335     30.0           294\n",
       "       11            428.5  17013.800     28.0           316\n",
       "       12            471.0  17713.510     29.0           337\n",
       "ultra  1             382.0  14791.370     32.0             9\n",
       "       2             168.0   7327.125      5.5            24\n",
       "       3             403.0  17495.180     20.0            37\n",
       "       4             453.0  16645.780     17.0            55\n",
       "       5             519.0  18696.430     25.0            67\n",
       "       6             479.0  19480.205     27.5            84\n",
       "       7             542.0  20014.220     38.0            91\n",
       "       8             500.0  18932.620     40.0           107\n",
       "       9             520.0  19656.300     43.0           115\n",
       "       10            533.0  20338.150     49.0           123\n",
       "       11            546.0  18377.790     43.0           134\n",
       "       12            584.0  21972.630     51.0           139"
      ]
     },
     "execution_count": 30,
     "metadata": {},
     "output_type": "execute_result"
    }
   ],
   "source": [
    "medians_by_month"
   ]
  },
  {
   "cell_type": "markdown",
   "metadata": {},
   "source": [
    "### Среднее, медиана, дисперсия и стандартное отклонение для продолжительности звонков, использованного траффика и количества сообщений по тарифам."
   ]
  },
  {
   "cell_type": "code",
   "execution_count": 31,
   "metadata": {},
   "outputs": [],
   "source": [
    "df_stat = df.pivot_table(index=['tariff'], values=['call_duration', 'mb_used', 'messages'], aggfunc={'call_duration': [np.mean, np.median, np.var, np.std], 'mb_used': [np.mean, np.median, np.var, np.std], 'messages': [np.mean, np.median, np.var, np.std]}).applymap(\"{:.1f}\".format)"
   ]
  },
  {
   "cell_type": "code",
   "execution_count": 32,
   "metadata": {},
   "outputs": [
    {
     "data": {
      "text/html": [
       "<div>\n",
       "<style scoped>\n",
       "    .dataframe tbody tr th:only-of-type {\n",
       "        vertical-align: middle;\n",
       "    }\n",
       "\n",
       "    .dataframe tbody tr th {\n",
       "        vertical-align: top;\n",
       "    }\n",
       "\n",
       "    .dataframe thead tr th {\n",
       "        text-align: left;\n",
       "    }\n",
       "\n",
       "    .dataframe thead tr:last-of-type th {\n",
       "        text-align: right;\n",
       "    }\n",
       "</style>\n",
       "<table border=\"1\" class=\"dataframe\">\n",
       "  <thead>\n",
       "    <tr>\n",
       "      <th></th>\n",
       "      <th colspan=\"4\" halign=\"left\">call_duration</th>\n",
       "      <th colspan=\"4\" halign=\"left\">mb_used</th>\n",
       "      <th colspan=\"4\" halign=\"left\">messages</th>\n",
       "    </tr>\n",
       "    <tr>\n",
       "      <th></th>\n",
       "      <th>mean</th>\n",
       "      <th>median</th>\n",
       "      <th>std</th>\n",
       "      <th>var</th>\n",
       "      <th>mean</th>\n",
       "      <th>median</th>\n",
       "      <th>std</th>\n",
       "      <th>var</th>\n",
       "      <th>mean</th>\n",
       "      <th>median</th>\n",
       "      <th>std</th>\n",
       "      <th>var</th>\n",
       "    </tr>\n",
       "    <tr>\n",
       "      <th>tariff</th>\n",
       "      <th></th>\n",
       "      <th></th>\n",
       "      <th></th>\n",
       "      <th></th>\n",
       "      <th></th>\n",
       "      <th></th>\n",
       "      <th></th>\n",
       "      <th></th>\n",
       "      <th></th>\n",
       "      <th></th>\n",
       "      <th></th>\n",
       "      <th></th>\n",
       "    </tr>\n",
       "  </thead>\n",
       "  <tbody>\n",
       "    <tr>\n",
       "      <th>smart</th>\n",
       "      <td>417.9</td>\n",
       "      <td>422.0</td>\n",
       "      <td>190.3</td>\n",
       "      <td>36219.3</td>\n",
       "      <td>16208.4</td>\n",
       "      <td>16506.8</td>\n",
       "      <td>5870.5</td>\n",
       "      <td>34462496.5</td>\n",
       "      <td>33.4</td>\n",
       "      <td>28.0</td>\n",
       "      <td>28.2</td>\n",
       "      <td>796.8</td>\n",
       "    </tr>\n",
       "    <tr>\n",
       "      <th>ultra</th>\n",
       "      <td>526.6</td>\n",
       "      <td>518.0</td>\n",
       "      <td>317.6</td>\n",
       "      <td>100873.6</td>\n",
       "      <td>19468.8</td>\n",
       "      <td>19308.0</td>\n",
       "      <td>10087.2</td>\n",
       "      <td>101751013.8</td>\n",
       "      <td>49.4</td>\n",
       "      <td>38.0</td>\n",
       "      <td>47.8</td>\n",
       "      <td>2285.3</td>\n",
       "    </tr>\n",
       "  </tbody>\n",
       "</table>\n",
       "</div>"
      ],
      "text/plain": [
       "       call_duration                          mb_used                    \\\n",
       "                mean median    std       var     mean   median      std   \n",
       "tariff                                                                    \n",
       "smart          417.9  422.0  190.3   36219.3  16208.4  16506.8   5870.5   \n",
       "ultra          526.6  518.0  317.6  100873.6  19468.8  19308.0  10087.2   \n",
       "\n",
       "                    messages                       \n",
       "                var     mean median   std     var  \n",
       "tariff                                             \n",
       "smart    34462496.5     33.4   28.0  28.2   796.8  \n",
       "ultra   101751013.8     49.4   38.0  47.8  2285.3  "
      ]
     },
     "execution_count": 32,
     "metadata": {},
     "output_type": "execute_result"
    }
   ],
   "source": [
    "df_stat"
   ]
  },
  {
   "cell_type": "code",
   "execution_count": 33,
   "metadata": {},
   "outputs": [
    {
     "data": {
      "text/html": [
       "<div>\n",
       "<style scoped>\n",
       "    .dataframe tbody tr th:only-of-type {\n",
       "        vertical-align: middle;\n",
       "    }\n",
       "\n",
       "    .dataframe tbody tr th {\n",
       "        vertical-align: top;\n",
       "    }\n",
       "\n",
       "    .dataframe thead th {\n",
       "        text-align: right;\n",
       "    }\n",
       "</style>\n",
       "<table border=\"1\" class=\"dataframe\">\n",
       "  <thead>\n",
       "    <tr style=\"text-align: right;\">\n",
       "      <th></th>\n",
       "      <th>messages_included</th>\n",
       "      <th>mb_per_month_included</th>\n",
       "      <th>minutes_included</th>\n",
       "      <th>rub_monthly_fee</th>\n",
       "      <th>rub_per_gb</th>\n",
       "      <th>rub_per_message</th>\n",
       "      <th>rub_per_minute</th>\n",
       "      <th>tariff</th>\n",
       "    </tr>\n",
       "  </thead>\n",
       "  <tbody>\n",
       "    <tr>\n",
       "      <th>0</th>\n",
       "      <td>50</td>\n",
       "      <td>15360</td>\n",
       "      <td>500</td>\n",
       "      <td>550</td>\n",
       "      <td>200</td>\n",
       "      <td>3</td>\n",
       "      <td>3</td>\n",
       "      <td>smart</td>\n",
       "    </tr>\n",
       "    <tr>\n",
       "      <th>1</th>\n",
       "      <td>1000</td>\n",
       "      <td>30720</td>\n",
       "      <td>3000</td>\n",
       "      <td>1950</td>\n",
       "      <td>150</td>\n",
       "      <td>1</td>\n",
       "      <td>1</td>\n",
       "      <td>ultra</td>\n",
       "    </tr>\n",
       "  </tbody>\n",
       "</table>\n",
       "</div>"
      ],
      "text/plain": [
       "   messages_included  mb_per_month_included  minutes_included  \\\n",
       "0                 50                  15360               500   \n",
       "1               1000                  30720              3000   \n",
       "\n",
       "   rub_monthly_fee  rub_per_gb  rub_per_message  rub_per_minute tariff  \n",
       "0              550         200                3               3  smart  \n",
       "1             1950         150                1               1  ultra  "
      ]
     },
     "execution_count": 33,
     "metadata": {},
     "output_type": "execute_result"
    }
   ],
   "source": [
    "tariffs"
   ]
  },
  {
   "cell_type": "markdown",
   "metadata": {},
   "source": [
    "В среднем пользователи тарифа ультра больше разговаривают по телефону, отправляют смс и пользуются интернетом. Среднестатестические пользователи не превышают тарифные лимиты по минутам и смс, только пользователям смарт часто приходится докупать 1 гб трафика сверх лимита. Дисперсии тарифа ультра больше, чем у тарифа смарт, это говорит нам о большем размахе значений. Выборка бралась, скорее всего, в первый год работы тарифов, т.к. заметен рост числа пользователей с каждым месяцем."
   ]
  },
  {
   "cell_type": "markdown",
   "metadata": {},
   "source": [
    "### Боксплоты и диаграммы для продолжительности звонков, использованного траффика и количества сообщений для разных тарифов."
   ]
  },
  {
   "cell_type": "code",
   "execution_count": 34,
   "metadata": {},
   "outputs": [
    {
     "data": {
      "text/plain": [
       "<AxesSubplot:title={'center':'call_duration'}, xlabel='tariff'>"
      ]
     },
     "execution_count": 34,
     "metadata": {},
     "output_type": "execute_result"
    },
    {
     "data": {
      "image/png": "[encoded data removed]",
      "text/plain": [
       "<Figure size 432x576 with 1 Axes>"
      ]
     },
     "metadata": {
      "needs_background": "light"
     },
     "output_type": "display_data"
    }
   ],
   "source": [
    "df.boxplot(column='call_duration', by='tariff',  figsize=(6,8))"
   ]
  },
  {
   "cell_type": "code",
   "execution_count": 35,
   "metadata": {
    "scrolled": false
   },
   "outputs": [
    {
     "data": {
      "text/plain": [
       "Text(0.5, 1.0, 'Распределение длительности звонков в месяц для тарифов \"Смарт\" и \"Ультра\"')"
      ]
     },
     "execution_count": 35,
     "metadata": {},
     "output_type": "execute_result"
    },
    {
     "data": {
      "image/png": "[encoded data removed]",
      "text/plain": [
       "<Figure size 936x504 with 1 Axes>"
      ]
     },
     "metadata": {
      "needs_background": "light"
     },
     "output_type": "display_data"
    }
   ],
   "source": [
    "ax=df.query('tariff == \"ultra\"').plot(y='call_duration',grid=True,figsize=(13,7), kind='hist', bins=200, alpha=0.7, label='ultra')\n",
    "df.query('tariff == \"smart\"').plot(y='call_duration',grid=True,figsize=(13,7),kind='hist', bins=200, alpha=0.7, label='smart', ax=ax)\n",
    "plt.title('Распределение длительности звонков в месяц для тарифов \"Смарт\" и \"Ультра\"')"
   ]
  },
  {
   "cell_type": "markdown",
   "metadata": {},
   "source": [
    "Из боксплота и гистораммы видно, что пользователи тарифа смарт стремятся уложиться в лимит по минутам и разговаривают в основном от 280 до 545 в месяц, но часто это не получается. Пользователи тарифа ультра чувствуют себя более свободно, поэтому разговаривают сколько хотят. Пики в районе 0 объясняются пользователями, которые используют только смс и интернет."
   ]
  },
  {
   "cell_type": "code",
   "execution_count": 36,
   "metadata": {},
   "outputs": [
    {
     "data": {
      "text/plain": [
       "<AxesSubplot:title={'center':'mb_used'}, xlabel='tariff'>"
      ]
     },
     "execution_count": 36,
     "metadata": {},
     "output_type": "execute_result"
    },
    {
     "data": {
      "image/png": "[encoded data removed]",
      "text/plain": [
       "<Figure size 432x576 with 1 Axes>"
      ]
     },
     "metadata": {
      "needs_background": "light"
     },
     "output_type": "display_data"
    }
   ],
   "source": [
    "df.boxplot(column='mb_used', by='tariff',  figsize=(6,8))"
   ]
  },
  {
   "cell_type": "code",
   "execution_count": 37,
   "metadata": {
    "scrolled": false
   },
   "outputs": [
    {
     "data": {
      "text/plain": [
       "Text(0.5, 1.0, 'Распределение использованного интернет-трафика в месяц для тарифов \"Смарт\" и \"Ультра\"')"
      ]
     },
     "execution_count": 37,
     "metadata": {},
     "output_type": "execute_result"
    },
    {
     "data": {
      "image/png": "[encoded data removed]",
      "text/plain": [
       "<Figure size 936x504 with 1 Axes>"
      ]
     },
     "metadata": {
      "needs_background": "light"
     },
     "output_type": "display_data"
    }
   ],
   "source": [
    "ax=df.query('tariff == \"ultra\"').plot(y='mb_used',grid=True,figsize=(13,7), kind='hist', bins=200, alpha=0.7, label='ultra')\n",
    "df.query('tariff == \"smart\"').plot(y='mb_used',grid=True,figsize=(13,7),kind='hist', bins=200, alpha=0.7, label='smart', ax=ax)\n",
    "plt.title('Распределение использованного интернет-трафика в месяц для тарифов \"Смарт\" и \"Ультра\"')"
   ]
  },
  {
   "cell_type": "markdown",
   "metadata": {},
   "source": [
    "Пользователи тарифа смарт также стараются укладываться в лимит по использованию интернет-трафика, но у большинства это не получается, в основном он тратят от 12 до 20 гб. Пользователи ультра свободнее расходуют трафик, даже после выхода за лимит, большая их часть тратит от 12 до 26 гб."
   ]
  },
  {
   "cell_type": "code",
   "execution_count": 38,
   "metadata": {},
   "outputs": [
    {
     "data": {
      "text/plain": [
       "<AxesSubplot:title={'center':'messages'}, xlabel='tariff'>"
      ]
     },
     "execution_count": 38,
     "metadata": {},
     "output_type": "execute_result"
    },
    {
     "data": {
      "image/png": "[encoded data removed]",
      "text/plain": [
       "<Figure size 432x576 with 1 Axes>"
      ]
     },
     "metadata": {
      "needs_background": "light"
     },
     "output_type": "display_data"
    }
   ],
   "source": [
    "df.boxplot(column='messages', by='tariff',  figsize=(6,8))"
   ]
  },
  {
   "cell_type": "code",
   "execution_count": 39,
   "metadata": {
    "scrolled": false
   },
   "outputs": [
    {
     "data": {
      "text/plain": [
       "Text(0.5, 1.0, 'Распределение количества сообщений в месяц для тарифов \"Смарт\" и \"Ультра\"')"
      ]
     },
     "execution_count": 39,
     "metadata": {},
     "output_type": "execute_result"
    },
    {
     "data": {
      "image/png": "[encoded data removed]",
      "text/plain": [
       "<Figure size 936x504 with 1 Axes>"
      ]
     },
     "metadata": {
      "needs_background": "light"
     },
     "output_type": "display_data"
    }
   ],
   "source": [
    "ax=df.query('tariff == \"ultra\"').plot(y='messages',grid=True,figsize=(13,7), kind='hist', bins=100, alpha=0.7, label='ultra')\n",
    "df.query('tariff == \"smart\"').plot(y='messages',grid=True,figsize=(13,7),kind='hist', bins=100, alpha=0.7, label='smart', ax=ax)\n",
    "plt.title('Распределение количества сообщений в месяц для тарифов \"Смарт\" и \"Ультра\"')"
   ]
  },
  {
   "cell_type": "code",
   "execution_count": 40,
   "metadata": {},
   "outputs": [
    {
     "data": {
      "text/plain": [
       "count    2229.000000\n",
       "mean       33.384029\n",
       "std        28.227876\n",
       "min         0.000000\n",
       "25%        10.000000\n",
       "50%        28.000000\n",
       "75%        51.000000\n",
       "max       143.000000\n",
       "Name: messages, dtype: float64"
      ]
     },
     "execution_count": 40,
     "metadata": {},
     "output_type": "execute_result"
    }
   ],
   "source": [
    "df.query('tariff == \"smart\"')['messages'].describe()"
   ]
  },
  {
   "cell_type": "markdown",
   "metadata": {},
   "source": [
    "На гистограмме видно большое количество пользователей, которые вообще не используют смс. Пользователи смарт в основном укладываются в лимит по смс (от 10 до 51 в месяц), но часть все равно платит за дополнительные. Пользователи ультра даже близко не приближаюся к лимиту, и опять же пользуются смс по-разному, без ярко выраженных пиков."
   ]
  },
  {
   "cell_type": "markdown",
   "metadata": {},
   "source": [
    "Минуты разговора, число сообщений и объем потраченного интернет-трафика по тарифу «Ультра» имеет большую дисперсию по сравнению с тарифом «Смарт», и медианы по вышеперечисленным признакам также смещены в большую сторону. Кроме того, выбросов в рамках более дешевого тарифа существенно больше.\n",
    "Из боксплотов видно, что пользователи тарифа смарт часто превышают лимиты и оплачивают дополнительные гб и минуты, реже смс.\n",
    "Поведение пользователей тарифа \"Ультра\" более разнообразное. Пользователи дорогого тарифа более свободны в выборе того, как именно использовать объемы тарифного пакета: возможно, использование дорогого тарифа помогает им не думать о том, что в какой-то момент у них отключится интернет или закончится пакет по минутам разговора."
   ]
  },
  {
   "cell_type": "markdown",
   "metadata": {},
   "source": [
    "## Проверка гипотез"
   ]
  },
  {
   "cell_type": "markdown",
   "metadata": {},
   "source": [
    "### Cредняя выручка пользователей тарифов «Ультра» и «Смарт» различается"
   ]
  },
  {
   "cell_type": "markdown",
   "metadata": {},
   "source": [
    "H0  - средняя выручка от пользователей тарифа \"Ультра\" равна средней выручке от пользователей тарифа \"Смарт\"\n",
    "H1 - средние выручки отличаются\n",
    "\n",
    "α = 1%"
   ]
  },
  {
   "cell_type": "code",
   "execution_count": 41,
   "metadata": {},
   "outputs": [],
   "source": [
    "smart = df.query('tariff == \"smart\"')['revenue']\n",
    "ultra = df.query('tariff == \"ultra\"')['revenue']"
   ]
  },
  {
   "cell_type": "code",
   "execution_count": 42,
   "metadata": {},
   "outputs": [],
   "source": [
    "alpha=0.01"
   ]
  },
  {
   "cell_type": "markdown",
   "metadata": {},
   "source": [
    "Дисперсии выборок пользователей тарифа смарт и ультра"
   ]
  },
  {
   "cell_type": "code",
   "execution_count": 43,
   "metadata": {},
   "outputs": [
    {
     "name": "stdout",
     "output_type": "stream",
     "text": [
      "Дисперсия выборки пользователей тарифа смарт: 669785.7080064153\n",
      "Дисперсия выборки пользователей тарифа ультра: 141516.74507861698\n"
     ]
    }
   ],
   "source": [
    "print('Дисперсия выборки пользователей тарифа смарт:', smart.var(ddof=1))\n",
    "print('Дисперсия выборки пользователей тарифа ультра:', ultra.var(ddof=1))"
   ]
  },
  {
   "cell_type": "markdown",
   "metadata": {},
   "source": [
    "Т.к. дисперсии выборок довольно сильно отличаются, функции ttest_ind необходимо добавить аргумент equal_var=False "
   ]
  },
  {
   "cell_type": "code",
   "execution_count": 44,
   "metadata": {},
   "outputs": [
    {
     "name": "stdout",
     "output_type": "stream",
     "text": [
      "p-значение: 4.2606313931076085e-250\n",
      "Отвергаем нулевую гипотезу\n"
     ]
    }
   ],
   "source": [
    "results = st.ttest_ind(smart, ultra, equal_var=False) \n",
    "print('p-значение:', results.pvalue)\n",
    "\n",
    "if (results.pvalue < alpha):\n",
    "    print(\"Отвергаем нулевую гипотезу\")\n",
    "else:\n",
    "    print(\"Не получилось отвергнуть нулевую гипотезу\")"
   ]
  },
  {
   "cell_type": "markdown",
   "metadata": {},
   "source": [
    "Получилось отвергнуть нулевую гипотезу о том, что средние выручки тарифов равны. Следовательно, можно сделать вывод, что средний доход от пользователей тарифов ультра и смарт с вероятностью 99.9% будет отличаться. \n",
    "Для наглядности можно вывестисредние доходы от пользователей с разными тарифами."
   ]
  },
  {
   "cell_type": "code",
   "execution_count": 45,
   "metadata": {},
   "outputs": [
    {
     "data": {
      "text/html": [
       "<div>\n",
       "<style scoped>\n",
       "    .dataframe tbody tr th:only-of-type {\n",
       "        vertical-align: middle;\n",
       "    }\n",
       "\n",
       "    .dataframe tbody tr th {\n",
       "        vertical-align: top;\n",
       "    }\n",
       "\n",
       "    .dataframe thead th {\n",
       "        text-align: right;\n",
       "    }\n",
       "</style>\n",
       "<table border=\"1\" class=\"dataframe\">\n",
       "  <thead>\n",
       "    <tr style=\"text-align: right;\">\n",
       "      <th></th>\n",
       "      <th>revenue</th>\n",
       "    </tr>\n",
       "    <tr>\n",
       "      <th>tariff</th>\n",
       "      <th></th>\n",
       "    </tr>\n",
       "  </thead>\n",
       "  <tbody>\n",
       "    <tr>\n",
       "      <th>smart</th>\n",
       "      <td>1289.973531</td>\n",
       "    </tr>\n",
       "    <tr>\n",
       "      <th>ultra</th>\n",
       "      <td>2070.152284</td>\n",
       "    </tr>\n",
       "  </tbody>\n",
       "</table>\n",
       "</div>"
      ],
      "text/plain": [
       "            revenue\n",
       "tariff             \n",
       "smart   1289.973531\n",
       "ultra   2070.152284"
      ]
     },
     "execution_count": 45,
     "metadata": {},
     "output_type": "execute_result"
    }
   ],
   "source": [
    "df.pivot_table(index='tariff', values='revenue', aggfunc='mean')"
   ]
  },
  {
   "cell_type": "code",
   "execution_count": 46,
   "metadata": {},
   "outputs": [
    {
     "data": {
      "text/plain": [
       "<AxesSubplot:title={'center':'revenue'}, xlabel='tariff'>"
      ]
     },
     "execution_count": 46,
     "metadata": {},
     "output_type": "execute_result"
    },
    {
     "data": {
      "image/png": "[encoded data removed]",
      "text/plain": [
       "<Figure size 432x576 with 1 Axes>"
      ]
     },
     "metadata": {
      "needs_background": "light"
     },
     "output_type": "display_data"
    }
   ],
   "source": [
    "df.boxplot(column='revenue', by='tariff',  figsize=(6,8))"
   ]
  },
  {
   "cell_type": "markdown",
   "metadata": {},
   "source": [
    "Действительно, средняя выручка значительно отличается."
   ]
  },
  {
   "cell_type": "markdown",
   "metadata": {},
   "source": [
    "### Cредняя выручка пользователей из Москвы отличается от выручки пользователей из других регионов"
   ]
  },
  {
   "cell_type": "markdown",
   "metadata": {},
   "source": [
    "H0  — средняя выручка пользователей из Москвы равна средней выручке пользователей из других регионов.\n",
    "H1  — средняя выручка пользователей из Москвы отличается от средней выручке пользователей из других регионов.\n",
    "\n",
    "α=1%"
   ]
  },
  {
   "cell_type": "code",
   "execution_count": 47,
   "metadata": {},
   "outputs": [],
   "source": [
    "moscow = df.query('city == \"Москва\"')['revenue']\n",
    "regions = df.query('city != \"Москва\"')['revenue']"
   ]
  },
  {
   "cell_type": "code",
   "execution_count": 48,
   "metadata": {},
   "outputs": [],
   "source": [
    "alpha=0.01"
   ]
  },
  {
   "cell_type": "code",
   "execution_count": 49,
   "metadata": {},
   "outputs": [
    {
     "name": "stdout",
     "output_type": "stream",
     "text": [
      "Дисперсия выборки пользователей из Москвы: 565636.4670118855\n",
      "Дисперсия выборки пользователей из остальных городов: 654137.6285218047\n"
     ]
    }
   ],
   "source": [
    "print('Дисперсия выборки пользователей из Москвы:', moscow.var(ddof=1))\n",
    "print('Дисперсия выборки пользователей из остальных городов:', regions.var(ddof=1))"
   ]
  },
  {
   "cell_type": "markdown",
   "metadata": {},
   "source": [
    "Дисперсии отличаются, поэтому необходимо снова добавить аргумент equal_var=False "
   ]
  },
  {
   "cell_type": "code",
   "execution_count": 50,
   "metadata": {},
   "outputs": [
    {
     "name": "stdout",
     "output_type": "stream",
     "text": [
      "p-значение: 0.5257376663729298\n",
      "Не получилось отвергнуть нулевую гипотезу\n"
     ]
    }
   ],
   "source": [
    "results = st.ttest_ind(moscow, regions, equal_var=False) \n",
    "print('p-значение:', results.pvalue)\n",
    "\n",
    "if (results.pvalue < alpha):\n",
    "    print(\"Отвергаем нулевую гипотезу\")\n",
    "else:\n",
    "    print(\"Не получилось отвергнуть нулевую гипотезу\")"
   ]
  },
  {
   "cell_type": "markdown",
   "metadata": {},
   "source": [
    "Отвергнуть нулевую гипотезу о том, выручка пользователей из Москвы равна средней выручке пользователей из других регионов, не получилось, значит с вероятностью 52,6%, сравнивая средние выручки, получились бы схожие значения.\n",
    "Для наглядности можно вывестисредние доходы от пользователей из Москвы и других городов."
   ]
  },
  {
   "cell_type": "code",
   "execution_count": 51,
   "metadata": {},
   "outputs": [
    {
     "data": {
      "text/html": [
       "<div>\n",
       "<style scoped>\n",
       "    .dataframe tbody tr th:only-of-type {\n",
       "        vertical-align: middle;\n",
       "    }\n",
       "\n",
       "    .dataframe tbody tr th {\n",
       "        vertical-align: top;\n",
       "    }\n",
       "\n",
       "    .dataframe thead th {\n",
       "        text-align: right;\n",
       "    }\n",
       "</style>\n",
       "<table border=\"1\" class=\"dataframe\">\n",
       "  <thead>\n",
       "    <tr style=\"text-align: right;\">\n",
       "      <th></th>\n",
       "      <th>revenue</th>\n",
       "    </tr>\n",
       "    <tr>\n",
       "      <th>city</th>\n",
       "      <th></th>\n",
       "    </tr>\n",
       "  </thead>\n",
       "  <tbody>\n",
       "    <tr>\n",
       "      <th>Другой город</th>\n",
       "      <td>1524.936227</td>\n",
       "    </tr>\n",
       "    <tr>\n",
       "      <th>Москва</th>\n",
       "      <td>1546.713584</td>\n",
       "    </tr>\n",
       "  </tbody>\n",
       "</table>\n",
       "</div>"
      ],
      "text/plain": [
       "                  revenue\n",
       "city                     \n",
       "Другой город  1524.936227\n",
       "Москва        1546.713584"
      ]
     },
     "execution_count": 51,
     "metadata": {},
     "output_type": "execute_result"
    }
   ],
   "source": [
    "df.loc[df.loc[:,'city'] != 'Москва', 'city'] = 'Другой город'\n",
    "df.pivot_table(index='city', values='revenue', aggfunc='mean')"
   ]
  },
  {
   "cell_type": "markdown",
   "metadata": {},
   "source": [
    "## Общие выводы"
   ]
  },
  {
   "cell_type": "markdown",
   "metadata": {},
   "source": [
    "В процессе работы из 5 файлов с данными была выведена таблица с ежемесячной активностью пользователей и доходом от нее. Пользователи тарифа Ультра почти всегда укладываются в лимиты тарифа, в отличии от использующих Смарт: они часто оплачивают дополнительные минуты или гб. Прибыль от тарифа Ультра больше выручки от Смарта. \n",
    "В ходе работы было обнаружено большое количество нулевых значений в продолжительности звонков и использовании интернета. Скорее всего это неудавшиеся сеансы, поэтому от этих строчек пришлось избавиться, но это информацию необходимо уточнить у коллег, т.к. эти данные составляли довольно большую часть.\n",
    "Гипотеза о том, что средняя выручка пользователей тарифов Ультра и Смарт различается, с 99.9% вероятностью подтверждается, в отличии от второй гипотезы: средние доходы от пользователя в Москве и других городах с 52.6% вероятностью будут схожими. "
   ]
  },
  {
   "cell_type": "markdown",
   "metadata": {},
   "source": [
    "Если оценивать только доход с каждого клиента, то пользователи пакета ультра в среднем приносят на 800 рублей больше, но стоит так же оценивать то, как сильно пользователь нагружает сеть, и во сколько это обходится оператору, т.к. средний пользователь ультра больше разговаривает по телефону, отправляет смс и использует трафик. Для определения прибыли с тарифов необходимо уточнить информацию у оператора."
   ]
  }
 ],
 "metadata": {
  "ExecuteTimeLog": [
   {
    "duration": 1485,
    "start_time": "2021-06-10T11:13:12.319Z"
   },
   {
    "duration": 546,
    "start_time": "2021-06-10T11:15:12.939Z"
   },
   {
    "duration": 345,
    "start_time": "2021-06-10T11:15:40.835Z"
   },
   {
    "duration": 23,
    "start_time": "2021-06-10T11:15:45.020Z"
   },
   {
    "duration": 26,
    "start_time": "2021-06-10T11:16:08.923Z"
   },
   {
    "duration": 11,
    "start_time": "2021-06-10T11:16:32.755Z"
   },
   {
    "duration": 22,
    "start_time": "2021-06-10T11:16:34.059Z"
   },
   {
    "duration": 14,
    "start_time": "2021-06-10T11:16:48.131Z"
   },
   {
    "duration": 9,
    "start_time": "2021-06-10T11:16:53.155Z"
   },
   {
    "duration": 26,
    "start_time": "2021-06-10T11:18:06.975Z"
   },
   {
    "duration": 22,
    "start_time": "2021-06-10T11:18:08.639Z"
   },
   {
    "duration": 26,
    "start_time": "2021-06-10T11:18:10.015Z"
   },
   {
    "duration": 13,
    "start_time": "2021-06-10T11:18:12.387Z"
   },
   {
    "duration": 9,
    "start_time": "2021-06-10T11:18:19.287Z"
   },
   {
    "duration": 12,
    "start_time": "2021-06-10T11:23:41.880Z"
   },
   {
    "duration": 89,
    "start_time": "2021-06-10T11:30:14.095Z"
   },
   {
    "duration": 9,
    "start_time": "2021-06-10T11:30:26.272Z"
   },
   {
    "duration": 68,
    "start_time": "2021-06-10T12:08:04.515Z"
   },
   {
    "duration": 4,
    "start_time": "2021-06-10T12:49:29.343Z"
   },
   {
    "duration": 51,
    "start_time": "2021-06-10T12:57:06.524Z"
   },
   {
    "duration": 48,
    "start_time": "2021-06-10T13:02:59.824Z"
   },
   {
    "duration": 52,
    "start_time": "2021-06-10T13:03:14.930Z"
   },
   {
    "duration": 35,
    "start_time": "2021-06-10T13:03:38.920Z"
   },
   {
    "duration": 58,
    "start_time": "2021-06-10T13:04:01.564Z"
   },
   {
    "duration": 21,
    "start_time": "2021-06-10T13:04:28.432Z"
   },
   {
    "duration": 15,
    "start_time": "2021-06-10T13:08:10.560Z"
   },
   {
    "duration": 6,
    "start_time": "2021-06-10T13:16:39.400Z"
   },
   {
    "duration": 4,
    "start_time": "2021-06-10T13:16:46.520Z"
   },
   {
    "duration": 4,
    "start_time": "2021-06-10T13:16:50.836Z"
   },
   {
    "duration": 521,
    "start_time": "2021-06-10T13:16:50.843Z"
   },
   {
    "duration": 26,
    "start_time": "2021-06-10T13:16:51.367Z"
   },
   {
    "duration": 33,
    "start_time": "2021-06-10T13:16:51.396Z"
   },
   {
    "duration": 38,
    "start_time": "2021-06-10T13:16:51.431Z"
   },
   {
    "duration": 37,
    "start_time": "2021-06-10T13:16:51.471Z"
   },
   {
    "duration": 18,
    "start_time": "2021-06-10T13:16:51.511Z"
   },
   {
    "duration": 17,
    "start_time": "2021-06-10T13:16:51.557Z"
   },
   {
    "duration": 8,
    "start_time": "2021-06-10T13:16:51.576Z"
   },
   {
    "duration": 40,
    "start_time": "2021-06-10T13:16:51.586Z"
   },
   {
    "duration": 34,
    "start_time": "2021-06-10T13:16:51.628Z"
   },
   {
    "duration": 22,
    "start_time": "2021-06-10T13:16:51.664Z"
   },
   {
    "duration": 109,
    "start_time": "2021-06-10T13:16:51.689Z"
   },
   {
    "duration": 75,
    "start_time": "2021-06-10T13:16:51.801Z"
   },
   {
    "duration": 88,
    "start_time": "2021-06-10T13:16:51.878Z"
   },
   {
    "duration": -51,
    "start_time": "2021-06-10T13:16:52.020Z"
   },
   {
    "duration": -57,
    "start_time": "2021-06-10T13:16:52.027Z"
   },
   {
    "duration": 6,
    "start_time": "2021-06-10T13:17:45.584Z"
   },
   {
    "duration": 46,
    "start_time": "2021-06-10T13:17:46.684Z"
   },
   {
    "duration": 730,
    "start_time": "2021-06-10T14:34:58.765Z"
   },
   {
    "duration": 336,
    "start_time": "2021-06-10T14:35:48.626Z"
   },
   {
    "duration": 13,
    "start_time": "2021-06-10T14:35:57.909Z"
   },
   {
    "duration": 444,
    "start_time": "2021-06-10T14:36:40.649Z"
   },
   {
    "duration": 724,
    "start_time": "2021-06-10T14:36:46.518Z"
   },
   {
    "duration": 22,
    "start_time": "2021-06-10T14:41:51.190Z"
   },
   {
    "duration": 43,
    "start_time": "2021-06-10T14:46:58.029Z"
   },
   {
    "duration": 716,
    "start_time": "2021-06-10T14:47:04.121Z"
   },
   {
    "duration": 738,
    "start_time": "2021-06-10T14:48:50.137Z"
   },
   {
    "duration": 30,
    "start_time": "2021-06-10T14:54:08.049Z"
   },
   {
    "duration": 944,
    "start_time": "2021-06-10T14:54:12.165Z"
   },
   {
    "duration": 894,
    "start_time": "2021-06-10T14:58:04.625Z"
   },
   {
    "duration": 9,
    "start_time": "2021-06-10T14:58:13.093Z"
   },
   {
    "duration": 12,
    "start_time": "2021-06-10T15:01:11.013Z"
   },
   {
    "duration": 7,
    "start_time": "2021-06-10T15:08:07.369Z"
   },
   {
    "duration": 727,
    "start_time": "2021-06-10T15:08:11.833Z"
   },
   {
    "duration": 723,
    "start_time": "2021-06-10T15:08:20.401Z"
   },
   {
    "duration": 3,
    "start_time": "2021-06-10T15:30:56.429Z"
   },
   {
    "duration": 499,
    "start_time": "2021-06-10T15:30:56.435Z"
   },
   {
    "duration": 28,
    "start_time": "2021-06-10T15:30:56.937Z"
   },
   {
    "duration": 36,
    "start_time": "2021-06-10T15:30:56.969Z"
   },
   {
    "duration": 51,
    "start_time": "2021-06-10T15:30:57.007Z"
   },
   {
    "duration": 39,
    "start_time": "2021-06-10T15:30:57.061Z"
   },
   {
    "duration": 20,
    "start_time": "2021-06-10T15:30:57.105Z"
   },
   {
    "duration": 25,
    "start_time": "2021-06-10T15:30:57.158Z"
   },
   {
    "duration": 12,
    "start_time": "2021-06-10T15:30:57.186Z"
   },
   {
    "duration": 77,
    "start_time": "2021-06-10T15:30:57.201Z"
   },
   {
    "duration": 9,
    "start_time": "2021-06-10T15:30:57.280Z"
   },
   {
    "duration": 22,
    "start_time": "2021-06-10T15:30:57.291Z"
   },
   {
    "duration": 110,
    "start_time": "2021-06-10T15:30:57.315Z"
   },
   {
    "duration": 6,
    "start_time": "2021-06-10T15:30:57.427Z"
   },
   {
    "duration": 859,
    "start_time": "2021-06-10T15:30:57.435Z"
   },
   {
    "duration": 37,
    "start_time": "2021-06-10T15:30:58.298Z"
   },
   {
    "duration": 770,
    "start_time": "2021-06-10T15:30:58.337Z"
   },
   {
    "duration": 46,
    "start_time": "2021-06-10T15:30:59.110Z"
   },
   {
    "duration": 10,
    "start_time": "2021-06-10T15:30:59.160Z"
   },
   {
    "duration": 58,
    "start_time": "2021-06-10T15:30:59.172Z"
   },
   {
    "duration": 3,
    "start_time": "2021-06-10T15:34:45.993Z"
   },
   {
    "duration": 504,
    "start_time": "2021-06-10T15:34:46.000Z"
   },
   {
    "duration": 26,
    "start_time": "2021-06-10T15:34:46.507Z"
   },
   {
    "duration": 34,
    "start_time": "2021-06-10T15:34:46.536Z"
   },
   {
    "duration": 21,
    "start_time": "2021-06-10T15:34:46.573Z"
   },
   {
    "duration": 58,
    "start_time": "2021-06-10T15:34:46.597Z"
   },
   {
    "duration": 18,
    "start_time": "2021-06-10T15:34:46.659Z"
   },
   {
    "duration": 17,
    "start_time": "2021-06-10T15:34:46.680Z"
   },
   {
    "duration": 8,
    "start_time": "2021-06-10T15:34:46.700Z"
   },
   {
    "duration": 81,
    "start_time": "2021-06-10T15:34:46.710Z"
   },
   {
    "duration": 9,
    "start_time": "2021-06-10T15:34:46.794Z"
   },
   {
    "duration": 27,
    "start_time": "2021-06-10T15:34:46.806Z"
   },
   {
    "duration": 102,
    "start_time": "2021-06-10T15:34:46.835Z"
   },
   {
    "duration": 16,
    "start_time": "2021-06-10T15:34:46.940Z"
   },
   {
    "duration": 872,
    "start_time": "2021-06-10T15:34:46.958Z"
   },
   {
    "duration": 41,
    "start_time": "2021-06-10T15:34:47.833Z"
   },
   {
    "duration": 730,
    "start_time": "2021-06-10T15:34:47.877Z"
   },
   {
    "duration": 25,
    "start_time": "2021-06-10T15:34:48.609Z"
   },
   {
    "duration": 22,
    "start_time": "2021-06-10T15:34:48.638Z"
   },
   {
    "duration": 64,
    "start_time": "2021-06-10T15:34:48.662Z"
   },
   {
    "duration": 40,
    "start_time": "2021-06-10T15:34:48.729Z"
   },
   {
    "duration": 14,
    "start_time": "2021-06-10T15:35:57.333Z"
   },
   {
    "duration": 13,
    "start_time": "2021-06-10T15:37:09.245Z"
   },
   {
    "duration": 290,
    "start_time": "2021-06-10T15:37:50.765Z"
   },
   {
    "duration": 14,
    "start_time": "2021-06-10T15:38:00.750Z"
   },
   {
    "duration": 22,
    "start_time": "2021-06-10T15:41:06.993Z"
   },
   {
    "duration": 18,
    "start_time": "2021-06-10T15:41:30.029Z"
   },
   {
    "duration": 353,
    "start_time": "2021-06-10T15:41:59.833Z"
   },
   {
    "duration": 13,
    "start_time": "2021-06-10T15:42:06.873Z"
   },
   {
    "duration": 27,
    "start_time": "2021-06-10T15:42:14.753Z"
   },
   {
    "duration": 11,
    "start_time": "2021-06-10T15:43:11.757Z"
   },
   {
    "duration": 20,
    "start_time": "2021-06-10T15:47:58.609Z"
   },
   {
    "duration": 11,
    "start_time": "2021-06-10T15:47:59.965Z"
   },
   {
    "duration": 91,
    "start_time": "2021-06-10T15:48:51.409Z"
   },
   {
    "duration": 27,
    "start_time": "2021-06-10T15:49:16.033Z"
   },
   {
    "duration": 86,
    "start_time": "2021-06-10T15:51:00.569Z"
   },
   {
    "duration": 28,
    "start_time": "2021-06-10T15:51:31.477Z"
   },
   {
    "duration": 14,
    "start_time": "2021-06-10T15:51:36.193Z"
   },
   {
    "duration": 12,
    "start_time": "2021-06-10T15:51:39.505Z"
   },
   {
    "duration": 14,
    "start_time": "2021-06-10T15:51:40.413Z"
   },
   {
    "duration": 12,
    "start_time": "2021-06-10T15:52:38.781Z"
   },
   {
    "duration": 13,
    "start_time": "2021-06-10T15:53:31.681Z"
   },
   {
    "duration": 28,
    "start_time": "2021-06-10T15:56:35.117Z"
   },
   {
    "duration": 12,
    "start_time": "2021-06-10T15:56:36.060Z"
   },
   {
    "duration": 15,
    "start_time": "2021-06-10T15:56:59.561Z"
   },
   {
    "duration": 11,
    "start_time": "2021-06-10T15:58:18.501Z"
   },
   {
    "duration": 15,
    "start_time": "2021-06-10T15:58:19.349Z"
   },
   {
    "duration": 18,
    "start_time": "2021-06-10T16:03:05.222Z"
   },
   {
    "duration": 16,
    "start_time": "2021-06-10T16:03:06.705Z"
   },
   {
    "duration": 26,
    "start_time": "2021-06-10T16:07:32.021Z"
   },
   {
    "duration": 25,
    "start_time": "2021-06-10T16:07:33.645Z"
   },
   {
    "duration": 277,
    "start_time": "2021-06-10T16:07:57.642Z"
   },
   {
    "duration": 651,
    "start_time": "2021-06-10T16:08:56.797Z"
   },
   {
    "duration": 25,
    "start_time": "2021-06-10T16:11:07.437Z"
   },
   {
    "duration": 24,
    "start_time": "2021-06-10T16:11:08.534Z"
   },
   {
    "duration": 17,
    "start_time": "2021-06-10T16:11:51.710Z"
   },
   {
    "duration": 11,
    "start_time": "2021-06-10T16:17:25.085Z"
   },
   {
    "duration": 15,
    "start_time": "2021-06-10T16:17:27.081Z"
   },
   {
    "duration": 11,
    "start_time": "2021-06-10T16:17:32.497Z"
   },
   {
    "duration": 6,
    "start_time": "2021-06-10T16:17:42.660Z"
   },
   {
    "duration": 14,
    "start_time": "2021-06-10T16:17:42.669Z"
   },
   {
    "duration": 5,
    "start_time": "2021-06-10T16:17:49.297Z"
   },
   {
    "duration": 11,
    "start_time": "2021-06-10T16:17:50.117Z"
   },
   {
    "duration": 5,
    "start_time": "2021-06-10T16:17:59.853Z"
   },
   {
    "duration": 11,
    "start_time": "2021-06-10T16:18:00.621Z"
   },
   {
    "duration": 83,
    "start_time": "2021-06-10T16:18:18.045Z"
   },
   {
    "duration": 32,
    "start_time": "2021-06-10T16:18:24.289Z"
   },
   {
    "duration": 29,
    "start_time": "2021-06-10T16:18:26.249Z"
   },
   {
    "duration": 26,
    "start_time": "2021-06-10T16:19:42.319Z"
   },
   {
    "duration": 13,
    "start_time": "2021-06-10T16:26:21.073Z"
   },
   {
    "duration": 34,
    "start_time": "2021-06-10T16:29:14.565Z"
   },
   {
    "duration": 6,
    "start_time": "2021-06-10T16:40:36.943Z"
   },
   {
    "duration": 10,
    "start_time": "2021-06-10T16:40:39.725Z"
   },
   {
    "duration": 5,
    "start_time": "2021-06-10T16:40:47.765Z"
   },
   {
    "duration": 10,
    "start_time": "2021-06-10T16:40:48.901Z"
   },
   {
    "duration": 6,
    "start_time": "2021-06-10T16:43:25.865Z"
   },
   {
    "duration": 10,
    "start_time": "2021-06-10T16:43:33.001Z"
   },
   {
    "duration": 21,
    "start_time": "2021-06-10T16:45:31.549Z"
   },
   {
    "duration": 1311,
    "start_time": "2021-06-15T08:05:30.008Z"
   },
   {
    "duration": 505,
    "start_time": "2021-06-15T08:05:31.321Z"
   },
   {
    "duration": 27,
    "start_time": "2021-06-15T08:05:31.829Z"
   },
   {
    "duration": 57,
    "start_time": "2021-06-15T08:05:31.859Z"
   },
   {
    "duration": 24,
    "start_time": "2021-06-15T08:05:31.919Z"
   },
   {
    "duration": 42,
    "start_time": "2021-06-15T08:05:31.953Z"
   },
   {
    "duration": 19,
    "start_time": "2021-06-15T08:05:31.998Z"
   },
   {
    "duration": 39,
    "start_time": "2021-06-15T08:05:32.021Z"
   },
   {
    "duration": 28,
    "start_time": "2021-06-15T08:05:32.063Z"
   },
   {
    "duration": 28,
    "start_time": "2021-06-15T08:05:32.094Z"
   },
   {
    "duration": 38,
    "start_time": "2021-06-15T08:05:32.124Z"
   },
   {
    "duration": 109,
    "start_time": "2021-06-15T08:05:32.164Z"
   },
   {
    "duration": 6,
    "start_time": "2021-06-15T08:05:32.276Z"
   },
   {
    "duration": 779,
    "start_time": "2021-06-15T08:05:32.284Z"
   },
   {
    "duration": 38,
    "start_time": "2021-06-15T08:05:33.066Z"
   },
   {
    "duration": 780,
    "start_time": "2021-06-15T08:05:33.106Z"
   },
   {
    "duration": 29,
    "start_time": "2021-06-15T08:05:33.888Z"
   },
   {
    "duration": 9,
    "start_time": "2021-06-15T08:05:33.919Z"
   },
   {
    "duration": 82,
    "start_time": "2021-06-15T08:05:33.931Z"
   },
   {
    "duration": 49,
    "start_time": "2021-06-15T08:05:34.016Z"
   },
   {
    "duration": 26,
    "start_time": "2021-06-15T08:05:34.068Z"
   },
   {
    "duration": 18,
    "start_time": "2021-06-15T08:05:34.097Z"
   },
   {
    "duration": 112,
    "start_time": "2021-06-15T08:05:34.119Z"
   },
   {
    "duration": -2294,
    "start_time": "2021-06-15T08:05:36.527Z"
   },
   {
    "duration": -2298,
    "start_time": "2021-06-15T08:05:36.533Z"
   },
   {
    "duration": -2298,
    "start_time": "2021-06-15T08:05:36.534Z"
   },
   {
    "duration": -2300,
    "start_time": "2021-06-15T08:05:36.538Z"
   },
   {
    "duration": -2300,
    "start_time": "2021-06-15T08:05:36.540Z"
   },
   {
    "duration": -2300,
    "start_time": "2021-06-15T08:05:36.541Z"
   },
   {
    "duration": 5,
    "start_time": "2021-06-15T08:05:59.189Z"
   },
   {
    "duration": 33,
    "start_time": "2021-06-15T08:06:01.157Z"
   },
   {
    "duration": 28,
    "start_time": "2021-06-15T08:06:02.097Z"
   },
   {
    "duration": 13,
    "start_time": "2021-06-15T08:06:03.520Z"
   },
   {
    "duration": 7,
    "start_time": "2021-06-15T08:06:05.057Z"
   },
   {
    "duration": 11,
    "start_time": "2021-06-15T08:06:12.720Z"
   },
   {
    "duration": 6,
    "start_time": "2021-06-15T08:06:23.100Z"
   },
   {
    "duration": 11,
    "start_time": "2021-06-15T08:06:29.912Z"
   },
   {
    "duration": 22,
    "start_time": "2021-06-15T08:12:45.781Z"
   },
   {
    "duration": 12,
    "start_time": "2021-06-15T08:37:15.924Z"
   },
   {
    "duration": 6,
    "start_time": "2021-06-15T08:45:55.429Z"
   },
   {
    "duration": 655,
    "start_time": "2021-06-15T08:46:01.620Z"
   },
   {
    "duration": 7,
    "start_time": "2021-06-15T08:47:03.693Z"
   },
   {
    "duration": 475,
    "start_time": "2021-06-15T08:47:06.572Z"
   },
   {
    "duration": 32,
    "start_time": "2021-06-15T08:47:48.648Z"
   },
   {
    "duration": 24,
    "start_time": "2021-06-15T08:53:21.424Z"
   },
   {
    "duration": 13,
    "start_time": "2021-06-15T08:55:01.109Z"
   },
   {
    "duration": 34,
    "start_time": "2021-06-15T09:24:04.260Z"
   },
   {
    "duration": 13,
    "start_time": "2021-06-15T09:24:06.527Z"
   },
   {
    "duration": 13,
    "start_time": "2021-06-15T09:24:41.223Z"
   },
   {
    "duration": 13,
    "start_time": "2021-06-15T09:24:58.503Z"
   },
   {
    "duration": 115,
    "start_time": "2021-06-15T09:46:13.055Z"
   },
   {
    "duration": 18,
    "start_time": "2021-06-15T09:46:14.079Z"
   },
   {
    "duration": 14,
    "start_time": "2021-06-15T09:46:23.662Z"
   },
   {
    "duration": 14,
    "start_time": "2021-06-15T09:50:27.046Z"
   },
   {
    "duration": 14,
    "start_time": "2021-06-15T09:50:32.082Z"
   },
   {
    "duration": 11,
    "start_time": "2021-06-15T09:50:35.642Z"
   },
   {
    "duration": 1738,
    "start_time": "2021-06-15T09:51:52.571Z"
   },
   {
    "duration": 774,
    "start_time": "2021-06-15T09:52:28.623Z"
   },
   {
    "duration": 1857,
    "start_time": "2021-06-15T09:55:02.810Z"
   },
   {
    "duration": 1759,
    "start_time": "2021-06-15T09:56:00.306Z"
   },
   {
    "duration": 10,
    "start_time": "2021-06-15T11:32:54.625Z"
   },
   {
    "duration": 18,
    "start_time": "2021-06-15T11:33:01.533Z"
   },
   {
    "duration": 15,
    "start_time": "2021-06-15T11:33:02.497Z"
   },
   {
    "duration": 17,
    "start_time": "2021-06-15T11:33:17.205Z"
   },
   {
    "duration": 12,
    "start_time": "2021-06-15T11:33:18.369Z"
   },
   {
    "duration": 19,
    "start_time": "2021-06-15T11:36:30.249Z"
   },
   {
    "duration": 14,
    "start_time": "2021-06-15T11:36:31.613Z"
   },
   {
    "duration": 17,
    "start_time": "2021-06-15T11:36:54.858Z"
   },
   {
    "duration": 17,
    "start_time": "2021-06-15T11:37:15.505Z"
   },
   {
    "duration": 17,
    "start_time": "2021-06-15T11:37:16.585Z"
   },
   {
    "duration": 62,
    "start_time": "2021-06-15T11:40:35.677Z"
   },
   {
    "duration": 37,
    "start_time": "2021-06-15T11:40:39.597Z"
   },
   {
    "duration": 53,
    "start_time": "2021-06-15T11:41:18.617Z"
   },
   {
    "duration": 24,
    "start_time": "2021-06-15T11:41:36.605Z"
   },
   {
    "duration": 17,
    "start_time": "2021-06-15T11:53:30.505Z"
   },
   {
    "duration": 18,
    "start_time": "2021-06-15T11:53:34.661Z"
   },
   {
    "duration": 27,
    "start_time": "2021-06-15T11:54:39.078Z"
   },
   {
    "duration": 27,
    "start_time": "2021-06-15T11:54:42.041Z"
   },
   {
    "duration": 275,
    "start_time": "2021-06-15T11:55:03.226Z"
   },
   {
    "duration": 21,
    "start_time": "2021-06-15T11:55:08.925Z"
   },
   {
    "duration": 283,
    "start_time": "2021-06-15T11:58:50.629Z"
   },
   {
    "duration": 6,
    "start_time": "2021-06-15T11:59:29.717Z"
   },
   {
    "duration": 6,
    "start_time": "2021-06-15T11:59:42.117Z"
   },
   {
    "duration": 1021,
    "start_time": "2021-06-15T12:02:39.382Z"
   },
   {
    "duration": 6807,
    "start_time": "2021-06-15T12:02:57.846Z"
   },
   {
    "duration": 784,
    "start_time": "2021-06-15T12:03:15.031Z"
   },
   {
    "duration": 3,
    "start_time": "2021-06-15T12:04:31.114Z"
   },
   {
    "duration": 38,
    "start_time": "2021-06-15T12:07:06.569Z"
   },
   {
    "duration": 5,
    "start_time": "2021-06-15T12:07:20.846Z"
   },
   {
    "duration": 24,
    "start_time": "2021-06-15T12:07:31.637Z"
   },
   {
    "duration": 39,
    "start_time": "2021-06-15T12:07:53.753Z"
   },
   {
    "duration": 6,
    "start_time": "2021-06-15T12:07:56.489Z"
   },
   {
    "duration": 18,
    "start_time": "2021-06-15T12:08:00.590Z"
   },
   {
    "duration": 39,
    "start_time": "2021-06-15T12:08:45.902Z"
   },
   {
    "duration": 7,
    "start_time": "2021-06-15T12:08:49.301Z"
   },
   {
    "duration": 19,
    "start_time": "2021-06-15T12:08:53.897Z"
   },
   {
    "duration": 1145,
    "start_time": "2021-06-15T12:20:46.805Z"
   },
   {
    "duration": 33,
    "start_time": "2021-06-15T12:20:58.309Z"
   },
   {
    "duration": 273,
    "start_time": "2021-06-15T12:21:03.781Z"
   },
   {
    "duration": 280,
    "start_time": "2021-06-15T12:21:10.085Z"
   },
   {
    "duration": 6,
    "start_time": "2021-06-15T12:21:15.762Z"
   },
   {
    "duration": 41,
    "start_time": "2021-06-15T12:22:31.925Z"
   },
   {
    "duration": 22,
    "start_time": "2021-06-15T12:22:37.269Z"
   },
   {
    "duration": 40,
    "start_time": "2021-06-15T12:26:00.977Z"
   },
   {
    "duration": 19,
    "start_time": "2021-06-15T12:26:02.074Z"
   },
   {
    "duration": 36,
    "start_time": "2021-06-15T12:37:10.310Z"
   },
   {
    "duration": 23,
    "start_time": "2021-06-15T12:37:27.393Z"
   },
   {
    "duration": 19,
    "start_time": "2021-06-15T12:40:59.282Z"
   },
   {
    "duration": 1776,
    "start_time": "2021-06-15T12:49:27.370Z"
   },
   {
    "duration": 1836,
    "start_time": "2021-06-15T12:57:15.725Z"
   },
   {
    "duration": 1866,
    "start_time": "2021-06-15T13:00:06.922Z"
   },
   {
    "duration": 1774,
    "start_time": "2021-06-15T13:06:02.128Z"
   },
   {
    "duration": 15,
    "start_time": "2021-06-15T13:06:18.468Z"
   },
   {
    "duration": 1695,
    "start_time": "2021-06-15T13:28:02.339Z"
   },
   {
    "duration": 1880,
    "start_time": "2021-06-15T13:28:49.924Z"
   },
   {
    "duration": 604,
    "start_time": "2021-06-15T13:29:40.280Z"
   },
   {
    "duration": 375,
    "start_time": "2021-06-15T13:29:53.692Z"
   },
   {
    "duration": 1382,
    "start_time": "2021-06-15T13:32:43.368Z"
   },
   {
    "duration": 902,
    "start_time": "2021-06-15T13:33:07.995Z"
   },
   {
    "duration": 864,
    "start_time": "2021-06-15T13:36:20.440Z"
   },
   {
    "duration": 268,
    "start_time": "2021-06-15T13:38:40.080Z"
   },
   {
    "duration": 273,
    "start_time": "2021-06-15T13:39:05.772Z"
   },
   {
    "duration": 234,
    "start_time": "2021-06-15T13:39:16.412Z"
   },
   {
    "duration": 4,
    "start_time": "2021-06-15T13:41:45.807Z"
   },
   {
    "duration": 1789,
    "start_time": "2021-06-15T13:42:23.316Z"
   },
   {
    "duration": 1926,
    "start_time": "2021-06-15T13:42:52.228Z"
   },
   {
    "duration": 1048,
    "start_time": "2021-06-15T13:44:47.599Z"
   },
   {
    "duration": 244,
    "start_time": "2021-06-15T13:47:18.784Z"
   },
   {
    "duration": 239,
    "start_time": "2021-06-15T13:47:57.672Z"
   },
   {
    "duration": 924,
    "start_time": "2021-06-15T13:48:06.823Z"
   },
   {
    "duration": 262,
    "start_time": "2021-06-15T13:48:12.931Z"
   },
   {
    "duration": 255,
    "start_time": "2021-06-15T13:48:17.624Z"
   },
   {
    "duration": 254,
    "start_time": "2021-06-15T14:19:28.824Z"
   },
   {
    "duration": 286,
    "start_time": "2021-06-15T14:20:13.660Z"
   },
   {
    "duration": 502,
    "start_time": "2021-06-15T14:20:39.584Z"
   },
   {
    "duration": 2633,
    "start_time": "2021-06-15T14:25:52.000Z"
   },
   {
    "duration": 460,
    "start_time": "2021-06-15T14:28:21.312Z"
   },
   {
    "duration": 1353,
    "start_time": "2021-06-15T14:30:42.168Z"
   },
   {
    "duration": 428,
    "start_time": "2021-06-15T14:31:27.220Z"
   },
   {
    "duration": 5,
    "start_time": "2021-06-15T14:38:52.721Z"
   },
   {
    "duration": 601,
    "start_time": "2021-06-15T14:38:52.733Z"
   },
   {
    "duration": 46,
    "start_time": "2021-06-15T14:38:53.337Z"
   },
   {
    "duration": 66,
    "start_time": "2021-06-15T14:38:53.388Z"
   },
   {
    "duration": 24,
    "start_time": "2021-06-15T14:38:53.458Z"
   },
   {
    "duration": 71,
    "start_time": "2021-06-15T14:38:53.485Z"
   },
   {
    "duration": 29,
    "start_time": "2021-06-15T14:38:53.559Z"
   },
   {
    "duration": 20,
    "start_time": "2021-06-15T14:38:53.591Z"
   },
   {
    "duration": 15,
    "start_time": "2021-06-15T14:38:53.670Z"
   },
   {
    "duration": 19,
    "start_time": "2021-06-15T14:38:53.689Z"
   },
   {
    "duration": 17,
    "start_time": "2021-06-15T14:38:53.712Z"
   },
   {
    "duration": 33,
    "start_time": "2021-06-15T14:38:53.756Z"
   },
   {
    "duration": 189,
    "start_time": "2021-06-15T14:38:53.792Z"
   },
   {
    "duration": 8,
    "start_time": "2021-06-15T14:38:53.984Z"
   },
   {
    "duration": 1019,
    "start_time": "2021-06-15T14:38:53.996Z"
   },
   {
    "duration": 57,
    "start_time": "2021-06-15T14:38:55.018Z"
   },
   {
    "duration": 795,
    "start_time": "2021-06-15T14:38:55.078Z"
   },
   {
    "duration": 32,
    "start_time": "2021-06-15T14:38:55.876Z"
   },
   {
    "duration": 44,
    "start_time": "2021-06-15T14:38:55.911Z"
   },
   {
    "duration": 62,
    "start_time": "2021-06-15T14:38:55.958Z"
   },
   {
    "duration": 59,
    "start_time": "2021-06-15T14:38:56.023Z"
   },
   {
    "duration": 25,
    "start_time": "2021-06-15T14:38:56.085Z"
   },
   {
    "duration": 56,
    "start_time": "2021-06-15T14:38:56.114Z"
   },
   {
    "duration": 6,
    "start_time": "2021-06-15T14:38:56.176Z"
   },
   {
    "duration": 70,
    "start_time": "2021-06-15T14:38:56.186Z"
   },
   {
    "duration": 9,
    "start_time": "2021-06-15T14:38:56.259Z"
   },
   {
    "duration": 9,
    "start_time": "2021-06-15T14:38:56.272Z"
   },
   {
    "duration": 109,
    "start_time": "2021-06-15T14:38:56.284Z"
   },
   {
    "duration": -8,
    "start_time": "2021-06-15T14:38:56.405Z"
   },
   {
    "duration": -10,
    "start_time": "2021-06-15T14:38:56.409Z"
   },
   {
    "duration": -18,
    "start_time": "2021-06-15T14:38:56.418Z"
   },
   {
    "duration": -18,
    "start_time": "2021-06-15T14:38:56.420Z"
   },
   {
    "duration": -17,
    "start_time": "2021-06-15T14:38:56.421Z"
   },
   {
    "duration": -17,
    "start_time": "2021-06-15T14:38:56.423Z"
   },
   {
    "duration": -16,
    "start_time": "2021-06-15T14:38:56.424Z"
   },
   {
    "duration": -16,
    "start_time": "2021-06-15T14:38:56.426Z"
   },
   {
    "duration": -20,
    "start_time": "2021-06-15T14:38:56.432Z"
   },
   {
    "duration": -20,
    "start_time": "2021-06-15T14:38:56.434Z"
   },
   {
    "duration": -19,
    "start_time": "2021-06-15T14:38:56.436Z"
   },
   {
    "duration": -24,
    "start_time": "2021-06-15T14:38:56.443Z"
   },
   {
    "duration": -24,
    "start_time": "2021-06-15T14:38:56.445Z"
   },
   {
    "duration": -26,
    "start_time": "2021-06-15T14:38:56.449Z"
   },
   {
    "duration": -33,
    "start_time": "2021-06-15T14:38:56.458Z"
   },
   {
    "duration": 4,
    "start_time": "2021-06-15T14:40:02.736Z"
   },
   {
    "duration": 556,
    "start_time": "2021-06-15T14:40:02.743Z"
   },
   {
    "duration": 26,
    "start_time": "2021-06-15T14:40:03.302Z"
   },
   {
    "duration": 36,
    "start_time": "2021-06-15T14:40:03.331Z"
   },
   {
    "duration": 24,
    "start_time": "2021-06-15T14:40:03.369Z"
   },
   {
    "duration": 70,
    "start_time": "2021-06-15T14:40:03.395Z"
   },
   {
    "duration": 22,
    "start_time": "2021-06-15T14:40:03.469Z"
   },
   {
    "duration": 26,
    "start_time": "2021-06-15T14:40:03.495Z"
   },
   {
    "duration": 12,
    "start_time": "2021-06-15T14:40:03.556Z"
   },
   {
    "duration": 23,
    "start_time": "2021-06-15T14:40:03.570Z"
   },
   {
    "duration": 13,
    "start_time": "2021-06-15T14:40:03.596Z"
   },
   {
    "duration": 63,
    "start_time": "2021-06-15T14:40:03.612Z"
   },
   {
    "duration": 188,
    "start_time": "2021-06-15T14:40:03.678Z"
   },
   {
    "duration": 8,
    "start_time": "2021-06-15T14:40:03.869Z"
   },
   {
    "duration": 1122,
    "start_time": "2021-06-15T14:40:03.881Z"
   },
   {
    "duration": 54,
    "start_time": "2021-06-15T14:40:05.005Z"
   },
   {
    "duration": 814,
    "start_time": "2021-06-15T14:40:05.061Z"
   },
   {
    "duration": 29,
    "start_time": "2021-06-15T14:40:05.877Z"
   },
   {
    "duration": 11,
    "start_time": "2021-06-15T14:40:05.911Z"
   },
   {
    "duration": 64,
    "start_time": "2021-06-15T14:40:05.960Z"
   },
   {
    "duration": 52,
    "start_time": "2021-06-15T14:40:06.026Z"
   },
   {
    "duration": 24,
    "start_time": "2021-06-15T14:40:06.080Z"
   },
   {
    "duration": 47,
    "start_time": "2021-06-15T14:40:06.107Z"
   },
   {
    "duration": 7,
    "start_time": "2021-06-15T14:40:06.157Z"
   },
   {
    "duration": 151,
    "start_time": "2021-06-15T14:40:06.166Z"
   },
   {
    "duration": 37,
    "start_time": "2021-06-15T14:40:06.320Z"
   },
   {
    "duration": 17,
    "start_time": "2021-06-15T14:40:06.360Z"
   },
   {
    "duration": 23,
    "start_time": "2021-06-15T14:40:06.386Z"
   },
   {
    "duration": 616,
    "start_time": "2021-06-15T14:40:06.415Z"
   },
   {
    "duration": 43,
    "start_time": "2021-06-15T14:40:07.034Z"
   },
   {
    "duration": 17,
    "start_time": "2021-06-15T14:40:07.080Z"
   },
   {
    "duration": 66,
    "start_time": "2021-06-15T14:40:07.099Z"
   },
   {
    "duration": 19,
    "start_time": "2021-06-15T14:40:07.168Z"
   },
   {
    "duration": 69,
    "start_time": "2021-06-15T14:40:07.191Z"
   },
   {
    "duration": 24,
    "start_time": "2021-06-15T14:40:07.263Z"
   },
   {
    "duration": 19,
    "start_time": "2021-06-15T14:40:07.289Z"
   },
   {
    "duration": 473,
    "start_time": "2021-06-15T14:40:07.311Z"
   },
   {
    "duration": 1832,
    "start_time": "2021-06-15T14:40:07.787Z"
   },
   {
    "duration": 617,
    "start_time": "2021-06-15T14:40:09.622Z"
   },
   {
    "duration": 2268,
    "start_time": "2021-06-15T14:40:10.243Z"
   },
   {
    "duration": 746,
    "start_time": "2021-06-15T14:40:12.514Z"
   },
   {
    "duration": 1123,
    "start_time": "2021-06-15T14:40:13.263Z"
   },
   {
    "duration": 340,
    "start_time": "2021-06-15T16:16:48.999Z"
   },
   {
    "duration": 390,
    "start_time": "2021-06-15T16:17:19.311Z"
   },
   {
    "duration": 5,
    "start_time": "2021-06-15T16:17:39.483Z"
   },
   {
    "duration": 5,
    "start_time": "2021-06-15T16:17:51.980Z"
   },
   {
    "duration": 302,
    "start_time": "2021-06-15T16:19:04.768Z"
   },
   {
    "duration": 304,
    "start_time": "2021-06-15T16:19:06.672Z"
   },
   {
    "duration": 1393,
    "start_time": "2021-06-15T16:19:49.052Z"
   },
   {
    "duration": 11,
    "start_time": "2021-06-15T16:26:21.504Z"
   },
   {
    "duration": 4,
    "start_time": "2021-06-15T16:26:23.140Z"
   },
   {
    "duration": 9,
    "start_time": "2021-06-15T16:32:21.761Z"
   },
   {
    "duration": 9,
    "start_time": "2021-06-15T16:38:32.295Z"
   },
   {
    "duration": 399,
    "start_time": "2021-06-15T16:51:58.030Z"
   },
   {
    "duration": 22,
    "start_time": "2021-06-15T16:53:12.618Z"
   },
   {
    "duration": 7,
    "start_time": "2021-06-15T16:54:18.177Z"
   },
   {
    "duration": 10,
    "start_time": "2021-06-15T16:57:45.765Z"
   },
   {
    "duration": 4,
    "start_time": "2021-06-15T16:59:35.590Z"
   },
   {
    "duration": 8,
    "start_time": "2021-06-15T16:59:36.814Z"
   },
   {
    "duration": 6,
    "start_time": "2021-06-15T17:33:02.969Z"
   },
   {
    "duration": 7,
    "start_time": "2021-06-15T17:33:17.725Z"
   },
   {
    "duration": 6,
    "start_time": "2021-06-15T17:33:20.225Z"
   },
   {
    "duration": 6,
    "start_time": "2021-06-15T17:33:27.169Z"
   },
   {
    "duration": 6,
    "start_time": "2021-06-15T17:33:28.673Z"
   },
   {
    "duration": 273,
    "start_time": "2021-06-15T17:34:33.909Z"
   },
   {
    "duration": 27,
    "start_time": "2021-06-15T17:34:41.690Z"
   },
   {
    "duration": 314,
    "start_time": "2021-06-15T17:47:46.702Z"
   },
   {
    "duration": 8,
    "start_time": "2021-06-15T17:53:16.710Z"
   },
   {
    "duration": 288,
    "start_time": "2021-06-15T17:54:07.206Z"
   },
   {
    "duration": 12,
    "start_time": "2021-06-15T17:55:03.435Z"
   },
   {
    "duration": 52,
    "start_time": "2021-06-15T17:55:31.658Z"
   },
   {
    "duration": 23,
    "start_time": "2021-06-15T17:55:52.254Z"
   },
   {
    "duration": 24,
    "start_time": "2021-06-15T17:56:05.522Z"
   },
   {
    "duration": 18,
    "start_time": "2021-06-15T17:56:15.742Z"
   },
   {
    "duration": 95,
    "start_time": "2021-06-15T17:56:42.786Z"
   },
   {
    "duration": 6,
    "start_time": "2021-06-15T18:08:41.961Z"
   },
   {
    "duration": 21,
    "start_time": "2021-06-15T18:08:41.970Z"
   },
   {
    "duration": 764,
    "start_time": "2021-06-15T18:08:41.995Z"
   },
   {
    "duration": 45,
    "start_time": "2021-06-15T18:08:42.763Z"
   },
   {
    "duration": 78,
    "start_time": "2021-06-15T18:08:42.811Z"
   },
   {
    "duration": 35,
    "start_time": "2021-06-15T18:08:42.892Z"
   },
   {
    "duration": 62,
    "start_time": "2021-06-15T18:08:42.953Z"
   },
   {
    "duration": 44,
    "start_time": "2021-06-15T18:08:43.019Z"
   },
   {
    "duration": 26,
    "start_time": "2021-06-15T18:08:43.066Z"
   },
   {
    "duration": 11,
    "start_time": "2021-06-15T18:08:43.095Z"
   },
   {
    "duration": 64,
    "start_time": "2021-06-15T18:08:43.110Z"
   },
   {
    "duration": 25,
    "start_time": "2021-06-15T18:08:43.176Z"
   },
   {
    "duration": 63,
    "start_time": "2021-06-15T18:08:43.203Z"
   },
   {
    "duration": 165,
    "start_time": "2021-06-15T18:08:43.268Z"
   },
   {
    "duration": 8,
    "start_time": "2021-06-15T18:08:43.436Z"
   },
   {
    "duration": 1269,
    "start_time": "2021-06-15T18:08:43.456Z"
   },
   {
    "duration": 57,
    "start_time": "2021-06-15T18:08:44.730Z"
   },
   {
    "duration": 810,
    "start_time": "2021-06-15T18:08:44.790Z"
   },
   {
    "duration": 30,
    "start_time": "2021-06-15T18:08:45.605Z"
   },
   {
    "duration": 11,
    "start_time": "2021-06-15T18:08:45.655Z"
   },
   {
    "duration": 86,
    "start_time": "2021-06-15T18:08:45.669Z"
   },
   {
    "duration": 43,
    "start_time": "2021-06-15T18:08:45.757Z"
   },
   {
    "duration": 51,
    "start_time": "2021-06-15T18:08:45.803Z"
   },
   {
    "duration": 17,
    "start_time": "2021-06-15T18:08:45.857Z"
   },
   {
    "duration": 5,
    "start_time": "2021-06-15T18:08:45.876Z"
   },
   {
    "duration": 34,
    "start_time": "2021-06-15T18:08:45.884Z"
   },
   {
    "duration": 11,
    "start_time": "2021-06-15T18:08:45.955Z"
   },
   {
    "duration": 12,
    "start_time": "2021-06-15T18:08:45.969Z"
   },
   {
    "duration": 9,
    "start_time": "2021-06-15T18:08:45.984Z"
   },
   {
    "duration": 619,
    "start_time": "2021-06-15T18:08:45.996Z"
   },
   {
    "duration": 24,
    "start_time": "2021-06-15T18:08:46.617Z"
   },
   {
    "duration": 22,
    "start_time": "2021-06-15T18:08:46.655Z"
   },
   {
    "duration": 39,
    "start_time": "2021-06-15T18:08:46.680Z"
   },
   {
    "duration": 32,
    "start_time": "2021-06-15T18:08:46.722Z"
   },
   {
    "duration": 38,
    "start_time": "2021-06-15T18:08:46.758Z"
   },
   {
    "duration": 23,
    "start_time": "2021-06-15T18:08:46.799Z"
   },
   {
    "duration": 13,
    "start_time": "2021-06-15T18:08:46.855Z"
   },
   {
    "duration": 359,
    "start_time": "2021-06-15T18:08:46.871Z"
   },
   {
    "duration": 2940,
    "start_time": "2021-06-15T18:08:47.233Z"
   },
   {
    "duration": 443,
    "start_time": "2021-06-15T18:08:50.176Z"
   },
   {
    "duration": 2003,
    "start_time": "2021-06-15T18:08:50.621Z"
   },
   {
    "duration": 336,
    "start_time": "2021-06-15T18:08:52.626Z"
   },
   {
    "duration": 1129,
    "start_time": "2021-06-15T18:08:52.964Z"
   },
   {
    "duration": 11,
    "start_time": "2021-06-15T18:08:54.095Z"
   },
   {
    "duration": 7,
    "start_time": "2021-06-15T18:08:54.108Z"
   },
   {
    "duration": 39,
    "start_time": "2021-06-15T18:08:54.118Z"
   },
   {
    "duration": 7,
    "start_time": "2021-06-15T18:08:54.160Z"
   },
   {
    "duration": 26,
    "start_time": "2021-06-15T18:08:54.169Z"
   },
   {
    "duration": 367,
    "start_time": "2021-06-15T18:08:54.198Z"
   },
   {
    "duration": 11,
    "start_time": "2021-06-15T18:08:54.568Z"
   },
   {
    "duration": 8,
    "start_time": "2021-06-15T18:08:54.581Z"
   },
   {
    "duration": 18,
    "start_time": "2021-06-15T18:08:54.591Z"
   },
   {
    "duration": 46,
    "start_time": "2021-06-15T18:08:54.612Z"
   },
   {
    "duration": 26,
    "start_time": "2021-06-15T18:08:54.661Z"
   },
   {
    "duration": 4,
    "start_time": "2021-06-15T18:09:24.698Z"
   },
   {
    "duration": 11,
    "start_time": "2021-06-15T18:09:24.705Z"
   },
   {
    "duration": 545,
    "start_time": "2021-06-15T18:09:24.719Z"
   },
   {
    "duration": 30,
    "start_time": "2021-06-15T18:09:25.267Z"
   },
   {
    "duration": 57,
    "start_time": "2021-06-15T18:09:25.299Z"
   },
   {
    "duration": 32,
    "start_time": "2021-06-15T18:09:25.359Z"
   },
   {
    "duration": 88,
    "start_time": "2021-06-15T18:09:25.397Z"
   },
   {
    "duration": 32,
    "start_time": "2021-06-15T18:09:25.489Z"
   },
   {
    "duration": 53,
    "start_time": "2021-06-15T18:09:25.524Z"
   },
   {
    "duration": 14,
    "start_time": "2021-06-15T18:09:25.580Z"
   },
   {
    "duration": 16,
    "start_time": "2021-06-15T18:09:25.597Z"
   },
   {
    "duration": 47,
    "start_time": "2021-06-15T18:09:25.615Z"
   },
   {
    "duration": 28,
    "start_time": "2021-06-15T18:09:25.665Z"
   },
   {
    "duration": 136,
    "start_time": "2021-06-15T18:09:25.696Z"
   },
   {
    "duration": 6,
    "start_time": "2021-06-15T18:09:25.835Z"
   },
   {
    "duration": 804,
    "start_time": "2021-06-15T18:09:25.855Z"
   },
   {
    "duration": 38,
    "start_time": "2021-06-15T18:09:26.662Z"
   },
   {
    "duration": 909,
    "start_time": "2021-06-15T18:09:26.703Z"
   },
   {
    "duration": 68,
    "start_time": "2021-06-15T18:09:27.621Z"
   },
   {
    "duration": 15,
    "start_time": "2021-06-15T18:09:27.694Z"
   },
   {
    "duration": 97,
    "start_time": "2021-06-15T18:09:27.712Z"
   },
   {
    "duration": 67,
    "start_time": "2021-06-15T18:09:27.812Z"
   },
   {
    "duration": 34,
    "start_time": "2021-06-15T18:09:27.882Z"
   },
   {
    "duration": 44,
    "start_time": "2021-06-15T18:09:27.919Z"
   },
   {
    "duration": 6,
    "start_time": "2021-06-15T18:09:27.966Z"
   },
   {
    "duration": 58,
    "start_time": "2021-06-15T18:09:27.975Z"
   },
   {
    "duration": 22,
    "start_time": "2021-06-15T18:09:28.036Z"
   },
   {
    "duration": 12,
    "start_time": "2021-06-15T18:09:28.061Z"
   },
   {
    "duration": 21,
    "start_time": "2021-06-15T18:09:28.076Z"
   },
   {
    "duration": 386,
    "start_time": "2021-06-15T18:09:28.099Z"
   },
   {
    "duration": 25,
    "start_time": "2021-06-15T18:09:28.487Z"
   },
   {
    "duration": 45,
    "start_time": "2021-06-15T18:09:28.515Z"
   },
   {
    "duration": 48,
    "start_time": "2021-06-15T18:09:28.564Z"
   },
   {
    "duration": 55,
    "start_time": "2021-06-15T18:09:28.615Z"
   },
   {
    "duration": 48,
    "start_time": "2021-06-15T18:09:28.673Z"
   },
   {
    "duration": 44,
    "start_time": "2021-06-15T18:09:28.723Z"
   },
   {
    "duration": 18,
    "start_time": "2021-06-15T18:09:28.770Z"
   },
   {
    "duration": 382,
    "start_time": "2021-06-15T18:09:28.790Z"
   },
   {
    "duration": 1821,
    "start_time": "2021-06-15T18:09:29.175Z"
   },
   {
    "duration": 733,
    "start_time": "2021-06-15T18:09:30.998Z"
   },
   {
    "duration": 1836,
    "start_time": "2021-06-15T18:09:31.734Z"
   },
   {
    "duration": 316,
    "start_time": "2021-06-15T18:09:33.572Z"
   },
   {
    "duration": 1518,
    "start_time": "2021-06-15T18:09:33.891Z"
   },
   {
    "duration": 11,
    "start_time": "2021-06-15T18:09:35.411Z"
   },
   {
    "duration": 31,
    "start_time": "2021-06-15T18:09:35.424Z"
   },
   {
    "duration": 14,
    "start_time": "2021-06-15T18:09:35.458Z"
   },
   {
    "duration": 11,
    "start_time": "2021-06-15T18:09:35.475Z"
   },
   {
    "duration": 24,
    "start_time": "2021-06-15T18:09:35.489Z"
   },
   {
    "duration": 503,
    "start_time": "2021-06-15T18:09:35.555Z"
   },
   {
    "duration": 13,
    "start_time": "2021-06-15T18:09:36.062Z"
   },
   {
    "duration": 26,
    "start_time": "2021-06-15T18:09:36.078Z"
   },
   {
    "duration": 23,
    "start_time": "2021-06-15T18:09:36.107Z"
   },
   {
    "duration": 28,
    "start_time": "2021-06-15T18:09:36.133Z"
   },
   {
    "duration": 36,
    "start_time": "2021-06-15T18:09:36.164Z"
   },
   {
    "duration": 1015,
    "start_time": "2021-06-15T18:49:21.716Z"
   },
   {
    "duration": 3,
    "start_time": "2021-06-15T18:49:22.733Z"
   },
   {
    "duration": 413,
    "start_time": "2021-06-15T18:49:22.737Z"
   },
   {
    "duration": 19,
    "start_time": "2021-06-15T18:49:23.152Z"
   },
   {
    "duration": 31,
    "start_time": "2021-06-15T18:49:23.173Z"
   },
   {
    "duration": 15,
    "start_time": "2021-06-15T18:49:23.206Z"
   },
   {
    "duration": 31,
    "start_time": "2021-06-15T18:49:23.222Z"
   },
   {
    "duration": 13,
    "start_time": "2021-06-15T18:49:23.255Z"
   },
   {
    "duration": 28,
    "start_time": "2021-06-15T18:49:23.270Z"
   },
   {
    "duration": 5,
    "start_time": "2021-06-15T18:49:23.300Z"
   },
   {
    "duration": 10,
    "start_time": "2021-06-15T18:49:23.307Z"
   },
   {
    "duration": 6,
    "start_time": "2021-06-15T18:49:23.319Z"
   },
   {
    "duration": 15,
    "start_time": "2021-06-15T18:49:23.327Z"
   },
   {
    "duration": 98,
    "start_time": "2021-06-15T18:49:23.344Z"
   },
   {
    "duration": 5,
    "start_time": "2021-06-15T18:49:23.443Z"
   },
   {
    "duration": 494,
    "start_time": "2021-06-15T18:49:23.450Z"
   },
   {
    "duration": 41,
    "start_time": "2021-06-15T18:49:23.945Z"
   },
   {
    "duration": 494,
    "start_time": "2021-06-15T18:49:23.989Z"
   },
   {
    "duration": 27,
    "start_time": "2021-06-15T18:49:24.485Z"
   },
   {
    "duration": 7,
    "start_time": "2021-06-15T18:49:24.514Z"
   },
   {
    "duration": 50,
    "start_time": "2021-06-15T18:49:24.522Z"
   },
   {
    "duration": 38,
    "start_time": "2021-06-15T18:49:24.574Z"
   },
   {
    "duration": 16,
    "start_time": "2021-06-15T18:49:24.616Z"
   },
   {
    "duration": 11,
    "start_time": "2021-06-15T18:49:24.634Z"
   },
   {
    "duration": 7,
    "start_time": "2021-06-15T18:49:24.647Z"
   },
   {
    "duration": 42,
    "start_time": "2021-06-15T18:49:24.655Z"
   },
   {
    "duration": 5,
    "start_time": "2021-06-15T18:49:24.699Z"
   },
   {
    "duration": 4,
    "start_time": "2021-06-15T18:49:24.706Z"
   },
   {
    "duration": 9,
    "start_time": "2021-06-15T18:49:24.712Z"
   },
   {
    "duration": 212,
    "start_time": "2021-06-15T18:49:24.722Z"
   },
   {
    "duration": 15,
    "start_time": "2021-06-15T18:49:24.936Z"
   },
   {
    "duration": 23,
    "start_time": "2021-06-15T18:49:24.953Z"
   },
   {
    "duration": 39,
    "start_time": "2021-06-15T18:49:24.977Z"
   },
   {
    "duration": 258,
    "start_time": "2021-06-15T18:49:25.018Z"
   },
   {
    "duration": -193,
    "start_time": "2021-06-15T18:49:25.471Z"
   },
   {
    "duration": -197,
    "start_time": "2021-06-15T18:49:25.476Z"
   },
   {
    "duration": -200,
    "start_time": "2021-06-15T18:49:25.480Z"
   },
   {
    "duration": -204,
    "start_time": "2021-06-15T18:49:25.485Z"
   },
   {
    "duration": -207,
    "start_time": "2021-06-15T18:49:25.489Z"
   },
   {
    "duration": -211,
    "start_time": "2021-06-15T18:49:25.494Z"
   },
   {
    "duration": -213,
    "start_time": "2021-06-15T18:49:25.497Z"
   },
   {
    "duration": -216,
    "start_time": "2021-06-15T18:49:25.501Z"
   },
   {
    "duration": -220,
    "start_time": "2021-06-15T18:49:25.505Z"
   },
   {
    "duration": -222,
    "start_time": "2021-06-15T18:49:25.508Z"
   },
   {
    "duration": -225,
    "start_time": "2021-06-15T18:49:25.512Z"
   },
   {
    "duration": -228,
    "start_time": "2021-06-15T18:49:25.515Z"
   },
   {
    "duration": -231,
    "start_time": "2021-06-15T18:49:25.519Z"
   },
   {
    "duration": -234,
    "start_time": "2021-06-15T18:49:25.523Z"
   },
   {
    "duration": -237,
    "start_time": "2021-06-15T18:49:25.526Z"
   },
   {
    "duration": -240,
    "start_time": "2021-06-15T18:49:25.530Z"
   },
   {
    "duration": -242,
    "start_time": "2021-06-15T18:49:25.533Z"
   },
   {
    "duration": -245,
    "start_time": "2021-06-15T18:49:25.537Z"
   },
   {
    "duration": -246,
    "start_time": "2021-06-15T18:49:25.540Z"
   },
   {
    "duration": -249,
    "start_time": "2021-06-15T18:49:25.544Z"
   },
   {
    "duration": 994,
    "start_time": "2021-06-16T01:01:11.750Z"
   },
   {
    "duration": 3,
    "start_time": "2021-06-16T01:01:12.746Z"
   },
   {
    "duration": 408,
    "start_time": "2021-06-16T01:01:12.751Z"
   },
   {
    "duration": 20,
    "start_time": "2021-06-16T01:01:13.161Z"
   },
   {
    "duration": 31,
    "start_time": "2021-06-16T01:01:13.183Z"
   },
   {
    "duration": 16,
    "start_time": "2021-06-16T01:01:13.216Z"
   },
   {
    "duration": 34,
    "start_time": "2021-06-16T01:01:13.234Z"
   },
   {
    "duration": 25,
    "start_time": "2021-06-16T01:01:13.270Z"
   },
   {
    "duration": 23,
    "start_time": "2021-06-16T01:01:13.298Z"
   },
   {
    "duration": 6,
    "start_time": "2021-06-16T01:01:13.323Z"
   },
   {
    "duration": 12,
    "start_time": "2021-06-16T01:01:13.331Z"
   },
   {
    "duration": 11,
    "start_time": "2021-06-16T01:01:13.344Z"
   },
   {
    "duration": 20,
    "start_time": "2021-06-16T01:01:13.357Z"
   },
   {
    "duration": 75,
    "start_time": "2021-06-16T01:01:13.378Z"
   },
   {
    "duration": 6,
    "start_time": "2021-06-16T01:01:13.454Z"
   },
   {
    "duration": 486,
    "start_time": "2021-06-16T01:01:13.462Z"
   },
   {
    "duration": 35,
    "start_time": "2021-06-16T01:01:13.950Z"
   },
   {
    "duration": 475,
    "start_time": "2021-06-16T01:01:13.987Z"
   },
   {
    "duration": 32,
    "start_time": "2021-06-16T01:01:14.464Z"
   },
   {
    "duration": 9,
    "start_time": "2021-06-16T01:01:14.497Z"
   },
   {
    "duration": 46,
    "start_time": "2021-06-16T01:01:14.508Z"
   },
   {
    "duration": 40,
    "start_time": "2021-06-16T01:01:14.556Z"
   },
   {
    "duration": 18,
    "start_time": "2021-06-16T01:01:14.600Z"
   },
   {
    "duration": 11,
    "start_time": "2021-06-16T01:01:14.620Z"
   },
   {
    "duration": 6,
    "start_time": "2021-06-16T01:01:14.632Z"
   },
   {
    "duration": 27,
    "start_time": "2021-06-16T01:01:14.639Z"
   },
   {
    "duration": 18,
    "start_time": "2021-06-16T01:01:14.667Z"
   },
   {
    "duration": 4,
    "start_time": "2021-06-16T01:01:14.686Z"
   },
   {
    "duration": 6,
    "start_time": "2021-06-16T01:01:14.692Z"
   },
   {
    "duration": 201,
    "start_time": "2021-06-16T01:01:14.700Z"
   },
   {
    "duration": 16,
    "start_time": "2021-06-16T01:01:14.903Z"
   },
   {
    "duration": 9,
    "start_time": "2021-06-16T01:01:14.921Z"
   },
   {
    "duration": 21,
    "start_time": "2021-06-16T01:01:14.931Z"
   },
   {
    "duration": 261,
    "start_time": "2021-06-16T01:01:14.953Z"
   },
   {
    "duration": -1601,
    "start_time": "2021-06-16T01:01:16.817Z"
   },
   {
    "duration": -1600,
    "start_time": "2021-06-16T01:01:16.818Z"
   },
   {
    "duration": -1601,
    "start_time": "2021-06-16T01:01:16.820Z"
   },
   {
    "duration": -1607,
    "start_time": "2021-06-16T01:01:16.828Z"
   },
   {
    "duration": -1608,
    "start_time": "2021-06-16T01:01:16.830Z"
   },
   {
    "duration": -1609,
    "start_time": "2021-06-16T01:01:16.832Z"
   },
   {
    "duration": -1609,
    "start_time": "2021-06-16T01:01:16.834Z"
   },
   {
    "duration": -1614,
    "start_time": "2021-06-16T01:01:16.840Z"
   },
   {
    "duration": -1615,
    "start_time": "2021-06-16T01:01:16.842Z"
   },
   {
    "duration": -1616,
    "start_time": "2021-06-16T01:01:16.844Z"
   },
   {
    "duration": -1617,
    "start_time": "2021-06-16T01:01:16.846Z"
   },
   {
    "duration": -1618,
    "start_time": "2021-06-16T01:01:16.848Z"
   },
   {
    "duration": -1618,
    "start_time": "2021-06-16T01:01:16.849Z"
   },
   {
    "duration": -1734,
    "start_time": "2021-06-16T01:01:16.966Z"
   },
   {
    "duration": -1738,
    "start_time": "2021-06-16T01:01:16.971Z"
   },
   {
    "duration": -1739,
    "start_time": "2021-06-16T01:01:16.973Z"
   },
   {
    "duration": -1739,
    "start_time": "2021-06-16T01:01:16.974Z"
   },
   {
    "duration": -1740,
    "start_time": "2021-06-16T01:01:16.976Z"
   },
   {
    "duration": -1741,
    "start_time": "2021-06-16T01:01:16.978Z"
   },
   {
    "duration": -1742,
    "start_time": "2021-06-16T01:01:16.980Z"
   },
   {
    "duration": 3,
    "start_time": "2021-06-16T01:01:48.062Z"
   },
   {
    "duration": 5,
    "start_time": "2021-06-16T01:01:48.067Z"
   },
   {
    "duration": 413,
    "start_time": "2021-06-16T01:01:48.074Z"
   },
   {
    "duration": 19,
    "start_time": "2021-06-16T01:01:48.489Z"
   },
   {
    "duration": 25,
    "start_time": "2021-06-16T01:01:48.511Z"
   },
   {
    "duration": 15,
    "start_time": "2021-06-16T01:01:48.538Z"
   },
   {
    "duration": 49,
    "start_time": "2021-06-16T01:01:48.555Z"
   },
   {
    "duration": 14,
    "start_time": "2021-06-16T01:01:48.606Z"
   },
   {
    "duration": 13,
    "start_time": "2021-06-16T01:01:48.622Z"
   },
   {
    "duration": 6,
    "start_time": "2021-06-16T01:01:48.637Z"
   },
   {
    "duration": 8,
    "start_time": "2021-06-16T01:01:48.645Z"
   },
   {
    "duration": 35,
    "start_time": "2021-06-16T01:01:48.655Z"
   },
   {
    "duration": 15,
    "start_time": "2021-06-16T01:01:48.692Z"
   },
   {
    "duration": 62,
    "start_time": "2021-06-16T01:01:48.709Z"
   },
   {
    "duration": 5,
    "start_time": "2021-06-16T01:01:48.785Z"
   },
   {
    "duration": 473,
    "start_time": "2021-06-16T01:01:48.792Z"
   },
   {
    "duration": 33,
    "start_time": "2021-06-16T01:01:49.267Z"
   },
   {
    "duration": 485,
    "start_time": "2021-06-16T01:01:49.302Z"
   },
   {
    "duration": 24,
    "start_time": "2021-06-16T01:01:49.789Z"
   },
   {
    "duration": 7,
    "start_time": "2021-06-16T01:01:49.814Z"
   },
   {
    "duration": 45,
    "start_time": "2021-06-16T01:01:49.823Z"
   },
   {
    "duration": 39,
    "start_time": "2021-06-16T01:01:49.869Z"
   },
   {
    "duration": 17,
    "start_time": "2021-06-16T01:01:49.909Z"
   },
   {
    "duration": 12,
    "start_time": "2021-06-16T01:01:49.927Z"
   },
   {
    "duration": 3,
    "start_time": "2021-06-16T01:01:49.943Z"
   },
   {
    "duration": 45,
    "start_time": "2021-06-16T01:01:49.948Z"
   },
   {
    "duration": 5,
    "start_time": "2021-06-16T01:01:49.995Z"
   },
   {
    "duration": 5,
    "start_time": "2021-06-16T01:01:50.002Z"
   },
   {
    "duration": 6,
    "start_time": "2021-06-16T01:01:50.009Z"
   },
   {
    "duration": 213,
    "start_time": "2021-06-16T01:01:50.016Z"
   },
   {
    "duration": 17,
    "start_time": "2021-06-16T01:01:50.231Z"
   },
   {
    "duration": 8,
    "start_time": "2021-06-16T01:01:50.250Z"
   },
   {
    "duration": 35,
    "start_time": "2021-06-16T01:01:50.260Z"
   },
   {
    "duration": 21,
    "start_time": "2021-06-16T01:01:50.297Z"
   },
   {
    "duration": 13,
    "start_time": "2021-06-16T01:01:50.320Z"
   },
   {
    "duration": 9,
    "start_time": "2021-06-16T01:01:50.334Z"
   },
   {
    "duration": 221,
    "start_time": "2021-06-16T01:01:50.345Z"
   },
   {
    "duration": 1147,
    "start_time": "2021-06-16T01:01:50.568Z"
   },
   {
    "duration": 192,
    "start_time": "2021-06-16T01:01:51.716Z"
   },
   {
    "duration": 1167,
    "start_time": "2021-06-16T01:01:51.910Z"
   },
   {
    "duration": 186,
    "start_time": "2021-06-16T01:01:53.078Z"
   },
   {
    "duration": 646,
    "start_time": "2021-06-16T01:01:53.266Z"
   },
   {
    "duration": 7,
    "start_time": "2021-06-16T01:01:53.913Z"
   },
   {
    "duration": 5,
    "start_time": "2021-06-16T01:01:53.922Z"
   },
   {
    "duration": 7,
    "start_time": "2021-06-16T01:01:53.929Z"
   },
   {
    "duration": 5,
    "start_time": "2021-06-16T01:01:53.938Z"
   },
   {
    "duration": 12,
    "start_time": "2021-06-16T01:01:53.944Z"
   },
   {
    "duration": 215,
    "start_time": "2021-06-16T01:01:53.957Z"
   },
   {
    "duration": 15,
    "start_time": "2021-06-16T01:01:54.173Z"
   },
   {
    "duration": 3,
    "start_time": "2021-06-16T01:01:54.189Z"
   },
   {
    "duration": 7,
    "start_time": "2021-06-16T01:01:54.193Z"
   },
   {
    "duration": 13,
    "start_time": "2021-06-16T01:01:54.202Z"
   },
   {
    "duration": 14,
    "start_time": "2021-06-16T01:01:54.216Z"
   },
   {
    "duration": 12,
    "start_time": "2021-06-16T01:04:21.866Z"
   },
   {
    "duration": 58,
    "start_time": "2021-06-16T01:05:40.662Z"
   },
   {
    "duration": 68,
    "start_time": "2021-06-16T01:06:09.026Z"
   },
   {
    "duration": 60,
    "start_time": "2021-06-16T01:10:14.074Z"
   },
   {
    "duration": 72,
    "start_time": "2021-06-16T01:10:14.286Z"
   },
   {
    "duration": -1667,
    "start_time": "2021-06-16T01:10:16.027Z"
   },
   {
    "duration": -1668,
    "start_time": "2021-06-16T01:10:16.029Z"
   },
   {
    "duration": -1693,
    "start_time": "2021-06-16T01:10:16.055Z"
   },
   {
    "duration": -1694,
    "start_time": "2021-06-16T01:10:16.057Z"
   },
   {
    "duration": -1695,
    "start_time": "2021-06-16T01:10:16.059Z"
   },
   {
    "duration": -1698,
    "start_time": "2021-06-16T01:10:16.062Z"
   },
   {
    "duration": -1699,
    "start_time": "2021-06-16T01:10:16.064Z"
   },
   {
    "duration": -1700,
    "start_time": "2021-06-16T01:10:16.066Z"
   },
   {
    "duration": -1701,
    "start_time": "2021-06-16T01:10:16.068Z"
   },
   {
    "duration": -1702,
    "start_time": "2021-06-16T01:10:16.070Z"
   },
   {
    "duration": -1709,
    "start_time": "2021-06-16T01:10:16.078Z"
   },
   {
    "duration": 229,
    "start_time": "2021-06-16T01:10:14.370Z"
   },
   {
    "duration": -1653,
    "start_time": "2021-06-16T01:10:16.255Z"
   },
   {
    "duration": -1654,
    "start_time": "2021-06-16T01:10:16.257Z"
   },
   {
    "duration": -1657,
    "start_time": "2021-06-16T01:10:16.260Z"
   },
   {
    "duration": -1658,
    "start_time": "2021-06-16T01:10:16.262Z"
   },
   {
    "duration": -1659,
    "start_time": "2021-06-16T01:10:16.264Z"
   },
   {
    "duration": -1661,
    "start_time": "2021-06-16T01:10:16.267Z"
   },
   {
    "duration": -1661,
    "start_time": "2021-06-16T01:10:16.269Z"
   },
   {
    "duration": -1663,
    "start_time": "2021-06-16T01:10:16.271Z"
   },
   {
    "duration": -1664,
    "start_time": "2021-06-16T01:10:16.273Z"
   },
   {
    "duration": -1668,
    "start_time": "2021-06-16T01:10:16.279Z"
   },
   {
    "duration": -1670,
    "start_time": "2021-06-16T01:10:16.282Z"
   },
   {
    "duration": -1671,
    "start_time": "2021-06-16T01:10:16.284Z"
   },
   {
    "duration": -1678,
    "start_time": "2021-06-16T01:10:16.292Z"
   },
   {
    "duration": -1681,
    "start_time": "2021-06-16T01:10:16.296Z"
   },
   {
    "duration": -1684,
    "start_time": "2021-06-16T01:10:16.299Z"
   },
   {
    "duration": -1686,
    "start_time": "2021-06-16T01:10:16.302Z"
   },
   {
    "duration": -1688,
    "start_time": "2021-06-16T01:10:16.305Z"
   },
   {
    "duration": -1690,
    "start_time": "2021-06-16T01:10:16.308Z"
   },
   {
    "duration": -1691,
    "start_time": "2021-06-16T01:10:16.310Z"
   },
   {
    "duration": -1692,
    "start_time": "2021-06-16T01:10:16.312Z"
   },
   {
    "duration": -1693,
    "start_time": "2021-06-16T01:10:16.314Z"
   },
   {
    "duration": -1696,
    "start_time": "2021-06-16T01:10:16.318Z"
   },
   {
    "duration": -1702,
    "start_time": "2021-06-16T01:10:16.325Z"
   },
   {
    "duration": -1703,
    "start_time": "2021-06-16T01:10:16.327Z"
   },
   {
    "duration": -1704,
    "start_time": "2021-06-16T01:10:16.329Z"
   },
   {
    "duration": -1704,
    "start_time": "2021-06-16T01:10:16.330Z"
   },
   {
    "duration": -1705,
    "start_time": "2021-06-16T01:10:16.332Z"
   },
   {
    "duration": -1707,
    "start_time": "2021-06-16T01:10:16.335Z"
   },
   {
    "duration": -1708,
    "start_time": "2021-06-16T01:10:16.337Z"
   },
   {
    "duration": -1709,
    "start_time": "2021-06-16T01:10:16.339Z"
   },
   {
    "duration": -1710,
    "start_time": "2021-06-16T01:10:16.341Z"
   },
   {
    "duration": -1711,
    "start_time": "2021-06-16T01:10:16.343Z"
   },
   {
    "duration": -1711,
    "start_time": "2021-06-16T01:10:16.344Z"
   },
   {
    "duration": -1712,
    "start_time": "2021-06-16T01:10:16.346Z"
   },
   {
    "duration": -1713,
    "start_time": "2021-06-16T01:10:16.348Z"
   },
   {
    "duration": -1718,
    "start_time": "2021-06-16T01:10:16.354Z"
   },
   {
    "duration": -1720,
    "start_time": "2021-06-16T01:10:16.356Z"
   },
   {
    "duration": -1722,
    "start_time": "2021-06-16T01:10:16.359Z"
   },
   {
    "duration": -1723,
    "start_time": "2021-06-16T01:10:16.361Z"
   },
   {
    "duration": -1723,
    "start_time": "2021-06-16T01:10:16.362Z"
   },
   {
    "duration": -1679,
    "start_time": "2021-06-16T01:10:16.364Z"
   },
   {
    "duration": -1680,
    "start_time": "2021-06-16T01:10:16.366Z"
   },
   {
    "duration": 64,
    "start_time": "2021-06-16T01:11:15.501Z"
   },
   {
    "duration": 58,
    "start_time": "2021-06-16T01:11:35.691Z"
   },
   {
    "duration": 66,
    "start_time": "2021-06-16T01:11:43.298Z"
   },
   {
    "duration": 946,
    "start_time": "2021-06-16T01:11:48.106Z"
   },
   {
    "duration": 3,
    "start_time": "2021-06-16T01:11:50.034Z"
   },
   {
    "duration": 3,
    "start_time": "2021-06-16T01:11:52.974Z"
   },
   {
    "duration": 65,
    "start_time": "2021-06-16T01:11:54.331Z"
   },
   {
    "duration": 3,
    "start_time": "2021-06-16T01:13:13.854Z"
   },
   {
    "duration": 4,
    "start_time": "2021-06-16T01:13:13.859Z"
   },
   {
    "duration": 438,
    "start_time": "2021-06-16T01:13:13.865Z"
   },
   {
    "duration": 20,
    "start_time": "2021-06-16T01:13:14.305Z"
   },
   {
    "duration": 30,
    "start_time": "2021-06-16T01:13:14.327Z"
   },
   {
    "duration": 15,
    "start_time": "2021-06-16T01:13:14.359Z"
   },
   {
    "duration": 33,
    "start_time": "2021-06-16T01:13:14.377Z"
   },
   {
    "duration": 13,
    "start_time": "2021-06-16T01:13:14.412Z"
   },
   {
    "duration": 12,
    "start_time": "2021-06-16T01:13:14.427Z"
   },
   {
    "duration": 5,
    "start_time": "2021-06-16T01:13:14.440Z"
   },
   {
    "duration": 38,
    "start_time": "2021-06-16T01:13:14.447Z"
   },
   {
    "duration": 6,
    "start_time": "2021-06-16T01:13:14.487Z"
   },
   {
    "duration": 14,
    "start_time": "2021-06-16T01:13:14.495Z"
   },
   {
    "duration": 90,
    "start_time": "2021-06-16T01:13:14.511Z"
   },
   {
    "duration": 6,
    "start_time": "2021-06-16T01:13:14.602Z"
   },
   {
    "duration": 492,
    "start_time": "2021-06-16T01:13:14.609Z"
   },
   {
    "duration": 32,
    "start_time": "2021-06-16T01:13:15.103Z"
   },
   {
    "duration": 479,
    "start_time": "2021-06-16T01:13:15.137Z"
   },
   {
    "duration": 25,
    "start_time": "2021-06-16T01:13:15.619Z"
   },
   {
    "duration": 7,
    "start_time": "2021-06-16T01:13:15.646Z"
   },
   {
    "duration": 60,
    "start_time": "2021-06-16T01:13:15.655Z"
   },
   {
    "duration": 30,
    "start_time": "2021-06-16T01:13:15.717Z"
   },
   {
    "duration": 18,
    "start_time": "2021-06-16T01:13:15.749Z"
   },
   {
    "duration": 28,
    "start_time": "2021-06-16T01:13:15.769Z"
   },
   {
    "duration": 3,
    "start_time": "2021-06-16T01:13:15.799Z"
   },
   {
    "duration": 23,
    "start_time": "2021-06-16T01:13:15.804Z"
   },
   {
    "duration": 4,
    "start_time": "2021-06-16T01:13:15.829Z"
   },
   {
    "duration": 5,
    "start_time": "2021-06-16T01:13:15.835Z"
   },
   {
    "duration": 5,
    "start_time": "2021-06-16T01:13:15.841Z"
   },
   {
    "duration": 213,
    "start_time": "2021-06-16T01:13:15.847Z"
   },
   {
    "duration": 24,
    "start_time": "2021-06-16T01:13:16.062Z"
   },
   {
    "duration": 8,
    "start_time": "2021-06-16T01:13:16.087Z"
   },
   {
    "duration": 21,
    "start_time": "2021-06-16T01:13:16.096Z"
   },
   {
    "duration": 12,
    "start_time": "2021-06-16T01:13:16.119Z"
   },
   {
    "duration": 23,
    "start_time": "2021-06-16T01:13:16.132Z"
   },
   {
    "duration": 13,
    "start_time": "2021-06-16T01:13:16.184Z"
   },
   {
    "duration": 9,
    "start_time": "2021-06-16T01:13:16.198Z"
   },
   {
    "duration": 209,
    "start_time": "2021-06-16T01:13:16.208Z"
   },
   {
    "duration": 1083,
    "start_time": "2021-06-16T01:13:16.418Z"
   },
   {
    "duration": 186,
    "start_time": "2021-06-16T01:13:17.503Z"
   },
   {
    "duration": 1033,
    "start_time": "2021-06-16T01:13:17.691Z"
   },
   {
    "duration": 178,
    "start_time": "2021-06-16T01:13:18.725Z"
   },
   {
    "duration": 742,
    "start_time": "2021-06-16T01:13:18.904Z"
   },
   {
    "duration": 7,
    "start_time": "2021-06-16T01:13:19.647Z"
   },
   {
    "duration": 7,
    "start_time": "2021-06-16T01:13:19.656Z"
   },
   {
    "duration": 6,
    "start_time": "2021-06-16T01:13:19.664Z"
   },
   {
    "duration": 17,
    "start_time": "2021-06-16T01:13:19.671Z"
   },
   {
    "duration": 12,
    "start_time": "2021-06-16T01:13:19.689Z"
   },
   {
    "duration": 200,
    "start_time": "2021-06-16T01:13:19.702Z"
   },
   {
    "duration": 7,
    "start_time": "2021-06-16T01:13:19.903Z"
   },
   {
    "duration": 5,
    "start_time": "2021-06-16T01:13:19.911Z"
   },
   {
    "duration": 6,
    "start_time": "2021-06-16T01:13:19.918Z"
   },
   {
    "duration": 6,
    "start_time": "2021-06-16T01:13:19.925Z"
   },
   {
    "duration": 15,
    "start_time": "2021-06-16T01:13:19.932Z"
   },
   {
    "duration": 1421,
    "start_time": "2021-06-16T08:25:13.828Z"
   },
   {
    "duration": 4,
    "start_time": "2021-06-16T08:25:15.252Z"
   },
   {
    "duration": 519,
    "start_time": "2021-06-16T08:25:15.258Z"
   },
   {
    "duration": 28,
    "start_time": "2021-06-16T08:25:15.779Z"
   },
   {
    "duration": 43,
    "start_time": "2021-06-16T08:25:15.810Z"
   },
   {
    "duration": 52,
    "start_time": "2021-06-16T08:25:15.856Z"
   },
   {
    "duration": 43,
    "start_time": "2021-06-16T08:25:15.911Z"
   },
   {
    "duration": 22,
    "start_time": "2021-06-16T08:25:15.988Z"
   },
   {
    "duration": 22,
    "start_time": "2021-06-16T08:25:16.015Z"
   },
   {
    "duration": 12,
    "start_time": "2021-06-16T08:25:16.085Z"
   },
   {
    "duration": 18,
    "start_time": "2021-06-16T08:25:16.100Z"
   },
   {
    "duration": 12,
    "start_time": "2021-06-16T08:25:16.120Z"
   },
   {
    "duration": 71,
    "start_time": "2021-06-16T08:25:16.134Z"
   },
   {
    "duration": 119,
    "start_time": "2021-06-16T08:25:16.207Z"
   },
   {
    "duration": 7,
    "start_time": "2021-06-16T08:25:16.328Z"
   },
   {
    "duration": 836,
    "start_time": "2021-06-16T08:25:16.337Z"
   },
   {
    "duration": 48,
    "start_time": "2021-06-16T08:25:17.175Z"
   },
   {
    "duration": 833,
    "start_time": "2021-06-16T08:25:17.225Z"
   },
   {
    "duration": 41,
    "start_time": "2021-06-16T08:25:18.061Z"
   },
   {
    "duration": 10,
    "start_time": "2021-06-16T08:25:18.105Z"
   },
   {
    "duration": 81,
    "start_time": "2021-06-16T08:25:18.117Z"
   },
   {
    "duration": 37,
    "start_time": "2021-06-16T08:25:18.201Z"
   },
   {
    "duration": 50,
    "start_time": "2021-06-16T08:25:18.244Z"
   },
   {
    "duration": 21,
    "start_time": "2021-06-16T08:25:18.297Z"
   },
   {
    "duration": 4,
    "start_time": "2021-06-16T08:25:18.321Z"
   },
   {
    "duration": 72,
    "start_time": "2021-06-16T08:25:18.328Z"
   },
   {
    "duration": 7,
    "start_time": "2021-06-16T08:25:18.403Z"
   },
   {
    "duration": 6,
    "start_time": "2021-06-16T08:25:18.413Z"
   },
   {
    "duration": 8,
    "start_time": "2021-06-16T08:25:18.421Z"
   },
   {
    "duration": 372,
    "start_time": "2021-06-16T08:25:18.432Z"
   },
   {
    "duration": 26,
    "start_time": "2021-06-16T08:25:18.807Z"
   },
   {
    "duration": 15,
    "start_time": "2021-06-16T08:25:18.836Z"
   },
   {
    "duration": 37,
    "start_time": "2021-06-16T08:25:18.887Z"
   },
   {
    "duration": 20,
    "start_time": "2021-06-16T08:25:18.926Z"
   },
   {
    "duration": 68,
    "start_time": "2021-06-16T08:25:18.949Z"
   },
   {
    "duration": 22,
    "start_time": "2021-06-16T08:25:19.020Z"
   },
   {
    "duration": 43,
    "start_time": "2021-06-16T08:25:19.045Z"
   },
   {
    "duration": 350,
    "start_time": "2021-06-16T08:25:19.090Z"
   },
   {
    "duration": 2018,
    "start_time": "2021-06-16T08:25:19.443Z"
   },
   {
    "duration": 336,
    "start_time": "2021-06-16T08:25:21.463Z"
   },
   {
    "duration": 1969,
    "start_time": "2021-06-16T08:25:21.801Z"
   },
   {
    "duration": 333,
    "start_time": "2021-06-16T08:25:23.773Z"
   },
   {
    "duration": 1323,
    "start_time": "2021-06-16T08:25:24.108Z"
   },
   {
    "duration": 11,
    "start_time": "2021-06-16T08:25:25.434Z"
   },
   {
    "duration": 6,
    "start_time": "2021-06-16T08:25:25.448Z"
   },
   {
    "duration": 33,
    "start_time": "2021-06-16T08:25:25.457Z"
   },
   {
    "duration": 9,
    "start_time": "2021-06-16T08:25:25.493Z"
   },
   {
    "duration": 24,
    "start_time": "2021-06-16T08:25:25.505Z"
   },
   {
    "duration": 390,
    "start_time": "2021-06-16T08:25:25.531Z"
   },
   {
    "duration": 10,
    "start_time": "2021-06-16T08:25:25.924Z"
   },
   {
    "duration": 5,
    "start_time": "2021-06-16T08:25:25.936Z"
   },
   {
    "duration": 7,
    "start_time": "2021-06-16T08:25:25.943Z"
   },
   {
    "duration": 36,
    "start_time": "2021-06-16T08:25:25.953Z"
   },
   {
    "duration": 22,
    "start_time": "2021-06-16T08:25:25.991Z"
   },
   {
    "duration": 1255,
    "start_time": "2021-06-17T07:13:17.461Z"
   },
   {
    "duration": 3,
    "start_time": "2021-06-17T07:13:18.719Z"
   },
   {
    "duration": 475,
    "start_time": "2021-06-17T07:13:18.725Z"
   },
   {
    "duration": 26,
    "start_time": "2021-06-17T07:13:19.203Z"
   },
   {
    "duration": 41,
    "start_time": "2021-06-17T07:13:19.232Z"
   },
   {
    "duration": 27,
    "start_time": "2021-06-17T07:13:19.275Z"
   },
   {
    "duration": 36,
    "start_time": "2021-06-17T07:13:19.304Z"
   },
   {
    "duration": 43,
    "start_time": "2021-06-17T07:13:19.344Z"
   },
   {
    "duration": 17,
    "start_time": "2021-06-17T07:13:19.390Z"
   },
   {
    "duration": 9,
    "start_time": "2021-06-17T07:13:19.409Z"
   },
   {
    "duration": 14,
    "start_time": "2021-06-17T07:13:19.420Z"
   },
   {
    "duration": 51,
    "start_time": "2021-06-17T07:13:19.436Z"
   },
   {
    "duration": 23,
    "start_time": "2021-06-17T07:13:19.489Z"
   },
   {
    "duration": 111,
    "start_time": "2021-06-17T07:13:19.514Z"
   },
   {
    "duration": 6,
    "start_time": "2021-06-17T07:13:19.628Z"
   },
   {
    "duration": 757,
    "start_time": "2021-06-17T07:13:19.636Z"
   },
   {
    "duration": 38,
    "start_time": "2021-06-17T07:13:20.396Z"
   },
   {
    "duration": 731,
    "start_time": "2021-06-17T07:13:20.436Z"
   },
   {
    "duration": 32,
    "start_time": "2021-06-17T07:13:21.169Z"
   },
   {
    "duration": 9,
    "start_time": "2021-06-17T07:13:21.203Z"
   },
   {
    "duration": 82,
    "start_time": "2021-06-17T07:13:21.215Z"
   },
   {
    "duration": 38,
    "start_time": "2021-06-17T07:13:21.299Z"
   },
   {
    "duration": 46,
    "start_time": "2021-06-17T07:13:21.342Z"
   },
   {
    "duration": 18,
    "start_time": "2021-06-17T07:13:21.391Z"
   },
   {
    "duration": 4,
    "start_time": "2021-06-17T07:13:21.412Z"
   },
   {
    "duration": 33,
    "start_time": "2021-06-17T07:13:21.419Z"
   },
   {
    "duration": 31,
    "start_time": "2021-06-17T07:13:21.454Z"
   },
   {
    "duration": 6,
    "start_time": "2021-06-17T07:13:21.487Z"
   },
   {
    "duration": 8,
    "start_time": "2021-06-17T07:13:21.495Z"
   },
   {
    "duration": 337,
    "start_time": "2021-06-17T07:13:21.505Z"
   },
   {
    "duration": 22,
    "start_time": "2021-06-17T07:13:21.845Z"
   },
   {
    "duration": 23,
    "start_time": "2021-06-17T07:13:21.869Z"
   },
   {
    "duration": 29,
    "start_time": "2021-06-17T07:13:21.895Z"
   },
   {
    "duration": 19,
    "start_time": "2021-06-17T07:13:21.926Z"
   },
   {
    "duration": 67,
    "start_time": "2021-06-17T07:13:21.947Z"
   },
   {
    "duration": 20,
    "start_time": "2021-06-17T07:13:22.017Z"
   },
   {
    "duration": 12,
    "start_time": "2021-06-17T07:13:22.039Z"
   },
   {
    "duration": 330,
    "start_time": "2021-06-17T07:13:22.054Z"
   },
   {
    "duration": 1741,
    "start_time": "2021-06-17T07:13:22.387Z"
   },
   {
    "duration": 300,
    "start_time": "2021-06-17T07:13:24.131Z"
   },
   {
    "duration": 1765,
    "start_time": "2021-06-17T07:13:24.434Z"
   },
   {
    "duration": 305,
    "start_time": "2021-06-17T07:13:26.202Z"
   },
   {
    "duration": 1171,
    "start_time": "2021-06-17T07:13:26.509Z"
   },
   {
    "duration": 10,
    "start_time": "2021-06-17T07:13:27.683Z"
   },
   {
    "duration": 5,
    "start_time": "2021-06-17T07:13:27.696Z"
   },
   {
    "duration": 9,
    "start_time": "2021-06-17T07:13:27.703Z"
   },
   {
    "duration": 6,
    "start_time": "2021-06-17T07:13:27.714Z"
   },
   {
    "duration": 60,
    "start_time": "2021-06-17T07:13:27.723Z"
   },
   {
    "duration": 301,
    "start_time": "2021-06-17T07:13:27.785Z"
   },
   {
    "duration": 11,
    "start_time": "2021-06-17T07:13:28.088Z"
   },
   {
    "duration": 9,
    "start_time": "2021-06-17T07:13:28.101Z"
   },
   {
    "duration": 10,
    "start_time": "2021-06-17T07:13:28.112Z"
   },
   {
    "duration": 8,
    "start_time": "2021-06-17T07:13:28.124Z"
   },
   {
    "duration": 59,
    "start_time": "2021-06-17T07:13:28.134Z"
   },
   {
    "duration": 391,
    "start_time": "2021-06-17T08:37:20.463Z"
   },
   {
    "duration": 1974,
    "start_time": "2021-06-17T08:37:28.646Z"
   },
   {
    "duration": 4,
    "start_time": "2021-06-17T08:37:30.624Z"
   },
   {
    "duration": 847,
    "start_time": "2021-06-17T08:37:30.632Z"
   },
   {
    "duration": 49,
    "start_time": "2021-06-17T08:37:31.483Z"
   },
   {
    "duration": 44,
    "start_time": "2021-06-17T08:37:31.534Z"
   },
   {
    "duration": 23,
    "start_time": "2021-06-17T08:37:31.580Z"
   },
   {
    "duration": 67,
    "start_time": "2021-06-17T08:37:31.605Z"
   },
   {
    "duration": 18,
    "start_time": "2021-06-17T08:37:31.676Z"
   },
   {
    "duration": 18,
    "start_time": "2021-06-17T08:37:31.697Z"
   },
   {
    "duration": 9,
    "start_time": "2021-06-17T08:37:31.717Z"
   },
   {
    "duration": 12,
    "start_time": "2021-06-17T08:37:31.757Z"
   },
   {
    "duration": 15,
    "start_time": "2021-06-17T08:37:31.771Z"
   },
   {
    "duration": 30,
    "start_time": "2021-06-17T08:37:31.789Z"
   },
   {
    "duration": 124,
    "start_time": "2021-06-17T08:37:31.821Z"
   },
   {
    "duration": 12,
    "start_time": "2021-06-17T08:37:31.947Z"
   },
   {
    "duration": 811,
    "start_time": "2021-06-17T08:37:31.962Z"
   },
   {
    "duration": 44,
    "start_time": "2021-06-17T08:37:32.775Z"
   },
   {
    "duration": 820,
    "start_time": "2021-06-17T08:37:32.822Z"
   },
   {
    "duration": 35,
    "start_time": "2021-06-17T08:37:33.645Z"
   },
   {
    "duration": 11,
    "start_time": "2021-06-17T08:37:33.682Z"
   },
   {
    "duration": 110,
    "start_time": "2021-06-17T08:37:33.696Z"
   },
   {
    "duration": 64,
    "start_time": "2021-06-17T08:37:33.809Z"
   },
   {
    "duration": 41,
    "start_time": "2021-06-17T08:37:33.882Z"
   },
   {
    "duration": 50,
    "start_time": "2021-06-17T08:37:33.927Z"
   },
   {
    "duration": 6,
    "start_time": "2021-06-17T08:37:33.981Z"
   },
   {
    "duration": 73,
    "start_time": "2021-06-17T08:37:33.990Z"
   },
   {
    "duration": 20,
    "start_time": "2021-06-17T08:37:34.067Z"
   },
   {
    "duration": 8,
    "start_time": "2021-06-17T08:37:34.090Z"
   },
   {
    "duration": 11,
    "start_time": "2021-06-17T08:37:34.101Z"
   },
   {
    "duration": 9,
    "start_time": "2021-06-17T08:37:34.116Z"
   },
   {
    "duration": 660,
    "start_time": "2021-06-17T08:37:34.158Z"
   },
   {
    "duration": 47,
    "start_time": "2021-06-17T08:37:34.822Z"
   },
   {
    "duration": 15,
    "start_time": "2021-06-17T08:37:34.872Z"
   },
   {
    "duration": 68,
    "start_time": "2021-06-17T08:37:34.890Z"
   },
   {
    "duration": 29,
    "start_time": "2021-06-17T08:37:34.961Z"
   },
   {
    "duration": 74,
    "start_time": "2021-06-17T08:37:34.993Z"
   },
   {
    "duration": 88,
    "start_time": "2021-06-17T08:37:35.070Z"
   },
   {
    "duration": 28,
    "start_time": "2021-06-17T08:37:35.161Z"
   },
   {
    "duration": 853,
    "start_time": "2021-06-17T08:37:35.192Z"
   },
   {
    "duration": 3421,
    "start_time": "2021-06-17T08:37:36.048Z"
   },
   {
    "duration": 506,
    "start_time": "2021-06-17T08:37:39.472Z"
   },
   {
    "duration": 3640,
    "start_time": "2021-06-17T08:37:39.981Z"
   },
   {
    "duration": 449,
    "start_time": "2021-06-17T08:37:43.624Z"
   },
   {
    "duration": 2100,
    "start_time": "2021-06-17T08:37:44.077Z"
   },
   {
    "duration": 16,
    "start_time": "2021-06-17T08:37:46.180Z"
   },
   {
    "duration": 3,
    "start_time": "2021-06-17T08:37:46.199Z"
   },
   {
    "duration": 9,
    "start_time": "2021-06-17T08:37:46.205Z"
   },
   {
    "duration": 43,
    "start_time": "2021-06-17T08:37:46.216Z"
   },
   {
    "duration": 18,
    "start_time": "2021-06-17T08:37:46.261Z"
   },
   {
    "duration": 336,
    "start_time": "2021-06-17T08:37:46.281Z"
   },
   {
    "duration": 11,
    "start_time": "2021-06-17T08:37:46.619Z"
   },
   {
    "duration": 25,
    "start_time": "2021-06-17T08:37:46.632Z"
   },
   {
    "duration": 12,
    "start_time": "2021-06-17T08:37:46.660Z"
   },
   {
    "duration": 12,
    "start_time": "2021-06-17T08:37:46.674Z"
   },
   {
    "duration": 25,
    "start_time": "2021-06-17T08:37:46.689Z"
   },
   {
    "duration": 1105,
    "start_time": "2021-06-17T08:44:35.651Z"
   },
   {
    "duration": 1131,
    "start_time": "2021-06-17T08:45:27.282Z"
   },
   {
    "duration": 1201,
    "start_time": "2021-06-17T08:45:36.107Z"
   },
   {
    "duration": 1018,
    "start_time": "2021-06-17T08:46:17.055Z"
   },
   {
    "duration": 789,
    "start_time": "2021-06-17T08:46:27.338Z"
   },
   {
    "duration": 39,
    "start_time": "2021-06-17T08:47:33.247Z"
   },
   {
    "duration": 864,
    "start_time": "2021-06-17T08:50:12.739Z"
   },
   {
    "duration": 837,
    "start_time": "2021-06-17T08:50:58.887Z"
   },
   {
    "duration": 397,
    "start_time": "2021-06-17T08:52:35.051Z"
   },
   {
    "duration": 10,
    "start_time": "2021-06-17T08:52:44.915Z"
   },
   {
    "duration": 41,
    "start_time": "2021-06-17T09:05:04.623Z"
   },
   {
    "duration": 255,
    "start_time": "2021-06-17T12:56:20.914Z"
   },
   {
    "duration": 16,
    "start_time": "2021-06-17T12:56:29.490Z"
   },
   {
    "duration": 16,
    "start_time": "2021-06-17T12:57:36.037Z"
   },
   {
    "duration": 21,
    "start_time": "2021-06-17T12:58:14.350Z"
   },
   {
    "duration": 15,
    "start_time": "2021-06-17T12:59:10.678Z"
   },
   {
    "duration": 723,
    "start_time": "2021-06-17T13:02:38.533Z"
   },
   {
    "duration": 724,
    "start_time": "2021-06-17T13:02:52.078Z"
   },
   {
    "duration": 73,
    "start_time": "2021-06-17T13:03:27.489Z"
   },
   {
    "duration": 16,
    "start_time": "2021-06-17T13:03:39.930Z"
   },
   {
    "duration": 13,
    "start_time": "2021-06-17T13:07:31.294Z"
   },
   {
    "duration": 14,
    "start_time": "2021-06-17T13:07:36.838Z"
   },
   {
    "duration": 4,
    "start_time": "2021-06-17T13:54:27.546Z"
   },
   {
    "duration": 6,
    "start_time": "2021-06-17T13:54:27.552Z"
   },
   {
    "duration": 612,
    "start_time": "2021-06-17T13:54:27.561Z"
   },
   {
    "duration": 27,
    "start_time": "2021-06-17T13:54:28.176Z"
   },
   {
    "duration": 210,
    "start_time": "2021-06-17T13:54:28.206Z"
   },
   {
    "duration": 23,
    "start_time": "2021-06-17T13:54:28.418Z"
   },
   {
    "duration": 37,
    "start_time": "2021-06-17T13:54:28.458Z"
   },
   {
    "duration": 19,
    "start_time": "2021-06-17T13:54:28.498Z"
   },
   {
    "duration": 47,
    "start_time": "2021-06-17T13:54:28.519Z"
   },
   {
    "duration": 9,
    "start_time": "2021-06-17T13:54:28.569Z"
   },
   {
    "duration": 15,
    "start_time": "2021-06-17T13:54:28.581Z"
   },
   {
    "duration": 11,
    "start_time": "2021-06-17T13:54:28.599Z"
   },
   {
    "duration": 60,
    "start_time": "2021-06-17T13:54:28.612Z"
   },
   {
    "duration": 117,
    "start_time": "2021-06-17T13:54:28.675Z"
   },
   {
    "duration": 6,
    "start_time": "2021-06-17T13:54:28.795Z"
   },
   {
    "duration": 798,
    "start_time": "2021-06-17T13:54:28.804Z"
   },
   {
    "duration": 51,
    "start_time": "2021-06-17T13:54:29.605Z"
   },
   {
    "duration": 806,
    "start_time": "2021-06-17T13:54:29.661Z"
   },
   {
    "duration": 32,
    "start_time": "2021-06-17T13:54:30.470Z"
   },
   {
    "duration": 10,
    "start_time": "2021-06-17T13:54:30.505Z"
   },
   {
    "duration": 90,
    "start_time": "2021-06-17T13:54:30.517Z"
   },
   {
    "duration": 48,
    "start_time": "2021-06-17T13:54:30.609Z"
   },
   {
    "duration": 24,
    "start_time": "2021-06-17T13:54:30.659Z"
   },
   {
    "duration": 25,
    "start_time": "2021-06-17T13:54:30.685Z"
   },
   {
    "duration": 19,
    "start_time": "2021-06-17T13:54:30.713Z"
   },
   {
    "duration": 58,
    "start_time": "2021-06-17T13:54:30.735Z"
   },
   {
    "duration": 8,
    "start_time": "2021-06-17T13:54:30.795Z"
   },
   {
    "duration": 8,
    "start_time": "2021-06-17T13:54:30.805Z"
   },
   {
    "duration": 10,
    "start_time": "2021-06-17T13:54:30.815Z"
   },
   {
    "duration": 381,
    "start_time": "2021-06-17T13:54:30.827Z"
   },
   {
    "duration": 28,
    "start_time": "2021-06-17T13:54:31.211Z"
   },
   {
    "duration": 19,
    "start_time": "2021-06-17T13:54:31.241Z"
   },
   {
    "duration": 38,
    "start_time": "2021-06-17T13:54:31.263Z"
   },
   {
    "duration": 20,
    "start_time": "2021-06-17T13:54:31.303Z"
   },
   {
    "duration": 59,
    "start_time": "2021-06-17T13:54:31.326Z"
   },
   {
    "duration": 21,
    "start_time": "2021-06-17T13:54:31.388Z"
   },
   {
    "duration": 15,
    "start_time": "2021-06-17T13:54:31.412Z"
   },
   {
    "duration": 372,
    "start_time": "2021-06-17T13:54:31.430Z"
   },
   {
    "duration": 1955,
    "start_time": "2021-06-17T13:54:31.805Z"
   },
   {
    "duration": 311,
    "start_time": "2021-06-17T13:54:33.762Z"
   },
   {
    "duration": 2080,
    "start_time": "2021-06-17T13:54:34.075Z"
   },
   {
    "duration": 318,
    "start_time": "2021-06-17T13:54:36.158Z"
   },
   {
    "duration": 1164,
    "start_time": "2021-06-17T13:54:36.478Z"
   },
   {
    "duration": 26,
    "start_time": "2021-06-17T13:54:37.645Z"
   },
   {
    "duration": 14,
    "start_time": "2021-06-17T13:54:37.674Z"
   },
   {
    "duration": 10,
    "start_time": "2021-06-17T13:54:37.691Z"
   },
   {
    "duration": 8,
    "start_time": "2021-06-17T13:54:37.704Z"
   },
   {
    "duration": 46,
    "start_time": "2021-06-17T13:54:37.715Z"
   },
   {
    "duration": 27,
    "start_time": "2021-06-17T13:54:37.764Z"
   },
   {
    "duration": 515,
    "start_time": "2021-06-17T13:54:37.795Z"
   },
   {
    "duration": 16,
    "start_time": "2021-06-17T13:54:38.320Z"
   },
   {
    "duration": 16,
    "start_time": "2021-06-17T13:54:38.340Z"
   },
   {
    "duration": 8,
    "start_time": "2021-06-17T13:54:38.359Z"
   },
   {
    "duration": 13,
    "start_time": "2021-06-17T13:54:38.370Z"
   },
   {
    "duration": 36,
    "start_time": "2021-06-17T13:54:38.387Z"
   }
  ],
  "kernelspec": {
   "display_name": "Python 3",
   "language": "python",
   "name": "python3"
  },
  "language_info": {
   "codemirror_mode": {
    "name": "ipython",
    "version": 3
   },
   "file_extension": ".py",
   "mimetype": "text/x-python",
   "name": "python",
   "nbconvert_exporter": "python",
   "pygments_lexer": "ipython3",
   "version": "3.8.8"
  },
  "toc": {
   "base_numbering": 1,
   "nav_menu": {},
   "number_sections": true,
   "sideBar": true,
   "skip_h1_title": true,
   "title_cell": "Table of Contents",
   "title_sidebar": "Contents",
   "toc_cell": false,
   "toc_position": {
    "height": "calc(100% - 180px)",
    "left": "10px",
    "top": "150px",
    "width": "208.391px"
   },
   "toc_section_display": true,
   "toc_window_display": true
  }
 },
 "nbformat": 4,
 "nbformat_minor": 2
}
