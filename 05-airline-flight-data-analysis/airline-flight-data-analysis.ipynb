{
 "cells": [
  {
   "cell_type": "markdown",
   "metadata": {},
   "source": [
    "# Аналитика средствами Python"
   ]
  },
  {
   "cell_type": "markdown",
   "metadata": {},
   "source": [
    "## Изучение данных"
   ]
  },
  {
   "cell_type": "markdown",
   "metadata": {},
   "source": [
    "Импорт библиотек и данных"
   ]
  },
  {
   "cell_type": "code",
   "execution_count": 1,
   "metadata": {},
   "outputs": [],
   "source": [
    "import pandas as pd\n",
    "import numpy as np\n",
    "import matplotlib.pyplot as plt"
   ]
  },
  {
   "cell_type": "code",
   "execution_count": 2,
   "metadata": {},
   "outputs": [],
   "source": [
    "airplanes = pd.read_csv('C:/Users/Timofey/Downloads/query_1.csv')\n",
    "flights = pd.read_csv('C:/Users/Timofey/Downloads/query_3.csv')"
   ]
  },
  {
   "cell_type": "markdown",
   "metadata": {},
   "source": [
    "Проверка данных на наличие пропусков и неподходящих форматов."
   ]
  },
  {
   "cell_type": "code",
   "execution_count": 3,
   "metadata": {},
   "outputs": [
    {
     "data": {
      "text/html": [
       "<div>\n",
       "<style scoped>\n",
       "    .dataframe tbody tr th:only-of-type {\n",
       "        vertical-align: middle;\n",
       "    }\n",
       "\n",
       "    .dataframe tbody tr th {\n",
       "        vertical-align: top;\n",
       "    }\n",
       "\n",
       "    .dataframe thead th {\n",
       "        text-align: right;\n",
       "    }\n",
       "</style>\n",
       "<table border=\"1\" class=\"dataframe\">\n",
       "  <thead>\n",
       "    <tr style=\"text-align: right;\">\n",
       "      <th></th>\n",
       "      <th>model</th>\n",
       "      <th>flights_amount</th>\n",
       "    </tr>\n",
       "  </thead>\n",
       "  <tbody>\n",
       "    <tr>\n",
       "      <th>0</th>\n",
       "      <td>Airbus A319-100</td>\n",
       "      <td>607</td>\n",
       "    </tr>\n",
       "    <tr>\n",
       "      <th>1</th>\n",
       "      <td>Airbus A321-200</td>\n",
       "      <td>960</td>\n",
       "    </tr>\n",
       "    <tr>\n",
       "      <th>2</th>\n",
       "      <td>Boeing 737-300</td>\n",
       "      <td>630</td>\n",
       "    </tr>\n",
       "    <tr>\n",
       "      <th>3</th>\n",
       "      <td>Boeing 767-300</td>\n",
       "      <td>600</td>\n",
       "    </tr>\n",
       "    <tr>\n",
       "      <th>4</th>\n",
       "      <td>Boeing 777-300</td>\n",
       "      <td>300</td>\n",
       "    </tr>\n",
       "    <tr>\n",
       "      <th>5</th>\n",
       "      <td>Bombardier CRJ-200</td>\n",
       "      <td>4446</td>\n",
       "    </tr>\n",
       "    <tr>\n",
       "      <th>6</th>\n",
       "      <td>Cessna 208 Caravan</td>\n",
       "      <td>4557</td>\n",
       "    </tr>\n",
       "    <tr>\n",
       "      <th>7</th>\n",
       "      <td>Sukhoi SuperJet-100</td>\n",
       "      <td>4185</td>\n",
       "    </tr>\n",
       "  </tbody>\n",
       "</table>\n",
       "</div>"
      ],
      "text/plain": [
       "                 model  flights_amount\n",
       "0      Airbus A319-100             607\n",
       "1      Airbus A321-200             960\n",
       "2       Boeing 737-300             630\n",
       "3       Boeing 767-300             600\n",
       "4       Boeing 777-300             300\n",
       "5   Bombardier CRJ-200            4446\n",
       "6   Cessna 208 Caravan            4557\n",
       "7  Sukhoi SuperJet-100            4185"
      ]
     },
     "execution_count": 3,
     "metadata": {},
     "output_type": "execute_result"
    }
   ],
   "source": [
    "airplanes"
   ]
  },
  {
   "cell_type": "code",
   "execution_count": 4,
   "metadata": {},
   "outputs": [
    {
     "name": "stdout",
     "output_type": "stream",
     "text": [
      "<class 'pandas.core.frame.DataFrame'>\n",
      "RangeIndex: 8 entries, 0 to 7\n",
      "Data columns (total 2 columns):\n",
      " #   Column          Non-Null Count  Dtype \n",
      "---  ------          --------------  ----- \n",
      " 0   model           8 non-null      object\n",
      " 1   flights_amount  8 non-null      int64 \n",
      "dtypes: int64(1), object(1)\n",
      "memory usage: 256.0+ bytes\n"
     ]
    }
   ],
   "source": [
    "airplanes.info()"
   ]
  },
  {
   "cell_type": "code",
   "execution_count": 5,
   "metadata": {},
   "outputs": [
    {
     "data": {
      "text/html": [
       "<div>\n",
       "<style scoped>\n",
       "    .dataframe tbody tr th:only-of-type {\n",
       "        vertical-align: middle;\n",
       "    }\n",
       "\n",
       "    .dataframe tbody tr th {\n",
       "        vertical-align: top;\n",
       "    }\n",
       "\n",
       "    .dataframe thead th {\n",
       "        text-align: right;\n",
       "    }\n",
       "</style>\n",
       "<table border=\"1\" class=\"dataframe\">\n",
       "  <thead>\n",
       "    <tr style=\"text-align: right;\">\n",
       "      <th></th>\n",
       "      <th>city</th>\n",
       "      <th>average_flights</th>\n",
       "    </tr>\n",
       "  </thead>\n",
       "  <tbody>\n",
       "    <tr>\n",
       "      <th>0</th>\n",
       "      <td>Абакан</td>\n",
       "      <td>3.870968</td>\n",
       "    </tr>\n",
       "    <tr>\n",
       "      <th>1</th>\n",
       "      <td>Анадырь</td>\n",
       "      <td>1.000000</td>\n",
       "    </tr>\n",
       "    <tr>\n",
       "      <th>2</th>\n",
       "      <td>Анапа</td>\n",
       "      <td>2.161290</td>\n",
       "    </tr>\n",
       "    <tr>\n",
       "      <th>3</th>\n",
       "      <td>Архангельск</td>\n",
       "      <td>5.354839</td>\n",
       "    </tr>\n",
       "    <tr>\n",
       "      <th>4</th>\n",
       "      <td>Астрахань</td>\n",
       "      <td>2.451613</td>\n",
       "    </tr>\n",
       "    <tr>\n",
       "      <th>...</th>\n",
       "      <td>...</td>\n",
       "      <td>...</td>\n",
       "    </tr>\n",
       "    <tr>\n",
       "      <th>96</th>\n",
       "      <td>Чита</td>\n",
       "      <td>1.580645</td>\n",
       "    </tr>\n",
       "    <tr>\n",
       "      <th>97</th>\n",
       "      <td>Элиста</td>\n",
       "      <td>4.870968</td>\n",
       "    </tr>\n",
       "    <tr>\n",
       "      <th>98</th>\n",
       "      <td>Южно-Сахалинск</td>\n",
       "      <td>4.290323</td>\n",
       "    </tr>\n",
       "    <tr>\n",
       "      <th>99</th>\n",
       "      <td>Якутск</td>\n",
       "      <td>2.741935</td>\n",
       "    </tr>\n",
       "    <tr>\n",
       "      <th>100</th>\n",
       "      <td>Ярославль</td>\n",
       "      <td>1.322581</td>\n",
       "    </tr>\n",
       "  </tbody>\n",
       "</table>\n",
       "<p>101 rows × 2 columns</p>\n",
       "</div>"
      ],
      "text/plain": [
       "               city  average_flights\n",
       "0            Абакан         3.870968\n",
       "1           Анадырь         1.000000\n",
       "2             Анапа         2.161290\n",
       "3       Архангельск         5.354839\n",
       "4         Астрахань         2.451613\n",
       "..              ...              ...\n",
       "96             Чита         1.580645\n",
       "97           Элиста         4.870968\n",
       "98   Южно-Сахалинск         4.290323\n",
       "99           Якутск         2.741935\n",
       "100       Ярославль         1.322581\n",
       "\n",
       "[101 rows x 2 columns]"
      ]
     },
     "execution_count": 5,
     "metadata": {},
     "output_type": "execute_result"
    }
   ],
   "source": [
    "flights"
   ]
  },
  {
   "cell_type": "code",
   "execution_count": 6,
   "metadata": {},
   "outputs": [
    {
     "name": "stdout",
     "output_type": "stream",
     "text": [
      "<class 'pandas.core.frame.DataFrame'>\n",
      "RangeIndex: 101 entries, 0 to 100\n",
      "Data columns (total 2 columns):\n",
      " #   Column           Non-Null Count  Dtype  \n",
      "---  ------           --------------  -----  \n",
      " 0   city             101 non-null    object \n",
      " 1   average_flights  101 non-null    float64\n",
      "dtypes: float64(1), object(1)\n",
      "memory usage: 1.7+ KB\n"
     ]
    }
   ],
   "source": [
    "flights.info()"
   ]
  },
  {
   "cell_type": "markdown",
   "metadata": {},
   "source": [
    "Данные выгруженны корректно. Нет пропусков и у столбцов подходящие форматы."
   ]
  },
  {
   "cell_type": "markdown",
   "metadata": {},
   "source": [
    "## Выбор топ-10 городов по количеству рейсов"
   ]
  },
  {
   "cell_type": "code",
   "execution_count": 7,
   "metadata": {},
   "outputs": [
    {
     "data": {
      "text/html": [
       "<div>\n",
       "<style scoped>\n",
       "    .dataframe tbody tr th:only-of-type {\n",
       "        vertical-align: middle;\n",
       "    }\n",
       "\n",
       "    .dataframe tbody tr th {\n",
       "        vertical-align: top;\n",
       "    }\n",
       "\n",
       "    .dataframe thead th {\n",
       "        text-align: right;\n",
       "    }\n",
       "</style>\n",
       "<table border=\"1\" class=\"dataframe\">\n",
       "  <thead>\n",
       "    <tr style=\"text-align: right;\">\n",
       "      <th></th>\n",
       "      <th>city</th>\n",
       "      <th>average_flights</th>\n",
       "    </tr>\n",
       "  </thead>\n",
       "  <tbody>\n",
       "    <tr>\n",
       "      <th>43</th>\n",
       "      <td>Москва</td>\n",
       "      <td>129.774194</td>\n",
       "    </tr>\n",
       "    <tr>\n",
       "      <th>70</th>\n",
       "      <td>Санкт-Петербург</td>\n",
       "      <td>31.161290</td>\n",
       "    </tr>\n",
       "    <tr>\n",
       "      <th>54</th>\n",
       "      <td>Новосибирск</td>\n",
       "      <td>17.322581</td>\n",
       "    </tr>\n",
       "    <tr>\n",
       "      <th>33</th>\n",
       "      <td>Красноярск</td>\n",
       "      <td>11.580645</td>\n",
       "    </tr>\n",
       "    <tr>\n",
       "      <th>20</th>\n",
       "      <td>Екатеринбург</td>\n",
       "      <td>11.322581</td>\n",
       "    </tr>\n",
       "    <tr>\n",
       "      <th>67</th>\n",
       "      <td>Ростов-на-Дону</td>\n",
       "      <td>10.193548</td>\n",
       "    </tr>\n",
       "    <tr>\n",
       "      <th>63</th>\n",
       "      <td>Пермь</td>\n",
       "      <td>10.129032</td>\n",
       "    </tr>\n",
       "    <tr>\n",
       "      <th>10</th>\n",
       "      <td>Брянск</td>\n",
       "      <td>10.000000</td>\n",
       "    </tr>\n",
       "    <tr>\n",
       "      <th>74</th>\n",
       "      <td>Сочи</td>\n",
       "      <td>9.612903</td>\n",
       "    </tr>\n",
       "    <tr>\n",
       "      <th>84</th>\n",
       "      <td>Ульяновск</td>\n",
       "      <td>9.580645</td>\n",
       "    </tr>\n",
       "  </tbody>\n",
       "</table>\n",
       "</div>"
      ],
      "text/plain": [
       "               city  average_flights\n",
       "43           Москва       129.774194\n",
       "70  Санкт-Петербург        31.161290\n",
       "54      Новосибирск        17.322581\n",
       "33       Красноярск        11.580645\n",
       "20     Екатеринбург        11.322581\n",
       "67   Ростов-на-Дону        10.193548\n",
       "63            Пермь        10.129032\n",
       "10           Брянск        10.000000\n",
       "74             Сочи         9.612903\n",
       "84        Ульяновск         9.580645"
      ]
     },
     "execution_count": 7,
     "metadata": {},
     "output_type": "execute_result"
    }
   ],
   "source": [
    "flights.sort_values('average_flights', ascending=False).head(10)"
   ]
  },
  {
   "cell_type": "markdown",
   "metadata": {},
   "source": [
    "## Графики: модели самолетов и количество рейсов, города и количество рейсов, топ-10 городов и количество рейсов"
   ]
  },
  {
   "cell_type": "markdown",
   "metadata": {},
   "source": [
    "### Города и количество рейсов"
   ]
  },
  {
   "cell_type": "code",
   "execution_count": 8,
   "metadata": {},
   "outputs": [
    {
     "data": {
      "text/plain": [
       "<AxesSubplot:title={'center':'Распределение городов РФ по среднему числу рейсов'}, ylabel='city'>"
      ]
     },
     "execution_count": 8,
     "metadata": {},
     "output_type": "execute_result"
    },
    {
     "data": {
      "image/png": "[encoded data removed]",
      "text/plain": [
       "<Figure size 576x1296 with 1 Axes>"
      ]
     },
     "metadata": {
      "needs_background": "light"
     },
     "output_type": "display_data"
    }
   ],
   "source": [
    "flights.sort_values('average_flights').\\\n",
    "plot(x='city', y='average_flights', kind='barh', figsize=(8, 18), title='Распределение городов РФ по среднему числу рейсов', color='b')"
   ]
  },
  {
   "cell_type": "markdown",
   "metadata": {},
   "source": [
    "Число перелетов по городам распределено очень неравномерно. Максимальная концентрация рейсов в Москве, первая тройка городов имеет большой отрыв по числу рейсов от остальных. Для оставшихся городов график убывания числа рейсов становится пологим."
   ]
  },
  {
   "cell_type": "markdown",
   "metadata": {},
   "source": [
    "### Модели самолетов и количество рейсов"
   ]
  },
  {
   "cell_type": "code",
   "execution_count": 9,
   "metadata": {},
   "outputs": [
    {
     "data": {
      "text/plain": [
       "<AxesSubplot:title={'center':'Распределение числа перелетов по моделям самолетов'}, ylabel='model'>"
      ]
     },
     "execution_count": 9,
     "metadata": {},
     "output_type": "execute_result"
    },
    {
     "data": {
      "image/png": "[encoded data removed]",
      "text/plain": [
       "<Figure size 576x576 with 1 Axes>"
      ]
     },
     "metadata": {
      "needs_background": "light"
     },
     "output_type": "display_data"
    }
   ],
   "source": [
    "airplanes.sort_values('flights_amount', ascending=False).head(10).\\\n",
    "    plot(x='model', y='flights_amount', kind='barh', grid=True, figsize=(8, 8), title='Распределение числа перелетов по моделям самолетов', color='b')"
   ]
  },
  {
   "cell_type": "markdown",
   "metadata": {},
   "source": [
    "Лидируют с большим отрывом 3 модели: Сессна 208, Бомбардье 200 и Сухой 100. Можно преположить, что популярность Sukhoi SuperJet-100 и Bombardier CRJ-200 связана с их относительно небольшой вместимостью (103 и 52 места соотвтественно), авиакомпаниям проще продавать все билеты на рейс, чем на эирбасы и боинги, которые заполнить сложнее. Cessna 208 Caravan вмещает меньше всего пассажиров (14), но достаточно многофункционален: грузоперевозки, гражданские и военные нужды. Также этот самолет приспособлен для работы в сложных условиях, в том числе на грунтовых аэродромах с короткими взлетно-посадочными полосами."
   ]
  },
  {
   "cell_type": "markdown",
   "metadata": {},
   "source": [
    "### Топ-10 городов и количество рейсов"
   ]
  },
  {
   "cell_type": "code",
   "execution_count": 10,
   "metadata": {},
   "outputs": [
    {
     "data": {
      "text/plain": [
       "<AxesSubplot:title={'center':'Город и среднее количество рейсов'}, ylabel='city'>"
      ]
     },
     "execution_count": 10,
     "metadata": {},
     "output_type": "execute_result"
    },
    {
     "data": {
      "image/png": "[encoded data removed]",
      "text/plain": [
       "<Figure size 576x576 with 1 Axes>"
      ]
     },
     "metadata": {
      "needs_background": "light"
     },
     "output_type": "display_data"
    }
   ],
   "source": [
    "flights.sort_values('average_flights', ascending=False).head(10).\\\n",
    "    plot(x='city', y='average_flights', kind='barh', grid=True, figsize=(8, 8), title='Город и среднее количество рейсов', color='b')"
   ]
  },
  {
   "cell_type": "markdown",
   "metadata": {},
   "source": [
    "Чем крупнее город, тем больше авиарейсов. На первом месте по количеству рейсов Москва, что и не удивительно, т.к. в столице больше всего аэропортов (5) и население. Питер и Новосибирск занимают 2 и 3 место. Остальные города отличаются слабо."
   ]
  },
  {
   "cell_type": "markdown",
   "metadata": {},
   "source": [
    "## Вывод"
   ]
  },
  {
   "cell_type": "markdown",
   "metadata": {},
   "source": [
    "- Тройку лидеров по числу полетов в сентябре 2018 заняли Cessna, Bombardier и Sukhoi. На каждую модель приходилось не менее 4000 рейсов. Известные модели самолетов Boeing и Airbus оказались аутсайдерами по перевозкам - каждая модель сделала не более 1000 рейсов за месяц.\n",
    "- Москва является транспортным центром России, в том числе и по авиаперевозкам. Большинство пересадочных рейсов проходит именно через Москву. Второе место по объему пересадочных рейсов занимает Санкт-Петербург на западе России, а третье - Новосибирск в Сибири. "
   ]
  }
 ],
 "metadata": {
  "ExecuteTimeLog": [
   {
    "duration": 835,
    "start_time": "2021-07-21T14:31:03.275Z"
   },
   {
    "duration": 31,
    "start_time": "2021-07-21T14:31:04.910Z"
   },
   {
    "duration": 15,
    "start_time": "2021-07-21T14:31:20.542Z"
   },
   {
    "duration": 13,
    "start_time": "2021-07-21T14:31:22.351Z"
   },
   {
    "duration": 8,
    "start_time": "2021-07-21T14:31:38.983Z"
   },
   {
    "duration": 8,
    "start_time": "2021-07-21T14:31:50.355Z"
   },
   {
    "duration": 9,
    "start_time": "2021-07-21T14:32:23.751Z"
   },
   {
    "duration": 9,
    "start_time": "2021-07-21T14:32:41.546Z"
   },
   {
    "duration": 13,
    "start_time": "2021-07-21T16:25:54.541Z"
   },
   {
    "duration": 8,
    "start_time": "2021-07-21T16:25:56.317Z"
   },
   {
    "duration": 20,
    "start_time": "2021-07-21T16:27:06.229Z"
   },
   {
    "duration": 372,
    "start_time": "2021-07-21T16:32:06.957Z"
   },
   {
    "duration": 9,
    "start_time": "2021-07-21T16:33:06.233Z"
   },
   {
    "duration": 15,
    "start_time": "2021-07-21T16:34:18.025Z"
   },
   {
    "duration": 324,
    "start_time": "2021-07-21T16:35:26.577Z"
   },
   {
    "duration": 16,
    "start_time": "2021-07-21T16:36:29.545Z"
   },
   {
    "duration": 17,
    "start_time": "2021-07-21T16:36:41.497Z"
   },
   {
    "duration": 12,
    "start_time": "2021-07-21T16:46:37.930Z"
   },
   {
    "duration": 2355,
    "start_time": "2021-07-21T17:13:42.008Z"
   },
   {
    "duration": 340,
    "start_time": "2021-07-21T17:16:05.872Z"
   },
   {
    "duration": 364,
    "start_time": "2021-07-21T17:18:47.380Z"
   },
   {
    "duration": 341,
    "start_time": "2021-07-21T17:30:16.747Z"
   },
   {
    "duration": 371,
    "start_time": "2021-07-21T17:39:05.392Z"
   },
   {
    "duration": 375,
    "start_time": "2021-07-21T17:39:24.739Z"
   },
   {
    "duration": 280,
    "start_time": "2021-07-21T17:41:39.435Z"
   },
   {
    "duration": 7002,
    "start_time": "2021-07-21T17:41:57.055Z"
   },
   {
    "duration": 7148,
    "start_time": "2021-07-21T17:42:20.835Z"
   },
   {
    "duration": 351,
    "start_time": "2021-07-21T17:42:40.575Z"
   },
   {
    "duration": 399,
    "start_time": "2021-07-21T17:48:36.633Z"
   },
   {
    "duration": 379,
    "start_time": "2021-07-21T18:52:47.296Z"
   },
   {
    "duration": 371,
    "start_time": "2021-07-21T18:54:42.343Z"
   },
   {
    "duration": 484,
    "start_time": "2021-07-21T18:54:50.500Z"
   },
   {
    "duration": 390,
    "start_time": "2021-07-21T18:55:00.564Z"
   },
   {
    "duration": 374,
    "start_time": "2021-07-21T18:55:18.411Z"
   },
   {
    "duration": 418,
    "start_time": "2021-07-21T18:55:30.163Z"
   },
   {
    "duration": 112,
    "start_time": "2021-07-21T18:56:41.239Z"
   },
   {
    "duration": 106,
    "start_time": "2021-07-21T18:57:18.479Z"
   },
   {
    "duration": 2334,
    "start_time": "2021-07-21T18:58:37.725Z"
   },
   {
    "duration": 2272,
    "start_time": "2021-07-21T18:59:04.444Z"
   },
   {
    "duration": 433,
    "start_time": "2021-07-21T18:59:38.439Z"
   },
   {
    "duration": 510,
    "start_time": "2021-07-21T18:59:47.671Z"
   },
   {
    "duration": 4,
    "start_time": "2021-07-21T19:00:03.648Z"
   },
   {
    "duration": 34,
    "start_time": "2021-07-21T19:00:03.654Z"
   },
   {
    "duration": 10,
    "start_time": "2021-07-21T19:00:03.691Z"
   },
   {
    "duration": 12,
    "start_time": "2021-07-21T19:00:03.703Z"
   },
   {
    "duration": 38,
    "start_time": "2021-07-21T19:00:03.718Z"
   },
   {
    "duration": 14,
    "start_time": "2021-07-21T19:00:03.758Z"
   },
   {
    "duration": 26,
    "start_time": "2021-07-21T19:00:03.775Z"
   },
   {
    "duration": 18,
    "start_time": "2021-07-21T19:00:03.803Z"
   },
   {
    "duration": 12,
    "start_time": "2021-07-21T19:00:03.854Z"
   },
   {
    "duration": 2302,
    "start_time": "2021-07-21T19:00:03.868Z"
   },
   {
    "duration": 409,
    "start_time": "2021-07-21T19:00:06.173Z"
   },
   {
    "duration": 430,
    "start_time": "2021-07-21T19:00:06.585Z"
   },
   {
    "duration": 2327,
    "start_time": "2021-07-21T19:29:59.302Z"
   },
   {
    "duration": 2475,
    "start_time": "2021-07-21T19:30:37.967Z"
   },
   {
    "duration": 779,
    "start_time": "2021-07-21T22:54:34.187Z"
   },
   {
    "duration": 32,
    "start_time": "2021-07-21T22:54:34.968Z"
   },
   {
    "duration": 14,
    "start_time": "2021-07-21T22:54:35.003Z"
   },
   {
    "duration": 8,
    "start_time": "2021-07-21T22:54:35.019Z"
   },
   {
    "duration": 29,
    "start_time": "2021-07-21T22:54:35.029Z"
   },
   {
    "duration": 12,
    "start_time": "2021-07-21T22:54:35.060Z"
   },
   {
    "duration": 17,
    "start_time": "2021-07-21T22:54:35.074Z"
   },
   {
    "duration": 2286,
    "start_time": "2021-07-21T22:54:35.094Z"
   },
   {
    "duration": 438,
    "start_time": "2021-07-21T22:54:37.383Z"
   },
   {
    "duration": 409,
    "start_time": "2021-07-21T22:54:37.823Z"
   },
   {
    "duration": 884,
    "start_time": "2021-07-22T05:11:08.985Z"
   },
   {
    "duration": 28,
    "start_time": "2021-07-22T05:11:09.872Z"
   },
   {
    "duration": 15,
    "start_time": "2021-07-22T05:11:09.904Z"
   },
   {
    "duration": 7,
    "start_time": "2021-07-22T05:11:09.922Z"
   },
   {
    "duration": 32,
    "start_time": "2021-07-22T05:11:09.932Z"
   },
   {
    "duration": 11,
    "start_time": "2021-07-22T05:11:09.966Z"
   },
   {
    "duration": 15,
    "start_time": "2021-07-22T05:11:09.979Z"
   },
   {
    "duration": 2464,
    "start_time": "2021-07-22T05:11:09.998Z"
   },
   {
    "duration": 469,
    "start_time": "2021-07-22T05:11:12.465Z"
   },
   {
    "duration": 425,
    "start_time": "2021-07-22T05:11:12.937Z"
   },
   {
    "duration": 877,
    "start_time": "2021-07-22T05:16:50.881Z"
   },
   {
    "duration": 30,
    "start_time": "2021-07-22T05:16:51.760Z"
   },
   {
    "duration": 23,
    "start_time": "2021-07-22T05:16:51.793Z"
   },
   {
    "duration": 10,
    "start_time": "2021-07-22T05:16:51.820Z"
   },
   {
    "duration": 28,
    "start_time": "2021-07-22T05:16:51.833Z"
   },
   {
    "duration": 10,
    "start_time": "2021-07-22T05:16:51.865Z"
   },
   {
    "duration": 18,
    "start_time": "2021-07-22T05:16:51.878Z"
   },
   {
    "duration": 3610,
    "start_time": "2021-07-22T05:16:51.899Z"
   },
   {
    "duration": 637,
    "start_time": "2021-07-22T05:16:55.513Z"
   },
   {
    "duration": 584,
    "start_time": "2021-07-22T05:16:56.153Z"
   },
   {
    "duration": 846,
    "start_time": "2021-07-22T08:50:16.809Z"
   },
   {
    "duration": 31,
    "start_time": "2021-07-22T08:50:17.658Z"
   },
   {
    "duration": 19,
    "start_time": "2021-07-22T08:50:17.693Z"
   },
   {
    "duration": 11,
    "start_time": "2021-07-22T08:50:17.715Z"
   },
   {
    "duration": 59,
    "start_time": "2021-07-22T08:50:17.729Z"
   },
   {
    "duration": 15,
    "start_time": "2021-07-22T08:50:17.791Z"
   },
   {
    "duration": 17,
    "start_time": "2021-07-22T08:50:17.809Z"
   },
   {
    "duration": 2388,
    "start_time": "2021-07-22T08:50:17.828Z"
   },
   {
    "duration": 456,
    "start_time": "2021-07-22T08:50:20.219Z"
   },
   {
    "duration": 424,
    "start_time": "2021-07-22T08:50:20.678Z"
   },
   {
    "duration": 3,
    "start_time": "2021-07-22T08:52:16.570Z"
   },
   {
    "duration": 32,
    "start_time": "2021-07-22T08:52:16.576Z"
   },
   {
    "duration": 10,
    "start_time": "2021-07-22T08:52:16.612Z"
   },
   {
    "duration": 10,
    "start_time": "2021-07-22T08:52:16.626Z"
   },
   {
    "duration": 56,
    "start_time": "2021-07-22T08:52:16.639Z"
   },
   {
    "duration": 12,
    "start_time": "2021-07-22T08:52:16.698Z"
   },
   {
    "duration": 17,
    "start_time": "2021-07-22T08:52:16.713Z"
   },
   {
    "duration": 2629,
    "start_time": "2021-07-22T08:52:16.735Z"
   },
   {
    "duration": 420,
    "start_time": "2021-07-22T08:52:19.366Z"
   },
   {
    "duration": 445,
    "start_time": "2021-07-22T08:52:19.789Z"
   },
   {
    "duration": 147,
    "start_time": "2021-07-22T08:55:01.640Z"
   },
   {
    "duration": 4,
    "start_time": "2021-07-22T08:55:11.512Z"
   },
   {
    "duration": 33,
    "start_time": "2021-07-22T08:55:11.520Z"
   },
   {
    "duration": 13,
    "start_time": "2021-07-22T08:55:11.556Z"
   },
   {
    "duration": 16,
    "start_time": "2021-07-22T08:55:11.573Z"
   },
   {
    "duration": 18,
    "start_time": "2021-07-22T08:55:11.593Z"
   },
   {
    "duration": 12,
    "start_time": "2021-07-22T08:55:11.615Z"
   },
   {
    "duration": 59,
    "start_time": "2021-07-22T08:55:11.631Z"
   },
   {
    "duration": 2399,
    "start_time": "2021-07-22T08:55:11.693Z"
   },
   {
    "duration": 431,
    "start_time": "2021-07-22T08:55:14.095Z"
   },
   {
    "duration": 499,
    "start_time": "2021-07-22T08:55:14.530Z"
   },
   {
    "duration": 63,
    "start_time": "2021-07-22T10:42:45.073Z"
   },
   {
    "duration": 62,
    "start_time": "2021-07-22T10:43:19.081Z"
   },
   {
    "duration": 58,
    "start_time": "2021-07-22T10:44:10.965Z"
   }
  ],
  "kernelspec": {
   "display_name": "Python 3",
   "language": "python",
   "name": "python3"
  },
  "language_info": {
   "codemirror_mode": {
    "name": "ipython",
    "version": 3
   },
   "file_extension": ".py",
   "mimetype": "text/x-python",
   "name": "python",
   "nbconvert_exporter": "python",
   "pygments_lexer": "ipython3",
   "version": "3.8.8"
  },
  "toc": {
   "base_numbering": 1,
   "nav_menu": {},
   "number_sections": true,
   "sideBar": true,
   "skip_h1_title": true,
   "title_cell": "Table of Contents",
   "title_sidebar": "Contents",
   "toc_cell": false,
   "toc_position": {
    "height": "calc(100% - 180px)",
    "left": "10px",
    "top": "150px",
    "width": "366.391px"
   },
   "toc_section_display": true,
   "toc_window_display": true
  }
 },
 "nbformat": 4,
 "nbformat_minor": 2
}
