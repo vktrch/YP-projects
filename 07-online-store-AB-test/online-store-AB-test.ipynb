{
 "cells": [
  {
   "cell_type": "markdown",
   "metadata": {},
   "source": [
    "# Принятие решений в бизнесе на основе данных"
   ]
  },
  {
   "cell_type": "markdown",
   "metadata": {},
   "source": [
    "## Подготовка"
   ]
  },
  {
   "cell_type": "code",
   "execution_count": 1,
   "metadata": {},
   "outputs": [],
   "source": [
    "import pandas as pd\n",
    "import matplotlib.pyplot as plt\n",
    "import seaborn as sns\n",
    "sns.set(rc={'figure.figsize':(16, 8)})\n",
    "import scipy.stats as stats\n",
    "from scipy import stats as st\n",
    "import math\n",
    "import numpy as np\n",
    "import datetime as dt\n",
    "from pandas.plotting import register_matplotlib_converters\n",
    "#загрузка необходимых библиотек"
   ]
  },
  {
   "cell_type": "code",
   "execution_count": 2,
   "metadata": {},
   "outputs": [],
   "source": [
    "register_matplotlib_converters()"
   ]
  },
  {
   "cell_type": "code",
   "execution_count": 3,
   "metadata": {},
   "outputs": [
    {
     "name": "stderr",
     "output_type": "stream",
     "text": [
      "<ipython-input-3-ee77cd62d90f>:1: FutureWarning: Passing a negative integer is deprecated in version 1.0 and will not be supported in future version. Instead, use None to not limit the column width.\n",
      "  pd.set_option(\"max_colwidth\", -1)\n"
     ]
    }
   ],
   "source": [
    "pd.set_option(\"max_colwidth\", -1)"
   ]
  },
  {
   "cell_type": "code",
   "execution_count": 4,
   "metadata": {},
   "outputs": [],
   "source": [
    "hypothesis = pd.read_csv('C:/Users/Timofey/Downloads/hypothesis.csv')\n",
    "orders = pd.read_csv('C:/Users/Timofey/Downloads/orders.csv')\n",
    "visitors = pd.read_csv('C:/Users/Timofey/Downloads/visitors.csv')"
   ]
  },
  {
   "cell_type": "code",
   "execution_count": 5,
   "metadata": {},
   "outputs": [
    {
     "data": {
      "text/html": [
       "<div>\n",
       "<style scoped>\n",
       "    .dataframe tbody tr th:only-of-type {\n",
       "        vertical-align: middle;\n",
       "    }\n",
       "\n",
       "    .dataframe tbody tr th {\n",
       "        vertical-align: top;\n",
       "    }\n",
       "\n",
       "    .dataframe thead th {\n",
       "        text-align: right;\n",
       "    }\n",
       "</style>\n",
       "<table border=\"1\" class=\"dataframe\">\n",
       "  <thead>\n",
       "    <tr style=\"text-align: right;\">\n",
       "      <th></th>\n",
       "      <th>Hypothesis</th>\n",
       "      <th>Reach</th>\n",
       "      <th>Impact</th>\n",
       "      <th>Confidence</th>\n",
       "      <th>Efforts</th>\n",
       "    </tr>\n",
       "  </thead>\n",
       "  <tbody>\n",
       "    <tr>\n",
       "      <th>0</th>\n",
       "      <td>Добавить два новых канала привлечения трафика, что позволит привлекать на 30% больше пользователей</td>\n",
       "      <td>3</td>\n",
       "      <td>10</td>\n",
       "      <td>8</td>\n",
       "      <td>6</td>\n",
       "    </tr>\n",
       "    <tr>\n",
       "      <th>1</th>\n",
       "      <td>Запустить собственную службу доставки, что сократит срок доставки заказов</td>\n",
       "      <td>2</td>\n",
       "      <td>5</td>\n",
       "      <td>4</td>\n",
       "      <td>10</td>\n",
       "    </tr>\n",
       "    <tr>\n",
       "      <th>2</th>\n",
       "      <td>Добавить блоки рекомендаций товаров на сайт интернет магазина, чтобы повысить конверсию и средний чек заказа</td>\n",
       "      <td>8</td>\n",
       "      <td>3</td>\n",
       "      <td>7</td>\n",
       "      <td>3</td>\n",
       "    </tr>\n",
       "    <tr>\n",
       "      <th>3</th>\n",
       "      <td>Изменить структура категорий, что увеличит конверсию, т.к. пользователи быстрее найдут нужный товар</td>\n",
       "      <td>8</td>\n",
       "      <td>3</td>\n",
       "      <td>3</td>\n",
       "      <td>8</td>\n",
       "    </tr>\n",
       "    <tr>\n",
       "      <th>4</th>\n",
       "      <td>Изменить цвет фона главной страницы, чтобы увеличить вовлеченность пользователей</td>\n",
       "      <td>3</td>\n",
       "      <td>1</td>\n",
       "      <td>1</td>\n",
       "      <td>1</td>\n",
       "    </tr>\n",
       "    <tr>\n",
       "      <th>5</th>\n",
       "      <td>Добавить страницу отзывов клиентов о магазине, что позволит увеличить количество заказов</td>\n",
       "      <td>3</td>\n",
       "      <td>2</td>\n",
       "      <td>2</td>\n",
       "      <td>3</td>\n",
       "    </tr>\n",
       "    <tr>\n",
       "      <th>6</th>\n",
       "      <td>Показать на главной странице баннеры с актуальными акциями и распродажами, чтобы увеличить конверсию</td>\n",
       "      <td>5</td>\n",
       "      <td>3</td>\n",
       "      <td>8</td>\n",
       "      <td>3</td>\n",
       "    </tr>\n",
       "    <tr>\n",
       "      <th>7</th>\n",
       "      <td>Добавить форму подписки на все основные страницы, чтобы собрать базу клиентов для email-рассылок</td>\n",
       "      <td>10</td>\n",
       "      <td>7</td>\n",
       "      <td>8</td>\n",
       "      <td>5</td>\n",
       "    </tr>\n",
       "    <tr>\n",
       "      <th>8</th>\n",
       "      <td>Запустить акцию, дающую скидку на товар в день рождения</td>\n",
       "      <td>1</td>\n",
       "      <td>9</td>\n",
       "      <td>9</td>\n",
       "      <td>5</td>\n",
       "    </tr>\n",
       "  </tbody>\n",
       "</table>\n",
       "</div>"
      ],
      "text/plain": [
       "                                                                                                     Hypothesis  \\\n",
       "0  Добавить два новых канала привлечения трафика, что позволит привлекать на 30% больше пользователей             \n",
       "1  Запустить собственную службу доставки, что сократит срок доставки заказов                                      \n",
       "2  Добавить блоки рекомендаций товаров на сайт интернет магазина, чтобы повысить конверсию и средний чек заказа   \n",
       "3  Изменить структура категорий, что увеличит конверсию, т.к. пользователи быстрее найдут нужный товар            \n",
       "4  Изменить цвет фона главной страницы, чтобы увеличить вовлеченность пользователей                               \n",
       "5  Добавить страницу отзывов клиентов о магазине, что позволит увеличить количество заказов                       \n",
       "6  Показать на главной странице баннеры с актуальными акциями и распродажами, чтобы увеличить конверсию           \n",
       "7  Добавить форму подписки на все основные страницы, чтобы собрать базу клиентов для email-рассылок               \n",
       "8  Запустить акцию, дающую скидку на товар в день рождения                                                        \n",
       "\n",
       "   Reach  Impact  Confidence  Efforts  \n",
       "0  3      10      8           6        \n",
       "1  2      5       4           10       \n",
       "2  8      3       7           3        \n",
       "3  8      3       3           8        \n",
       "4  3      1       1           1        \n",
       "5  3      2       2           3        \n",
       "6  5      3       8           3        \n",
       "7  10     7       8           5        \n",
       "8  1      9       9           5        "
      ]
     },
     "execution_count": 5,
     "metadata": {},
     "output_type": "execute_result"
    }
   ],
   "source": [
    "hypothesis"
   ]
  },
  {
   "cell_type": "code",
   "execution_count": 6,
   "metadata": {},
   "outputs": [],
   "source": [
    "#hypothesis.columns = ['hypothesis', 'reach', 'impact', 'confidence', 'efforts']"
   ]
  },
  {
   "cell_type": "code",
   "execution_count": 7,
   "metadata": {},
   "outputs": [],
   "source": [
    "hypothesis.columns=hypothesis.columns.str.lower()"
   ]
  },
  {
   "cell_type": "code",
   "execution_count": 8,
   "metadata": {},
   "outputs": [
    {
     "data": {
      "text/html": [
       "<div>\n",
       "<style scoped>\n",
       "    .dataframe tbody tr th:only-of-type {\n",
       "        vertical-align: middle;\n",
       "    }\n",
       "\n",
       "    .dataframe tbody tr th {\n",
       "        vertical-align: top;\n",
       "    }\n",
       "\n",
       "    .dataframe thead th {\n",
       "        text-align: right;\n",
       "    }\n",
       "</style>\n",
       "<table border=\"1\" class=\"dataframe\">\n",
       "  <thead>\n",
       "    <tr style=\"text-align: right;\">\n",
       "      <th></th>\n",
       "      <th>transactionId</th>\n",
       "      <th>visitorId</th>\n",
       "      <th>date</th>\n",
       "      <th>revenue</th>\n",
       "      <th>group</th>\n",
       "    </tr>\n",
       "  </thead>\n",
       "  <tbody>\n",
       "    <tr>\n",
       "      <th>0</th>\n",
       "      <td>3667963787</td>\n",
       "      <td>3312258926</td>\n",
       "      <td>2019-08-15</td>\n",
       "      <td>1650</td>\n",
       "      <td>B</td>\n",
       "    </tr>\n",
       "    <tr>\n",
       "      <th>1</th>\n",
       "      <td>2804400009</td>\n",
       "      <td>3642806036</td>\n",
       "      <td>2019-08-15</td>\n",
       "      <td>730</td>\n",
       "      <td>B</td>\n",
       "    </tr>\n",
       "    <tr>\n",
       "      <th>2</th>\n",
       "      <td>2961555356</td>\n",
       "      <td>4069496402</td>\n",
       "      <td>2019-08-15</td>\n",
       "      <td>400</td>\n",
       "      <td>A</td>\n",
       "    </tr>\n",
       "    <tr>\n",
       "      <th>3</th>\n",
       "      <td>3797467345</td>\n",
       "      <td>1196621759</td>\n",
       "      <td>2019-08-15</td>\n",
       "      <td>9759</td>\n",
       "      <td>B</td>\n",
       "    </tr>\n",
       "    <tr>\n",
       "      <th>4</th>\n",
       "      <td>2282983706</td>\n",
       "      <td>2322279887</td>\n",
       "      <td>2019-08-15</td>\n",
       "      <td>2308</td>\n",
       "      <td>B</td>\n",
       "    </tr>\n",
       "    <tr>\n",
       "      <th>...</th>\n",
       "      <td>...</td>\n",
       "      <td>...</td>\n",
       "      <td>...</td>\n",
       "      <td>...</td>\n",
       "      <td>...</td>\n",
       "    </tr>\n",
       "    <tr>\n",
       "      <th>1192</th>\n",
       "      <td>2662137336</td>\n",
       "      <td>3733762160</td>\n",
       "      <td>2019-08-14</td>\n",
       "      <td>6490</td>\n",
       "      <td>B</td>\n",
       "    </tr>\n",
       "    <tr>\n",
       "      <th>1193</th>\n",
       "      <td>2203539145</td>\n",
       "      <td>370388673</td>\n",
       "      <td>2019-08-14</td>\n",
       "      <td>3190</td>\n",
       "      <td>A</td>\n",
       "    </tr>\n",
       "    <tr>\n",
       "      <th>1194</th>\n",
       "      <td>1807773912</td>\n",
       "      <td>573423106</td>\n",
       "      <td>2019-08-14</td>\n",
       "      <td>10550</td>\n",
       "      <td>A</td>\n",
       "    </tr>\n",
       "    <tr>\n",
       "      <th>1195</th>\n",
       "      <td>1947021204</td>\n",
       "      <td>1614305549</td>\n",
       "      <td>2019-08-14</td>\n",
       "      <td>100</td>\n",
       "      <td>A</td>\n",
       "    </tr>\n",
       "    <tr>\n",
       "      <th>1196</th>\n",
       "      <td>3936777065</td>\n",
       "      <td>2108080724</td>\n",
       "      <td>2019-08-15</td>\n",
       "      <td>202740</td>\n",
       "      <td>B</td>\n",
       "    </tr>\n",
       "  </tbody>\n",
       "</table>\n",
       "<p>1197 rows × 5 columns</p>\n",
       "</div>"
      ],
      "text/plain": [
       "      transactionId   visitorId        date  revenue group\n",
       "0     3667963787     3312258926  2019-08-15  1650     B   \n",
       "1     2804400009     3642806036  2019-08-15  730      B   \n",
       "2     2961555356     4069496402  2019-08-15  400      A   \n",
       "3     3797467345     1196621759  2019-08-15  9759     B   \n",
       "4     2282983706     2322279887  2019-08-15  2308     B   \n",
       "...          ...            ...         ...   ...    ..   \n",
       "1192  2662137336     3733762160  2019-08-14  6490     B   \n",
       "1193  2203539145     370388673   2019-08-14  3190     A   \n",
       "1194  1807773912     573423106   2019-08-14  10550    A   \n",
       "1195  1947021204     1614305549  2019-08-14  100      A   \n",
       "1196  3936777065     2108080724  2019-08-15  202740   B   \n",
       "\n",
       "[1197 rows x 5 columns]"
      ]
     },
     "execution_count": 8,
     "metadata": {},
     "output_type": "execute_result"
    }
   ],
   "source": [
    "orders"
   ]
  },
  {
   "cell_type": "code",
   "execution_count": 9,
   "metadata": {},
   "outputs": [
    {
     "name": "stdout",
     "output_type": "stream",
     "text": [
      "<class 'pandas.core.frame.DataFrame'>\n",
      "RangeIndex: 1197 entries, 0 to 1196\n",
      "Data columns (total 5 columns):\n",
      " #   Column         Non-Null Count  Dtype \n",
      "---  ------         --------------  ----- \n",
      " 0   transactionId  1197 non-null   int64 \n",
      " 1   visitorId      1197 non-null   int64 \n",
      " 2   date           1197 non-null   object\n",
      " 3   revenue        1197 non-null   int64 \n",
      " 4   group          1197 non-null   object\n",
      "dtypes: int64(3), object(2)\n",
      "memory usage: 46.9+ KB\n"
     ]
    }
   ],
   "source": [
    "orders.info()"
   ]
  },
  {
   "cell_type": "code",
   "execution_count": 10,
   "metadata": {},
   "outputs": [
    {
     "data": {
      "text/plain": [
       "0"
      ]
     },
     "execution_count": 10,
     "metadata": {},
     "output_type": "execute_result"
    }
   ],
   "source": [
    "orders.duplicated().sum()"
   ]
  },
  {
   "cell_type": "code",
   "execution_count": 11,
   "metadata": {},
   "outputs": [
    {
     "data": {
      "text/plain": [
       "transactionId    0\n",
       "visitorId        0\n",
       "date             0\n",
       "revenue          0\n",
       "group            0\n",
       "dtype: int64"
      ]
     },
     "execution_count": 11,
     "metadata": {},
     "output_type": "execute_result"
    }
   ],
   "source": [
    "orders.isnull().sum()"
   ]
  },
  {
   "cell_type": "code",
   "execution_count": 12,
   "metadata": {},
   "outputs": [
    {
     "data": {
      "text/html": [
       "<div>\n",
       "<style scoped>\n",
       "    .dataframe tbody tr th:only-of-type {\n",
       "        vertical-align: middle;\n",
       "    }\n",
       "\n",
       "    .dataframe tbody tr th {\n",
       "        vertical-align: top;\n",
       "    }\n",
       "\n",
       "    .dataframe thead th {\n",
       "        text-align: right;\n",
       "    }\n",
       "</style>\n",
       "<table border=\"1\" class=\"dataframe\">\n",
       "  <thead>\n",
       "    <tr style=\"text-align: right;\">\n",
       "      <th></th>\n",
       "      <th>date</th>\n",
       "      <th>group</th>\n",
       "      <th>visitors</th>\n",
       "    </tr>\n",
       "  </thead>\n",
       "  <tbody>\n",
       "    <tr>\n",
       "      <th>0</th>\n",
       "      <td>2019-08-01</td>\n",
       "      <td>A</td>\n",
       "      <td>719</td>\n",
       "    </tr>\n",
       "    <tr>\n",
       "      <th>1</th>\n",
       "      <td>2019-08-02</td>\n",
       "      <td>A</td>\n",
       "      <td>619</td>\n",
       "    </tr>\n",
       "    <tr>\n",
       "      <th>2</th>\n",
       "      <td>2019-08-03</td>\n",
       "      <td>A</td>\n",
       "      <td>507</td>\n",
       "    </tr>\n",
       "    <tr>\n",
       "      <th>3</th>\n",
       "      <td>2019-08-04</td>\n",
       "      <td>A</td>\n",
       "      <td>717</td>\n",
       "    </tr>\n",
       "    <tr>\n",
       "      <th>4</th>\n",
       "      <td>2019-08-05</td>\n",
       "      <td>A</td>\n",
       "      <td>756</td>\n",
       "    </tr>\n",
       "    <tr>\n",
       "      <th>...</th>\n",
       "      <td>...</td>\n",
       "      <td>...</td>\n",
       "      <td>...</td>\n",
       "    </tr>\n",
       "    <tr>\n",
       "      <th>57</th>\n",
       "      <td>2019-08-27</td>\n",
       "      <td>B</td>\n",
       "      <td>720</td>\n",
       "    </tr>\n",
       "    <tr>\n",
       "      <th>58</th>\n",
       "      <td>2019-08-28</td>\n",
       "      <td>B</td>\n",
       "      <td>654</td>\n",
       "    </tr>\n",
       "    <tr>\n",
       "      <th>59</th>\n",
       "      <td>2019-08-29</td>\n",
       "      <td>B</td>\n",
       "      <td>531</td>\n",
       "    </tr>\n",
       "    <tr>\n",
       "      <th>60</th>\n",
       "      <td>2019-08-30</td>\n",
       "      <td>B</td>\n",
       "      <td>490</td>\n",
       "    </tr>\n",
       "    <tr>\n",
       "      <th>61</th>\n",
       "      <td>2019-08-31</td>\n",
       "      <td>B</td>\n",
       "      <td>718</td>\n",
       "    </tr>\n",
       "  </tbody>\n",
       "</table>\n",
       "<p>62 rows × 3 columns</p>\n",
       "</div>"
      ],
      "text/plain": [
       "          date group  visitors\n",
       "0   2019-08-01  A     719     \n",
       "1   2019-08-02  A     619     \n",
       "2   2019-08-03  A     507     \n",
       "3   2019-08-04  A     717     \n",
       "4   2019-08-05  A     756     \n",
       "..         ... ..     ...     \n",
       "57  2019-08-27  B     720     \n",
       "58  2019-08-28  B     654     \n",
       "59  2019-08-29  B     531     \n",
       "60  2019-08-30  B     490     \n",
       "61  2019-08-31  B     718     \n",
       "\n",
       "[62 rows x 3 columns]"
      ]
     },
     "execution_count": 12,
     "metadata": {},
     "output_type": "execute_result"
    }
   ],
   "source": [
    "visitors"
   ]
  },
  {
   "cell_type": "code",
   "execution_count": 13,
   "metadata": {},
   "outputs": [
    {
     "name": "stdout",
     "output_type": "stream",
     "text": [
      "<class 'pandas.core.frame.DataFrame'>\n",
      "RangeIndex: 62 entries, 0 to 61\n",
      "Data columns (total 3 columns):\n",
      " #   Column    Non-Null Count  Dtype \n",
      "---  ------    --------------  ----- \n",
      " 0   date      62 non-null     object\n",
      " 1   group     62 non-null     object\n",
      " 2   visitors  62 non-null     int64 \n",
      "dtypes: int64(1), object(2)\n",
      "memory usage: 1.6+ KB\n"
     ]
    }
   ],
   "source": [
    "visitors.info()"
   ]
  },
  {
   "cell_type": "code",
   "execution_count": 14,
   "metadata": {},
   "outputs": [
    {
     "data": {
      "text/plain": [
       "0"
      ]
     },
     "execution_count": 14,
     "metadata": {},
     "output_type": "execute_result"
    }
   ],
   "source": [
    "visitors.duplicated().sum()"
   ]
  },
  {
   "cell_type": "code",
   "execution_count": 15,
   "metadata": {},
   "outputs": [
    {
     "data": {
      "text/plain": [
       "date        0\n",
       "group       0\n",
       "visitors    0\n",
       "dtype: int64"
      ]
     },
     "execution_count": 15,
     "metadata": {},
     "output_type": "execute_result"
    }
   ],
   "source": [
    "visitors.isnull().sum()"
   ]
  },
  {
   "cell_type": "code",
   "execution_count": 16,
   "metadata": {},
   "outputs": [],
   "source": [
    "orders['date'] = orders['date'].astype('datetime64[D]')\n",
    "visitors['date'] = visitors['date'].astype('datetime64[D]')"
   ]
  },
  {
   "cell_type": "code",
   "execution_count": 17,
   "metadata": {},
   "outputs": [
    {
     "name": "stdout",
     "output_type": "stream",
     "text": [
      "\n",
      "Начальная дата 2019-08-01 00:00:00, конечная дата 2019-08-31 00:00:00\n",
      "\n",
      "\n",
      "Начальная дата 2019-08-01 00:00:00, конечная дата 2019-08-31 00:00:00\n",
      "\n"
     ]
    }
   ],
   "source": [
    "print('\\nНачальная дата {}, конечная дата {}\\n'.format(orders['date'].min(), orders['date'].max()))\n",
    "print('\\nНачальная дата {}, конечная дата {}\\n'.format(visitors['date'].min(), visitors['date'].max()))"
   ]
  },
  {
   "cell_type": "code",
   "execution_count": 18,
   "metadata": {},
   "outputs": [
    {
     "data": {
      "text/plain": [
       "58"
      ]
     },
     "execution_count": 18,
     "metadata": {},
     "output_type": "execute_result"
    }
   ],
   "source": [
    "a=orders[orders['group']=='A']\n",
    "b=orders[orders['group']=='B']\n",
    "len(a[a['visitorId'].isin(b['visitorId'])]['visitorId'].unique())\n",
    "# количество пользователей, которые попали в обе группы"
   ]
  },
  {
   "cell_type": "markdown",
   "metadata": {},
   "source": [
    "В ходе подготовки были добавлены необходимые библиотеки, загружены данные. Данные пришли корректные (без дубликатов и пропусков), нужно было только измененить типы данных у дат и переименовать столбцы в таблице с гипотезами. В ходе предобработки обнаружилось 58 пользователей, которые попали в обе группы, нужно уведомить об этом коллег, которые проводили тест."
   ]
  },
  {
   "cell_type": "markdown",
   "metadata": {},
   "source": [
    "## Приоритизация гипотез"
   ]
  },
  {
   "cell_type": "markdown",
   "metadata": {},
   "source": [
    "### ICE"
   ]
  },
  {
   "cell_type": "code",
   "execution_count": 19,
   "metadata": {},
   "outputs": [
    {
     "data": {
      "text/html": [
       "<div>\n",
       "<style scoped>\n",
       "    .dataframe tbody tr th:only-of-type {\n",
       "        vertical-align: middle;\n",
       "    }\n",
       "\n",
       "    .dataframe tbody tr th {\n",
       "        vertical-align: top;\n",
       "    }\n",
       "\n",
       "    .dataframe thead th {\n",
       "        text-align: right;\n",
       "    }\n",
       "</style>\n",
       "<table border=\"1\" class=\"dataframe\">\n",
       "  <thead>\n",
       "    <tr style=\"text-align: right;\">\n",
       "      <th></th>\n",
       "      <th>hypothesis</th>\n",
       "      <th>reach</th>\n",
       "      <th>impact</th>\n",
       "      <th>confidence</th>\n",
       "      <th>efforts</th>\n",
       "      <th>ICE</th>\n",
       "    </tr>\n",
       "  </thead>\n",
       "  <tbody>\n",
       "    <tr>\n",
       "      <th>8</th>\n",
       "      <td>Запустить акцию, дающую скидку на товар в день рождения</td>\n",
       "      <td>1</td>\n",
       "      <td>9</td>\n",
       "      <td>9</td>\n",
       "      <td>5</td>\n",
       "      <td>16.20</td>\n",
       "    </tr>\n",
       "    <tr>\n",
       "      <th>0</th>\n",
       "      <td>Добавить два новых канала привлечения трафика, что позволит привлекать на 30% больше пользователей</td>\n",
       "      <td>3</td>\n",
       "      <td>10</td>\n",
       "      <td>8</td>\n",
       "      <td>6</td>\n",
       "      <td>13.33</td>\n",
       "    </tr>\n",
       "    <tr>\n",
       "      <th>7</th>\n",
       "      <td>Добавить форму подписки на все основные страницы, чтобы собрать базу клиентов для email-рассылок</td>\n",
       "      <td>10</td>\n",
       "      <td>7</td>\n",
       "      <td>8</td>\n",
       "      <td>5</td>\n",
       "      <td>11.20</td>\n",
       "    </tr>\n",
       "    <tr>\n",
       "      <th>6</th>\n",
       "      <td>Показать на главной странице баннеры с актуальными акциями и распродажами, чтобы увеличить конверсию</td>\n",
       "      <td>5</td>\n",
       "      <td>3</td>\n",
       "      <td>8</td>\n",
       "      <td>3</td>\n",
       "      <td>8.00</td>\n",
       "    </tr>\n",
       "    <tr>\n",
       "      <th>2</th>\n",
       "      <td>Добавить блоки рекомендаций товаров на сайт интернет магазина, чтобы повысить конверсию и средний чек заказа</td>\n",
       "      <td>8</td>\n",
       "      <td>3</td>\n",
       "      <td>7</td>\n",
       "      <td>3</td>\n",
       "      <td>7.00</td>\n",
       "    </tr>\n",
       "    <tr>\n",
       "      <th>1</th>\n",
       "      <td>Запустить собственную службу доставки, что сократит срок доставки заказов</td>\n",
       "      <td>2</td>\n",
       "      <td>5</td>\n",
       "      <td>4</td>\n",
       "      <td>10</td>\n",
       "      <td>2.00</td>\n",
       "    </tr>\n",
       "    <tr>\n",
       "      <th>5</th>\n",
       "      <td>Добавить страницу отзывов клиентов о магазине, что позволит увеличить количество заказов</td>\n",
       "      <td>3</td>\n",
       "      <td>2</td>\n",
       "      <td>2</td>\n",
       "      <td>3</td>\n",
       "      <td>1.33</td>\n",
       "    </tr>\n",
       "    <tr>\n",
       "      <th>3</th>\n",
       "      <td>Изменить структура категорий, что увеличит конверсию, т.к. пользователи быстрее найдут нужный товар</td>\n",
       "      <td>8</td>\n",
       "      <td>3</td>\n",
       "      <td>3</td>\n",
       "      <td>8</td>\n",
       "      <td>1.12</td>\n",
       "    </tr>\n",
       "    <tr>\n",
       "      <th>4</th>\n",
       "      <td>Изменить цвет фона главной страницы, чтобы увеличить вовлеченность пользователей</td>\n",
       "      <td>3</td>\n",
       "      <td>1</td>\n",
       "      <td>1</td>\n",
       "      <td>1</td>\n",
       "      <td>1.00</td>\n",
       "    </tr>\n",
       "  </tbody>\n",
       "</table>\n",
       "</div>"
      ],
      "text/plain": [
       "                                                                                                     hypothesis  \\\n",
       "8  Запустить акцию, дающую скидку на товар в день рождения                                                        \n",
       "0  Добавить два новых канала привлечения трафика, что позволит привлекать на 30% больше пользователей             \n",
       "7  Добавить форму подписки на все основные страницы, чтобы собрать базу клиентов для email-рассылок               \n",
       "6  Показать на главной странице баннеры с актуальными акциями и распродажами, чтобы увеличить конверсию           \n",
       "2  Добавить блоки рекомендаций товаров на сайт интернет магазина, чтобы повысить конверсию и средний чек заказа   \n",
       "1  Запустить собственную службу доставки, что сократит срок доставки заказов                                      \n",
       "5  Добавить страницу отзывов клиентов о магазине, что позволит увеличить количество заказов                       \n",
       "3  Изменить структура категорий, что увеличит конверсию, т.к. пользователи быстрее найдут нужный товар            \n",
       "4  Изменить цвет фона главной страницы, чтобы увеличить вовлеченность пользователей                               \n",
       "\n",
       "   reach  impact  confidence  efforts    ICE  \n",
       "8  1      9       9           5        16.20  \n",
       "0  3      10      8           6        13.33  \n",
       "7  10     7       8           5        11.20  \n",
       "6  5      3       8           3        8.00   \n",
       "2  8      3       7           3        7.00   \n",
       "1  2      5       4           10       2.00   \n",
       "5  3      2       2           3        1.33   \n",
       "3  8      3       3           8        1.12   \n",
       "4  3      1       1           1        1.00   "
      ]
     },
     "execution_count": 19,
     "metadata": {},
     "output_type": "execute_result"
    }
   ],
   "source": [
    "hypothesis['ICE'] = (hypothesis['impact']*hypothesis['confidence']/hypothesis['efforts']).round(2)\n",
    "hypothesis.sort_values(by='ICE', ascending=False)"
   ]
  },
  {
   "cell_type": "markdown",
   "metadata": {},
   "source": [
    "### RICE"
   ]
  },
  {
   "cell_type": "code",
   "execution_count": 20,
   "metadata": {},
   "outputs": [
    {
     "data": {
      "text/html": [
       "<div>\n",
       "<style scoped>\n",
       "    .dataframe tbody tr th:only-of-type {\n",
       "        vertical-align: middle;\n",
       "    }\n",
       "\n",
       "    .dataframe tbody tr th {\n",
       "        vertical-align: top;\n",
       "    }\n",
       "\n",
       "    .dataframe thead th {\n",
       "        text-align: right;\n",
       "    }\n",
       "</style>\n",
       "<table border=\"1\" class=\"dataframe\">\n",
       "  <thead>\n",
       "    <tr style=\"text-align: right;\">\n",
       "      <th></th>\n",
       "      <th>hypothesis</th>\n",
       "      <th>reach</th>\n",
       "      <th>impact</th>\n",
       "      <th>confidence</th>\n",
       "      <th>efforts</th>\n",
       "      <th>ICE</th>\n",
       "      <th>RICE</th>\n",
       "    </tr>\n",
       "  </thead>\n",
       "  <tbody>\n",
       "    <tr>\n",
       "      <th>7</th>\n",
       "      <td>Добавить форму подписки на все основные страницы, чтобы собрать базу клиентов для email-рассылок</td>\n",
       "      <td>10</td>\n",
       "      <td>7</td>\n",
       "      <td>8</td>\n",
       "      <td>5</td>\n",
       "      <td>11.20</td>\n",
       "      <td>112.0</td>\n",
       "    </tr>\n",
       "    <tr>\n",
       "      <th>2</th>\n",
       "      <td>Добавить блоки рекомендаций товаров на сайт интернет магазина, чтобы повысить конверсию и средний чек заказа</td>\n",
       "      <td>8</td>\n",
       "      <td>3</td>\n",
       "      <td>7</td>\n",
       "      <td>3</td>\n",
       "      <td>7.00</td>\n",
       "      <td>56.0</td>\n",
       "    </tr>\n",
       "    <tr>\n",
       "      <th>0</th>\n",
       "      <td>Добавить два новых канала привлечения трафика, что позволит привлекать на 30% больше пользователей</td>\n",
       "      <td>3</td>\n",
       "      <td>10</td>\n",
       "      <td>8</td>\n",
       "      <td>6</td>\n",
       "      <td>13.33</td>\n",
       "      <td>40.0</td>\n",
       "    </tr>\n",
       "    <tr>\n",
       "      <th>6</th>\n",
       "      <td>Показать на главной странице баннеры с актуальными акциями и распродажами, чтобы увеличить конверсию</td>\n",
       "      <td>5</td>\n",
       "      <td>3</td>\n",
       "      <td>8</td>\n",
       "      <td>3</td>\n",
       "      <td>8.00</td>\n",
       "      <td>40.0</td>\n",
       "    </tr>\n",
       "    <tr>\n",
       "      <th>8</th>\n",
       "      <td>Запустить акцию, дающую скидку на товар в день рождения</td>\n",
       "      <td>1</td>\n",
       "      <td>9</td>\n",
       "      <td>9</td>\n",
       "      <td>5</td>\n",
       "      <td>16.20</td>\n",
       "      <td>16.2</td>\n",
       "    </tr>\n",
       "    <tr>\n",
       "      <th>3</th>\n",
       "      <td>Изменить структура категорий, что увеличит конверсию, т.к. пользователи быстрее найдут нужный товар</td>\n",
       "      <td>8</td>\n",
       "      <td>3</td>\n",
       "      <td>3</td>\n",
       "      <td>8</td>\n",
       "      <td>1.12</td>\n",
       "      <td>9.0</td>\n",
       "    </tr>\n",
       "    <tr>\n",
       "      <th>1</th>\n",
       "      <td>Запустить собственную службу доставки, что сократит срок доставки заказов</td>\n",
       "      <td>2</td>\n",
       "      <td>5</td>\n",
       "      <td>4</td>\n",
       "      <td>10</td>\n",
       "      <td>2.00</td>\n",
       "      <td>4.0</td>\n",
       "    </tr>\n",
       "    <tr>\n",
       "      <th>5</th>\n",
       "      <td>Добавить страницу отзывов клиентов о магазине, что позволит увеличить количество заказов</td>\n",
       "      <td>3</td>\n",
       "      <td>2</td>\n",
       "      <td>2</td>\n",
       "      <td>3</td>\n",
       "      <td>1.33</td>\n",
       "      <td>4.0</td>\n",
       "    </tr>\n",
       "    <tr>\n",
       "      <th>4</th>\n",
       "      <td>Изменить цвет фона главной страницы, чтобы увеличить вовлеченность пользователей</td>\n",
       "      <td>3</td>\n",
       "      <td>1</td>\n",
       "      <td>1</td>\n",
       "      <td>1</td>\n",
       "      <td>1.00</td>\n",
       "      <td>3.0</td>\n",
       "    </tr>\n",
       "  </tbody>\n",
       "</table>\n",
       "</div>"
      ],
      "text/plain": [
       "                                                                                                     hypothesis  \\\n",
       "7  Добавить форму подписки на все основные страницы, чтобы собрать базу клиентов для email-рассылок               \n",
       "2  Добавить блоки рекомендаций товаров на сайт интернет магазина, чтобы повысить конверсию и средний чек заказа   \n",
       "0  Добавить два новых канала привлечения трафика, что позволит привлекать на 30% больше пользователей             \n",
       "6  Показать на главной странице баннеры с актуальными акциями и распродажами, чтобы увеличить конверсию           \n",
       "8  Запустить акцию, дающую скидку на товар в день рождения                                                        \n",
       "3  Изменить структура категорий, что увеличит конверсию, т.к. пользователи быстрее найдут нужный товар            \n",
       "1  Запустить собственную службу доставки, что сократит срок доставки заказов                                      \n",
       "5  Добавить страницу отзывов клиентов о магазине, что позволит увеличить количество заказов                       \n",
       "4  Изменить цвет фона главной страницы, чтобы увеличить вовлеченность пользователей                               \n",
       "\n",
       "   reach  impact  confidence  efforts    ICE   RICE  \n",
       "7  10     7       8           5        11.20  112.0  \n",
       "2  8      3       7           3        7.00   56.0   \n",
       "0  3      10      8           6        13.33  40.0   \n",
       "6  5      3       8           3        8.00   40.0   \n",
       "8  1      9       9           5        16.20  16.2   \n",
       "3  8      3       3           8        1.12   9.0    \n",
       "1  2      5       4           10       2.00   4.0    \n",
       "5  3      2       2           3        1.33   4.0    \n",
       "4  3      1       1           1        1.00   3.0    "
      ]
     },
     "execution_count": 20,
     "metadata": {},
     "output_type": "execute_result"
    }
   ],
   "source": [
    "hypothesis['RICE'] = (hypothesis['reach'] * hypothesis['impact'] * hypothesis['confidence'] / hypothesis['efforts']).round(2)\n",
    "hypothesis.sort_values(by='RICE', ascending=False)"
   ]
  },
  {
   "cell_type": "markdown",
   "metadata": {},
   "source": [
    "### Выводы"
   ]
  },
  {
   "cell_type": "markdown",
   "metadata": {},
   "source": [
    "По фреймворку ICE наибольшую оценку имели гпиотезы 8,0 и 7. После применения фреймворка RICE приоритеты изменились на гпиотезы 7,2 и 0. Это объясняется тем, что в случае ICE не учитывается охват изменений, тогда как это важная составляющая оценки гипотез."
   ]
  },
  {
   "cell_type": "markdown",
   "metadata": {},
   "source": [
    "## Анализ A/B-теста"
   ]
  },
  {
   "cell_type": "markdown",
   "metadata": {},
   "source": [
    "### График кумулятивной выручки по группам"
   ]
  },
  {
   "cell_type": "code",
   "execution_count": 21,
   "metadata": {},
   "outputs": [],
   "source": [
    "datesGroups = orders[['date','group']].drop_duplicates()\n",
    "# массив уникальных пар значений дат и групп теста\n",
    "\n",
    "ordersAggregated = datesGroups\\\n",
    ".apply(lambda x: orders[np.logical_and(orders['date'] <= x['date'], orders['group'] == x['group'])]\\\n",
    ".agg({'date' : 'max', 'group' : 'max', 'transactionId' : pd.Series.nunique, 'visitorId' : pd.Series.nunique, 'revenue' : 'sum'}), axis=1)\\\n",
    ".sort_values(by=['date','group'])\n",
    "# агрегированные кумулятивные по дням данные о заказах \n",
    "\n",
    "visitorsAggregated = datesGroups\\\n",
    ".apply(lambda x: visitors[np.logical_and(visitors['date'] <= x['date'], visitors['group'] == x['group'])]\\\n",
    ".agg({'date' : 'max', 'group' : 'max', 'visitors' : 'sum'}), axis=1)\\\n",
    ".sort_values(by=['date','group'])\n",
    "# агрегированные кумулятивные по дням данные о посетителях интернет-магазина \n",
    "\n",
    "cummulativeData = ordersAggregated.merge(visitorsAggregated, left_on=['date', 'group'], right_on=['date', 'group'])\n",
    "cummulativeData.columns = ['date', 'group', 'orders', 'buyers', 'revenue', 'visitors']\n",
    "# кумулятивные данные в одной таблице и понятные названия столбцов\n",
    "\n",
    "# cummulativeData.head(5)"
   ]
  },
  {
   "cell_type": "code",
   "execution_count": 22,
   "metadata": {},
   "outputs": [],
   "source": [
    "cummulativeRevenueA = cummulativeData[cummulativeData['group']=='A'][['date','revenue', 'orders']]\n",
    "cummulativeRevenueB = cummulativeData[cummulativeData['group']=='B'][['date','revenue', 'orders']]\n",
    "# датафреймы с кумулятивным количеством заказов и кумулятивной выручкой по дням и группам"
   ]
  },
  {
   "cell_type": "code",
   "execution_count": 23,
   "metadata": {},
   "outputs": [
    {
     "data": {
      "image/png": "[encoded data removed]",
      "text/plain": [
       "<Figure size 1152x576 with 1 Axes>"
      ]
     },
     "metadata": {},
     "output_type": "display_data"
    }
   ],
   "source": [
    "plt.plot(cummulativeRevenueA['date'], cummulativeRevenueA['revenue'], label='A')\n",
    "plt.plot(cummulativeRevenueB['date'], cummulativeRevenueB['revenue'], label='B')\n",
    "plt.title(\"График кумулятивной выручки по группам\")\n",
    "plt.xlabel(\"Дата\")\n",
    "plt.ylabel(\"Прибыль\")\n",
    "plt.legend();"
   ]
  },
  {
   "cell_type": "markdown",
   "metadata": {},
   "source": [
    "График кумулятивной выручки группы B в течении почти всего теста лежит выше, чем график кумулятивной выручки группы A. Пользователи группы Б приносят больше денег. Есть точка быстрого роста группы Б, это может сигнализировать о всплеске числа заказов, либо о появлении очень дорогих заказов в выборке. "
   ]
  },
  {
   "cell_type": "markdown",
   "metadata": {},
   "source": [
    "### График кумулятивного среднего чека по группам"
   ]
  },
  {
   "cell_type": "code",
   "execution_count": 24,
   "metadata": {},
   "outputs": [
    {
     "data": {
      "image/png": "[encoded data removed]",
      "text/plain": [
       "<Figure size 1152x576 with 1 Axes>"
      ]
     },
     "metadata": {},
     "output_type": "display_data"
    }
   ],
   "source": [
    "plt.plot(cummulativeRevenueA['date'], cummulativeRevenueA['revenue']/cummulativeRevenueA['orders'], label='A')\n",
    "plt.plot(cummulativeRevenueB['date'], cummulativeRevenueB['revenue']/cummulativeRevenueB['orders'], label='B')\n",
    "plt.title(\"График кумулятивного среднего чека по группам\")\n",
    "plt.xlabel(\"Дата\")\n",
    "plt.ylabel(\"Кумулятивный средний чек\")\n",
    "plt.legend();"
   ]
  },
  {
   "cell_type": "markdown",
   "metadata": {},
   "source": [
    "Средний чек группы Б на протяжении почти всего теста выше. Также наблюдается резкий скачок 18 числа, это может быть обусловлено аномалиями"
   ]
  },
  {
   "cell_type": "markdown",
   "metadata": {},
   "source": [
    "### График относительного изменения кумулятивного среднего чека группы B к группе A"
   ]
  },
  {
   "cell_type": "code",
   "execution_count": 25,
   "metadata": {},
   "outputs": [
    {
     "data": {
      "image/png": "[encoded data removed]",
      "text/plain": [
       "<Figure size 1152x576 with 1 Axes>"
      ]
     },
     "metadata": {},
     "output_type": "display_data"
    }
   ],
   "source": [
    "mergedCummulativeRevenue = cummulativeRevenueA.merge(cummulativeRevenueB, left_on='date', right_on='date', how='left', suffixes=['A', 'B'])\n",
    "# сбор данных в одном датафрейме\n",
    "\n",
    "plt.plot(mergedCummulativeRevenue['date'], (mergedCummulativeRevenue['revenueB']/mergedCummulativeRevenue['ordersB'])/(mergedCummulativeRevenue['revenueA']/mergedCummulativeRevenue['ordersA'])-1)\n",
    "plt.axhline(y=0, color='black', linestyle='--')\n",
    "plt.title(\"График относительного изменения кумулятивного среднего чека группы B к группе A\")\n",
    "plt.xlabel(\"Дата\")\n",
    "plt.ylabel(\"Относительное изменение\");\n",
    "# визуализация с добавлением оси х"
   ]
  },
  {
   "cell_type": "markdown",
   "metadata": {},
   "source": [
    "Заметны слишком резкие колебания, необходимо будет проверить данные на наличие аномалий."
   ]
  },
  {
   "cell_type": "markdown",
   "metadata": {},
   "source": [
    "### График кумулятивной конверсии по группам"
   ]
  },
  {
   "cell_type": "code",
   "execution_count": 26,
   "metadata": {},
   "outputs": [
    {
     "data": {
      "image/png": "[encoded data removed]",
      "text/plain": [
       "<Figure size 1152x576 with 1 Axes>"
      ]
     },
     "metadata": {},
     "output_type": "display_data"
    }
   ],
   "source": [
    "cummulativeData['conversion'] = cummulativeData['orders']/cummulativeData['visitors']\n",
    "# кумулятивная конверсия\n",
    "\n",
    "cummulativeDataA = cummulativeData[cummulativeData['group']=='A']\n",
    "cummulativeDataB = cummulativeData[cummulativeData['group']=='B']\n",
    "# разделение по группам\n",
    "\n",
    "plt.plot(cummulativeDataA['date'], cummulativeDataA['conversion'], label='A')\n",
    "plt.plot(cummulativeDataB['date'], cummulativeDataB['conversion'], label='B')\n",
    "plt.title(\"График кумулятивной конверсии по группам\")\n",
    "plt.xlabel(\"Дата\")\n",
    "plt.ylabel(\"Кумулятнивная конверсия\")\n",
    "plt.legend();\n",
    "# визуализация"
   ]
  },
  {
   "cell_type": "markdown",
   "metadata": {},
   "source": [
    "Группа B стабильно показывает большую конверсию чем группа A большую часть теста."
   ]
  },
  {
   "cell_type": "markdown",
   "metadata": {},
   "source": [
    "### График относительного изменения кумулятивной конверсии группы B к группе A"
   ]
  },
  {
   "cell_type": "code",
   "execution_count": 27,
   "metadata": {},
   "outputs": [
    {
     "data": {
      "image/png": "[encoded data removed]",
      "text/plain": [
       "<Figure size 1152x576 with 1 Axes>"
      ]
     },
     "metadata": {},
     "output_type": "display_data"
    }
   ],
   "source": [
    "mergedCummulativeConversions = cummulativeDataA[['date','conversion']].merge(cummulativeDataB[['date','conversion']], left_on='date', right_on='date', how='left', suffixes=['A', 'B'])\n",
    "# сбор данных в одном датафрейме\n",
    "\n",
    "fig = plt.figure()\n",
    "plt.plot(mergedCummulativeConversions['date'], mergedCummulativeConversions['conversionB']/mergedCummulativeConversions['conversionA']-1, label=\"Относительный прирост конверсии группы B относительно группы A\")\n",
    "plt.axhline(y=0, color='black', linestyle='--')\n",
    "plt.title(\"График относительного изменения кумулятивной конверсии группы B к группе A\")\n",
    "plt.xlabel(\"Дата\")\n",
    "plt.ylabel(\"Относительное изменение кумулятивной конверсии\");"
   ]
  },
  {
   "cell_type": "markdown",
   "metadata": {},
   "source": [
    "Конверсия в группе B стабильно лучше конверсии в группе A по просшествии 1 недели после начала теста."
   ]
  },
  {
   "cell_type": "markdown",
   "metadata": {},
   "source": [
    "### Точечный график количества заказов по пользователям"
   ]
  },
  {
   "cell_type": "code",
   "execution_count": 28,
   "metadata": {},
   "outputs": [],
   "source": [
    "ordersByUsers = orders.drop(['group', 'revenue', 'date'], axis=1).groupby('visitorId', as_index=False).agg({'transactionId' : pd.Series.nunique})\n",
    "ordersByUsers.columns = ['userId','orders']"
   ]
  },
  {
   "cell_type": "code",
   "execution_count": 29,
   "metadata": {},
   "outputs": [],
   "source": [
    "# ordersByUsers"
   ]
  },
  {
   "cell_type": "code",
   "execution_count": 30,
   "metadata": {},
   "outputs": [],
   "source": [
    "# plt.hist(ordersByUsers['orders'])"
   ]
  },
  {
   "cell_type": "code",
   "execution_count": 31,
   "metadata": {},
   "outputs": [
    {
     "data": {
      "image/png": "[encoded data removed]",
      "text/plain": [
       "<Figure size 1152x576 with 1 Axes>"
      ]
     },
     "metadata": {},
     "output_type": "display_data"
    }
   ],
   "source": [
    "x_values = pd.Series(range(0,len(ordersByUsers)))\n",
    "\n",
    "plt.scatter(x_values, ordersByUsers['orders'], alpha = 0.8)\n",
    "plt.title(\"Точечный график количества заказов по пользователям\")\n",
    "plt.xlabel(\"Номер пользователя\")\n",
    "plt.ylabel(\"Количество заказов\");"
   ]
  },
  {
   "cell_type": "markdown",
   "metadata": {},
   "source": [
    "Из графика видно, что большая часть пользователей не делает больше 2-3 заказов."
   ]
  },
  {
   "cell_type": "markdown",
   "metadata": {},
   "source": [
    "### 95-й и 99-й перцентили количества заказов на пользователя"
   ]
  },
  {
   "cell_type": "code",
   "execution_count": 32,
   "metadata": {},
   "outputs": [
    {
     "data": {
      "text/plain": [
       "array([2., 4.])"
      ]
     },
     "execution_count": 32,
     "metadata": {},
     "output_type": "execute_result"
    }
   ],
   "source": [
    "np.percentile(ordersByUsers['orders'], [95, 99])"
   ]
  },
  {
   "cell_type": "code",
   "execution_count": 33,
   "metadata": {},
   "outputs": [],
   "source": [
    "# np.percentile(ordersByUsers['orders'], [91, 97, 98])"
   ]
  },
  {
   "cell_type": "markdown",
   "metadata": {},
   "source": [
    "Больше 2 заказов совершают только 3% пользователей. Это послужит границей для определения аномальных пользователей."
   ]
  },
  {
   "cell_type": "markdown",
   "metadata": {},
   "source": [
    "### Точечный график стоимостей заказов"
   ]
  },
  {
   "cell_type": "code",
   "execution_count": 34,
   "metadata": {},
   "outputs": [
    {
     "data": {
      "image/png": "[encoded data removed]",
      "text/plain": [
       "<Figure size 1152x576 with 1 Axes>"
      ]
     },
     "metadata": {},
     "output_type": "display_data"
    }
   ],
   "source": [
    "x_values = pd.Series(range(0,len(orders)))\n",
    "plt.scatter(x_values, orders['revenue'])\n",
    "plt.title(\"Точечный график стоимостей заказов\")\n",
    "plt.xlabel(\"Порядковый номер заказа\")\n",
    "plt.ylabel(\"Стоимость заказа\");"
   ]
  },
  {
   "cell_type": "markdown",
   "metadata": {},
   "source": [
    "Сильно выделяется выброс со стоимостью больше 1.2 млн. Стоит рассмотреть график поближе."
   ]
  },
  {
   "cell_type": "code",
   "execution_count": 35,
   "metadata": {},
   "outputs": [
    {
     "data": {
      "image/png": "[encoded data removed]",
      "text/plain": [
       "<Figure size 1152x576 with 1 Axes>"
      ]
     },
     "metadata": {},
     "output_type": "display_data"
    }
   ],
   "source": [
    "x_values = pd.Series(range(0,len(orders)))\n",
    "plt.axis([0, 1200, 0, 100000])\n",
    "plt.scatter(x_values, orders['revenue'])\n",
    "plt.title(\"Точечный график стоимостей заказов\")\n",
    "plt.xlabel(\"Порядковый номер заказа\")\n",
    "plt.ylabel(\"Стоимость заказа\");"
   ]
  },
  {
   "cell_type": "markdown",
   "metadata": {},
   "source": [
    "Большая часть заказов не превышает 25000-30000 рублей."
   ]
  },
  {
   "cell_type": "markdown",
   "metadata": {},
   "source": [
    "### 95-й и 99-й перцентили стоимости заказов"
   ]
  },
  {
   "cell_type": "code",
   "execution_count": 36,
   "metadata": {},
   "outputs": [
    {
     "data": {
      "text/plain": [
       "array([28000. , 58233.2])"
      ]
     },
     "execution_count": 36,
     "metadata": {},
     "output_type": "execute_result"
    }
   ],
   "source": [
    "np.percentile(orders['revenue'], [95, 99])"
   ]
  },
  {
   "cell_type": "code",
   "execution_count": 37,
   "metadata": {},
   "outputs": [],
   "source": [
    "#np.percentile(orders['revenue'], [97, 98])"
   ]
  },
  {
   "cell_type": "markdown",
   "metadata": {},
   "source": [
    "Из расчета ясно, что только 5% заказов были на сумму больше 28000 и только 1% на сумму больше 58000. Для границы аномальных значений стоит принять 30000."
   ]
  },
  {
   "cell_type": "markdown",
   "metadata": {},
   "source": [
    "### Cтатистическая значимость различий в конверсии между группами по «сырым» данным"
   ]
  },
  {
   "cell_type": "code",
   "execution_count": 38,
   "metadata": {},
   "outputs": [],
   "source": [
    "ordersByUsersA = orders[orders['group']=='A'].groupby('visitorId', as_index=False).agg({'transactionId' : pd.Series.nunique})\n",
    "ordersByUsersA.columns = ['visitorId', 'orders']\n",
    "\n",
    "ordersByUsersB = orders[orders['group']=='B'].groupby('visitorId', as_index=False).agg({'transactionId' : pd.Series.nunique})\n",
    "ordersByUsersB.columns = ['visitorId', 'orders']\n",
    "# переменные с пользователями, которые хотя бы раз совершили заказ\n",
    "\n",
    "sampleA = pd.concat([ordersByUsersA['orders'],pd.Series(0, index=np.arange(cummulativeData[cummulativeData['group']=='A']['visitors'].sum() - len(ordersByUsersA['orders'])), name='orders')],axis=0)\n",
    "sampleB = pd.concat([ordersByUsersB['orders'],pd.Series(0, index=np.arange(cummulativeData[cummulativeData['group']=='B']['visitors'].sum() - len(ordersByUsersB['orders'])), name='orders')],axis=0)\n",
    "# необходимо добавить нули для пользователей, которые ничего не заказали"
   ]
  },
  {
   "cell_type": "code",
   "execution_count": 39,
   "metadata": {},
   "outputs": [
    {
     "name": "stdout",
     "output_type": "stream",
     "text": [
      "Относительный прирост конверсии группы B по отношению к группе A: 14.37%\n",
      "P-value: 0.015\n",
      "По неочищенным данным в конверсии групп A и B разница статистически значима.\n"
     ]
    }
   ],
   "source": [
    "print('Относительный прирост конверсии группы B по отношению к группе A: {0:.2%}'.format(sampleB.mean()/sampleA.mean()-1))\n",
    "\n",
    "\n",
    "# H0 - конверсия группы А = конверсии группы В\n",
    "# H1 - конверсии групп отличаются\n",
    "alpha = 0.05\n",
    "results = stats.mannwhitneyu(sampleA, sampleB, alternative = 'two-sided')\n",
    "# тест Уилкоксона-Манна-Уитни для нахождения статистической значимости конверсии между группами\n",
    "print('P-value: {0:.3f}'.format(results.pvalue))\n",
    "if results.pvalue < alpha:\n",
    "    print('По неочищенным данным в конверсии групп A и B разница статистически значима.')\n",
    "else:\n",
    "    print('По неочищенным данным различий в конверсии групп A и B нет.')"
   ]
  },
  {
   "cell_type": "markdown",
   "metadata": {},
   "source": [
    "P-value значительно меньше 0.05, потому нулевая гипотеза отвергается. Анализ «сырых данных» сообщает, что в конверсии между группами есть статистически значимые различия 14.37%."
   ]
  },
  {
   "cell_type": "markdown",
   "metadata": {},
   "source": [
    "### Статистическая значимость различий в среднем чеке заказа между группами по «сырым» данным"
   ]
  },
  {
   "cell_type": "code",
   "execution_count": 40,
   "metadata": {},
   "outputs": [
    {
     "name": "stdout",
     "output_type": "stream",
     "text": [
      "Относительное изменение среднего чека в группе B по отношению группы A: 25.871%\n",
      "P-value: 0.7292909855432458\n",
      "По неочищенным данным различий в средних чеках в группах A и B нет\n"
     ]
    }
   ],
   "source": [
    "print('Относительное изменение среднего чека в группе B по отношению группы A: {:.3%}'.format(\n",
    "orders[orders['group']=='B']['revenue'].mean()/orders[orders['group']=='A']['revenue'].mean()-1))\n",
    "\n",
    "# H0 - средний чек группы А = чеку группы В\n",
    "# H1 - средний чек групп не равен\n",
    "results = stats.mannwhitneyu(orders[orders['group']=='A']['revenue'], orders[orders['group']=='B']['revenue'], alternative = 'two-sided')\n",
    "print('P-value: {}'.format(results.pvalue))\n",
    "if results.pvalue < alpha:\n",
    "    print('По неочищенным данным разница в средних чеках в группах A и B статистически значима')\n",
    "else:\n",
    "    print('По неочищенным данным различий в средних чеках в группах A и B нет')"
   ]
  },
  {
   "cell_type": "markdown",
   "metadata": {},
   "source": [
    "Несмотря на разницу в средних чеках почти в 26%, тест показывает, что нельзя отвергнуть нулевую гипотезу о равенстве средних. Возможно, ситуация изменится с очищенными данными."
   ]
  },
  {
   "cell_type": "markdown",
   "metadata": {},
   "source": [
    "### Статистическая значимость различий в конверсии между группами по «очищенным» данным"
   ]
  },
  {
   "cell_type": "markdown",
   "metadata": {},
   "source": [
    "Из вычисления перцентилей стоимости заказов и количества заказов стоит отфильтровать данные по параметрам:\n",
    "\n",
    "- заказы на сумму более 30000\n",
    "- количество заказов более 2"
   ]
  },
  {
   "cell_type": "code",
   "execution_count": 41,
   "metadata": {},
   "outputs": [
    {
     "name": "stdout",
     "output_type": "stream",
     "text": [
      "1099    148427295\n",
      "18      199603092\n",
      "928     204675465\n",
      "23      237748145\n",
      "684     358944393\n",
      "Name: visitorId, dtype: int64\n",
      "(62,)\n"
     ]
    }
   ],
   "source": [
    "usersWithManyOrders = pd.concat([ordersByUsersA[ordersByUsersA['orders'] > 2]\n",
    "['visitorId'], ordersByUsersA[ordersByUsersA['orders'] > 2]['visitorId']], axis = 0)\n",
    "usersWithExpensiveOrders = orders[orders['revenue'] > 30000]['visitorId']\n",
    "abnormalUsers = pd.concat([usersWithManyOrders, usersWithExpensiveOrders], axis = 0).drop_duplicates().sort_values()\n",
    "print(abnormalUsers.head(5))\n",
    "print(abnormalUsers.shape)\n",
    "# вывод аномальных пользователей и их количества"
   ]
  },
  {
   "cell_type": "code",
   "execution_count": 42,
   "metadata": {},
   "outputs": [],
   "source": [
    "sampleAFiltered = pd.concat([ordersByUsersA[np.logical_not(ordersByUsersA['visitorId'].isin(abnormalUsers))]['orders'],\n",
    "pd.Series(0, index=np.arange(cummulativeData[cummulativeData['group']=='A']['visitors'].sum() -\n",
    "len(ordersByUsersA['orders'])))],axis=0)\n",
    "sampleBFiltered = pd.concat([ordersByUsersB[np.logical_not(ordersByUsersB['visitorId'].isin(abnormalUsers))]['orders'],\n",
    "pd.Series(0, index=np.arange(cummulativeData[cummulativeData['group']=='B']['visitors'].sum() -\n",
    "len(ordersByUsersB['orders'])))],axis=0)\n",
    "# очистка данных от аномалий"
   ]
  },
  {
   "cell_type": "code",
   "execution_count": 43,
   "metadata": {},
   "outputs": [
    {
     "name": "stdout",
     "output_type": "stream",
     "text": [
      "Относительный прирост конверсии группы B по отношению к группе A после очистки данных: 20.897%\n",
      "P-value: 0.010190088795660733\n",
      "По очищенным данным в конверсии групп A и B разница статистически значима\n"
     ]
    }
   ],
   "source": [
    "print('Относительный прирост конверсии группы B по отношению к группе A после очистки данных: {:.3%}'.format(sampleBFiltered.mean()/sampleAFiltered.mean()-1))\n",
    "\n",
    "# H0 - конверсия группы А = конверсии группы В\n",
    "# H1 - конверсии групп отличаются\n",
    "results = stats.mannwhitneyu(sampleAFiltered, sampleBFiltered, alternative = 'two-sided')\n",
    "print('P-value: {}'.format(results.pvalue))\n",
    "if results.pvalue < alpha:\n",
    "    print('По очищенным данным в конверсии групп A и B разница статистически значима')\n",
    "else:\n",
    "    print('По очищенным данным различий в конверсии групп A и B нет')"
   ]
  },
  {
   "cell_type": "markdown",
   "metadata": {},
   "source": [
    "Очистка данных подтвердила вывод из первого теста: конверси групп А и Б отличаются. В группе Б она больше на 20%, если избавиться от аномалий."
   ]
  },
  {
   "cell_type": "markdown",
   "metadata": {},
   "source": [
    "### Статистическая значимость различий в среднем чеке заказа между группами по «очищенным» данным"
   ]
  },
  {
   "cell_type": "code",
   "execution_count": 44,
   "metadata": {},
   "outputs": [
    {
     "name": "stdout",
     "output_type": "stream",
     "text": [
      "Относительное изменение среднего чека в группе B по отношению группы A после очистки данных: -2.078%\n",
      "P-value: 0.7668355724646898\n",
      "По очищенным данным различий в средних чеках в группах A и B нет\n"
     ]
    }
   ],
   "source": [
    "print('Относительное изменение среднего чека в группе B по отношению группы A после очистки данных: {:.3%}'.format(\n",
    "orders[np.logical_and(orders['group']=='B', np.logical_not(orders['visitorId'].isin(abnormalUsers)))]['revenue'].mean()\\\n",
    "/orders[np.logical_and(orders['group']=='A', np.logical_not(orders['visitorId'].isin(abnormalUsers)))]['revenue'].mean()-1))\n",
    "       \n",
    "# H0 - средний чек группы А = чеку группы В\n",
    "# H1 - средний чек групп не равен       \n",
    "results = stats.mannwhitneyu(orders[np.logical_and(orders['group']=='A', np.logical_not(orders['visitorId'].isin(abnormalUsers)))]['revenue'],\n",
    "                             orders[np.logical_and(orders['group']=='B', np.logical_not(orders['visitorId'].isin(abnormalUsers)))]['revenue'], alternative = 'two-sided')\n",
    "print('P-value: {}'.format(results.pvalue))\n",
    "if results.pvalue < alpha:\n",
    "    print('По очищенным данным разница в средних чеках в группах A и B статистически значима')\n",
    "else:\n",
    "    print('По очищенным данным различий в средних чеках в группах A и B нет')"
   ]
  },
  {
   "cell_type": "markdown",
   "metadata": {},
   "source": [
    "Тест с очищенными данными по среднему чеку подтвердил первый результат теста: гипотезу о равенстве среднего чек так ине удалось подтвердить, но в этот раз без выбросов разница между средними чеками упала до 2%."
   ]
  },
  {
   "cell_type": "markdown",
   "metadata": {},
   "source": [
    "### Решение по результатам теста"
   ]
  },
  {
   "cell_type": "markdown",
   "metadata": {},
   "source": [
    "Тест можно остановить и считать успешно пройденным. До и после очистки данных, показатель конверсии в группе B больше показателя в группе A - сначала на 14% до и на 20% после очистки данных. В среднем чеке групп не было найдено статистически значимых различий. При равных средних чеках и возросшей на 14% конверсии группы Б можно остановить тест и зафиксировать победу грппы Б"
   ]
  },
  {
   "cell_type": "markdown",
   "metadata": {},
   "source": [
    "## Выводы"
   ]
  },
  {
   "cell_type": "markdown",
   "metadata": {},
   "source": [
    "В ходе проекта стояла задача вместе с отделом маркетинга подготовить список гипотез для увеличения выручки, приоритизировать их, запустить A/B-тест и проанализировать результаты.\n",
    "\n",
    "Для исследования были переданы файл для приоретизации гипотез, файл и заказами и с пользователями сайта. В ходе предобработки были обнаружены 89 пользователей, которые попали в обе группы, стоит обратить на это внимание отдела маркетинга. В остальном данные пришли корректные.\n",
    "\n",
    "В процессе приоритизации гипотез методом RICE выбор пал на добавление формы подписки на все основные страницы, чтобы собрать базу клиентов для email-рассылок.\n",
    "\n",
    "При выводе кумулятивной выручки по группам было видно, что группа Б приносит больше денег, но также на графике наблюдались аномальные скачики. Со средним чеком ситуация похожая, но аномалии выбивались еще больше. Конверсия после первой недели успокоилась и группа Б показывала лучшие результаты.\n",
    "\n",
    "Для определения и дальнейшей фильтрации аномальных значений количества и стоимости заказов были построены точечные графики и расчитаны 95 и 99 процентали. Для фильтрации были выбраны следующие границы: больше 2 заказов на 1 пользователя (таких пользователей всего около 3%) и заказы дороже 30000 (чуть меньше 5%)\n",
    "\n",
    "После проведения теста Уилкоксона-Манна-Уитни для определения статической значимости различий в конверсии и средним чеком между группами по сырым и очищенным данным стало ясно, что разница в чеке нет, а относительный прирост конверсии по сырым данным составил 15% и 20% по очищенным.\n",
    "\n",
    "Подытоживая вышесказанное, тест можно завершать и оставлять изменения группы Б, конверсия должна будет увеличиться."
   ]
  }
 ],
 "metadata": {
  "ExecuteTimeLog": [
   {
    "duration": 1084,
    "start_time": "2021-08-28T07:42:51.065Z"
   },
   {
    "duration": 63,
    "start_time": "2021-08-28T07:43:01.821Z"
   },
   {
    "duration": 4,
    "start_time": "2021-08-28T07:43:03.504Z"
   },
   {
    "duration": 4,
    "start_time": "2021-08-28T07:54:11.897Z"
   },
   {
    "duration": 66,
    "start_time": "2021-08-28T07:54:11.903Z"
   },
   {
    "duration": 2,
    "start_time": "2021-08-28T07:54:11.971Z"
   },
   {
    "duration": 8,
    "start_time": "2021-08-28T07:54:11.975Z"
   },
   {
    "duration": 10,
    "start_time": "2021-08-28T07:54:11.985Z"
   },
   {
    "duration": 15,
    "start_time": "2021-08-28T07:54:11.998Z"
   },
   {
    "duration": 8,
    "start_time": "2021-08-28T07:54:12.016Z"
   },
   {
    "duration": 4,
    "start_time": "2021-08-28T07:54:12.026Z"
   },
   {
    "duration": 20,
    "start_time": "2021-08-28T07:54:12.032Z"
   },
   {
    "duration": 11,
    "start_time": "2021-08-28T07:54:12.054Z"
   },
   {
    "duration": 362,
    "start_time": "2021-08-28T07:54:12.067Z"
   },
   {
    "duration": 6,
    "start_time": "2021-08-28T07:54:12.431Z"
   },
   {
    "duration": 674,
    "start_time": "2021-08-28T07:54:12.439Z"
   },
   {
    "duration": -2956,
    "start_time": "2021-08-28T07:54:16.071Z"
   },
   {
    "duration": -2957,
    "start_time": "2021-08-28T07:54:16.073Z"
   },
   {
    "duration": -2958,
    "start_time": "2021-08-28T07:54:16.075Z"
   },
   {
    "duration": -2959,
    "start_time": "2021-08-28T07:54:16.077Z"
   },
   {
    "duration": -2960,
    "start_time": "2021-08-28T07:54:16.079Z"
   },
   {
    "duration": -2961,
    "start_time": "2021-08-28T07:54:16.081Z"
   },
   {
    "duration": -2962,
    "start_time": "2021-08-28T07:54:16.083Z"
   },
   {
    "duration": -2964,
    "start_time": "2021-08-28T07:54:16.085Z"
   },
   {
    "duration": -2969,
    "start_time": "2021-08-28T07:54:16.091Z"
   },
   {
    "duration": -2970,
    "start_time": "2021-08-28T07:54:16.093Z"
   },
   {
    "duration": -2971,
    "start_time": "2021-08-28T07:54:16.095Z"
   },
   {
    "duration": -2975,
    "start_time": "2021-08-28T07:54:16.100Z"
   },
   {
    "duration": -2979,
    "start_time": "2021-08-28T07:54:16.105Z"
   },
   {
    "duration": -2979,
    "start_time": "2021-08-28T07:54:16.106Z"
   },
   {
    "duration": -2980,
    "start_time": "2021-08-28T07:54:16.108Z"
   },
   {
    "duration": -2982,
    "start_time": "2021-08-28T07:54:16.110Z"
   },
   {
    "duration": -2984,
    "start_time": "2021-08-28T07:54:16.113Z"
   },
   {
    "duration": -2989,
    "start_time": "2021-08-28T07:54:16.119Z"
   },
   {
    "duration": -2990,
    "start_time": "2021-08-28T07:54:16.121Z"
   },
   {
    "duration": -2991,
    "start_time": "2021-08-28T07:54:16.123Z"
   },
   {
    "duration": -2992,
    "start_time": "2021-08-28T07:54:16.125Z"
   },
   {
    "duration": 4,
    "start_time": "2021-08-28T07:54:35.809Z"
   },
   {
    "duration": 67,
    "start_time": "2021-08-28T07:54:35.815Z"
   },
   {
    "duration": 2,
    "start_time": "2021-08-28T07:54:35.884Z"
   },
   {
    "duration": 10,
    "start_time": "2021-08-28T07:54:35.887Z"
   },
   {
    "duration": 7,
    "start_time": "2021-08-28T07:54:35.898Z"
   },
   {
    "duration": 14,
    "start_time": "2021-08-28T07:54:35.906Z"
   },
   {
    "duration": 13,
    "start_time": "2021-08-28T07:54:35.922Z"
   },
   {
    "duration": 7,
    "start_time": "2021-08-28T07:54:35.937Z"
   },
   {
    "duration": 17,
    "start_time": "2021-08-28T07:54:35.945Z"
   },
   {
    "duration": 14,
    "start_time": "2021-08-28T07:54:35.964Z"
   },
   {
    "duration": 455,
    "start_time": "2021-08-28T07:54:35.979Z"
   },
   {
    "duration": 8,
    "start_time": "2021-08-28T07:54:36.436Z"
   },
   {
    "duration": 584,
    "start_time": "2021-08-28T07:54:36.446Z"
   },
   {
    "duration": -2926,
    "start_time": "2021-08-28T07:54:39.958Z"
   },
   {
    "duration": -2930,
    "start_time": "2021-08-28T07:54:39.963Z"
   },
   {
    "duration": -2933,
    "start_time": "2021-08-28T07:54:39.967Z"
   },
   {
    "duration": -2936,
    "start_time": "2021-08-28T07:54:39.971Z"
   },
   {
    "duration": -2938,
    "start_time": "2021-08-28T07:54:39.973Z"
   },
   {
    "duration": -2943,
    "start_time": "2021-08-28T07:54:39.979Z"
   },
   {
    "duration": -2945,
    "start_time": "2021-08-28T07:54:39.982Z"
   },
   {
    "duration": -2949,
    "start_time": "2021-08-28T07:54:39.987Z"
   },
   {
    "duration": -2950,
    "start_time": "2021-08-28T07:54:39.989Z"
   },
   {
    "duration": -2951,
    "start_time": "2021-08-28T07:54:39.991Z"
   },
   {
    "duration": -2956,
    "start_time": "2021-08-28T07:54:39.996Z"
   },
   {
    "duration": -2957,
    "start_time": "2021-08-28T07:54:39.998Z"
   },
   {
    "duration": -2958,
    "start_time": "2021-08-28T07:54:40.000Z"
   },
   {
    "duration": -2961,
    "start_time": "2021-08-28T07:54:40.004Z"
   },
   {
    "duration": -2962,
    "start_time": "2021-08-28T07:54:40.006Z"
   },
   {
    "duration": -2963,
    "start_time": "2021-08-28T07:54:40.008Z"
   },
   {
    "duration": -2969,
    "start_time": "2021-08-28T07:54:40.015Z"
   },
   {
    "duration": -2973,
    "start_time": "2021-08-28T07:54:40.020Z"
   },
   {
    "duration": -2974,
    "start_time": "2021-08-28T07:54:40.022Z"
   },
   {
    "duration": -2976,
    "start_time": "2021-08-28T07:54:40.024Z"
   },
   {
    "duration": -2979,
    "start_time": "2021-08-28T07:54:40.029Z"
   },
   {
    "duration": 334,
    "start_time": "2021-08-28T07:54:51.028Z"
   },
   {
    "duration": 4,
    "start_time": "2021-08-28T07:54:55.261Z"
   },
   {
    "duration": 63,
    "start_time": "2021-08-28T07:54:55.267Z"
   },
   {
    "duration": 2,
    "start_time": "2021-08-28T07:54:55.332Z"
   },
   {
    "duration": 6,
    "start_time": "2021-08-28T07:54:55.336Z"
   },
   {
    "duration": 8,
    "start_time": "2021-08-28T07:54:55.344Z"
   },
   {
    "duration": 12,
    "start_time": "2021-08-28T07:54:55.353Z"
   },
   {
    "duration": 5,
    "start_time": "2021-08-28T07:54:55.367Z"
   },
   {
    "duration": 5,
    "start_time": "2021-08-28T07:54:55.374Z"
   },
   {
    "duration": 15,
    "start_time": "2021-08-28T07:54:55.381Z"
   },
   {
    "duration": 15,
    "start_time": "2021-08-28T07:54:55.397Z"
   },
   {
    "duration": 327,
    "start_time": "2021-08-28T07:54:55.413Z"
   },
   {
    "duration": 6,
    "start_time": "2021-08-28T07:54:55.741Z"
   },
   {
    "duration": 597,
    "start_time": "2021-08-28T07:54:55.749Z"
   },
   {
    "duration": -2929,
    "start_time": "2021-08-28T07:54:59.278Z"
   },
   {
    "duration": -2930,
    "start_time": "2021-08-28T07:54:59.281Z"
   },
   {
    "duration": -2931,
    "start_time": "2021-08-28T07:54:59.283Z"
   },
   {
    "duration": -2935,
    "start_time": "2021-08-28T07:54:59.288Z"
   },
   {
    "duration": -2937,
    "start_time": "2021-08-28T07:54:59.291Z"
   },
   {
    "duration": -2942,
    "start_time": "2021-08-28T07:54:59.297Z"
   },
   {
    "duration": -2943,
    "start_time": "2021-08-28T07:54:59.299Z"
   },
   {
    "duration": -2948,
    "start_time": "2021-08-28T07:54:59.305Z"
   },
   {
    "duration": -2948,
    "start_time": "2021-08-28T07:54:59.307Z"
   },
   {
    "duration": -2953,
    "start_time": "2021-08-28T07:54:59.313Z"
   },
   {
    "duration": -2954,
    "start_time": "2021-08-28T07:54:59.315Z"
   },
   {
    "duration": -2961,
    "start_time": "2021-08-28T07:54:59.322Z"
   },
   {
    "duration": -2962,
    "start_time": "2021-08-28T07:54:59.324Z"
   },
   {
    "duration": -2938,
    "start_time": "2021-08-28T07:54:59.329Z"
   },
   {
    "duration": -2940,
    "start_time": "2021-08-28T07:54:59.332Z"
   },
   {
    "duration": -2946,
    "start_time": "2021-08-28T07:54:59.338Z"
   },
   {
    "duration": -2948,
    "start_time": "2021-08-28T07:54:59.341Z"
   },
   {
    "duration": -2953,
    "start_time": "2021-08-28T07:54:59.347Z"
   },
   {
    "duration": -2954,
    "start_time": "2021-08-28T07:54:59.349Z"
   },
   {
    "duration": -2958,
    "start_time": "2021-08-28T07:54:59.354Z"
   },
   {
    "duration": -2959,
    "start_time": "2021-08-28T07:54:59.356Z"
   },
   {
    "duration": 5,
    "start_time": "2021-08-28T07:55:14.717Z"
   },
   {
    "duration": 67,
    "start_time": "2021-08-28T07:55:14.724Z"
   },
   {
    "duration": 2,
    "start_time": "2021-08-28T07:55:14.793Z"
   },
   {
    "duration": 7,
    "start_time": "2021-08-28T07:55:14.796Z"
   },
   {
    "duration": 6,
    "start_time": "2021-08-28T07:55:14.804Z"
   },
   {
    "duration": 8,
    "start_time": "2021-08-28T07:55:14.811Z"
   },
   {
    "duration": 6,
    "start_time": "2021-08-28T07:55:14.821Z"
   },
   {
    "duration": 3,
    "start_time": "2021-08-28T07:55:14.829Z"
   },
   {
    "duration": 16,
    "start_time": "2021-08-28T07:55:14.833Z"
   },
   {
    "duration": 15,
    "start_time": "2021-08-28T07:55:14.850Z"
   },
   {
    "duration": 334,
    "start_time": "2021-08-28T07:55:14.866Z"
   },
   {
    "duration": 6,
    "start_time": "2021-08-28T07:55:15.201Z"
   },
   {
    "duration": 577,
    "start_time": "2021-08-28T07:55:15.208Z"
   },
   {
    "duration": -2911,
    "start_time": "2021-08-28T07:55:18.698Z"
   },
   {
    "duration": -2911,
    "start_time": "2021-08-28T07:55:18.699Z"
   },
   {
    "duration": -2912,
    "start_time": "2021-08-28T07:55:18.700Z"
   },
   {
    "duration": -2917,
    "start_time": "2021-08-28T07:55:18.706Z"
   },
   {
    "duration": -2921,
    "start_time": "2021-08-28T07:55:18.710Z"
   },
   {
    "duration": -2925,
    "start_time": "2021-08-28T07:55:18.715Z"
   },
   {
    "duration": -2927,
    "start_time": "2021-08-28T07:55:18.717Z"
   },
   {
    "duration": -2927,
    "start_time": "2021-08-28T07:55:18.718Z"
   },
   {
    "duration": -2931,
    "start_time": "2021-08-28T07:55:18.723Z"
   },
   {
    "duration": -2932,
    "start_time": "2021-08-28T07:55:18.725Z"
   },
   {
    "duration": -2932,
    "start_time": "2021-08-28T07:55:18.726Z"
   },
   {
    "duration": -2936,
    "start_time": "2021-08-28T07:55:18.731Z"
   },
   {
    "duration": -2937,
    "start_time": "2021-08-28T07:55:18.733Z"
   },
   {
    "duration": -2938,
    "start_time": "2021-08-28T07:55:18.734Z"
   },
   {
    "duration": -2939,
    "start_time": "2021-08-28T07:55:18.736Z"
   },
   {
    "duration": -2942,
    "start_time": "2021-08-28T07:55:18.740Z"
   },
   {
    "duration": -2943,
    "start_time": "2021-08-28T07:55:18.742Z"
   },
   {
    "duration": -2944,
    "start_time": "2021-08-28T07:55:18.743Z"
   },
   {
    "duration": -2949,
    "start_time": "2021-08-28T07:55:18.749Z"
   },
   {
    "duration": -2949,
    "start_time": "2021-08-28T07:55:18.750Z"
   },
   {
    "duration": -2950,
    "start_time": "2021-08-28T07:55:18.752Z"
   },
   {
    "duration": 327,
    "start_time": "2021-08-28T07:55:23.336Z"
   },
   {
    "duration": 322,
    "start_time": "2021-08-28T07:55:32.781Z"
   },
   {
    "duration": 521,
    "start_time": "2021-08-28T07:55:41.585Z"
   },
   {
    "duration": 6,
    "start_time": "2021-08-28T07:55:45.624Z"
   },
   {
    "duration": 63,
    "start_time": "2021-08-28T07:55:45.632Z"
   },
   {
    "duration": 2,
    "start_time": "2021-08-28T07:55:45.698Z"
   },
   {
    "duration": 5,
    "start_time": "2021-08-28T07:55:45.702Z"
   },
   {
    "duration": 5,
    "start_time": "2021-08-28T07:55:45.708Z"
   },
   {
    "duration": 10,
    "start_time": "2021-08-28T07:55:45.714Z"
   },
   {
    "duration": 6,
    "start_time": "2021-08-28T07:55:45.725Z"
   },
   {
    "duration": 5,
    "start_time": "2021-08-28T07:55:45.734Z"
   },
   {
    "duration": 18,
    "start_time": "2021-08-28T07:55:45.741Z"
   },
   {
    "duration": 36,
    "start_time": "2021-08-28T07:55:45.761Z"
   },
   {
    "duration": 323,
    "start_time": "2021-08-28T07:55:45.799Z"
   },
   {
    "duration": 7,
    "start_time": "2021-08-28T07:55:46.123Z"
   },
   {
    "duration": 589,
    "start_time": "2021-08-28T07:55:46.132Z"
   },
   {
    "duration": -2920,
    "start_time": "2021-08-28T07:55:49.644Z"
   },
   {
    "duration": -2922,
    "start_time": "2021-08-28T07:55:49.648Z"
   },
   {
    "duration": -2923,
    "start_time": "2021-08-28T07:55:49.650Z"
   },
   {
    "duration": -2923,
    "start_time": "2021-08-28T07:55:49.651Z"
   },
   {
    "duration": -2927,
    "start_time": "2021-08-28T07:55:49.656Z"
   },
   {
    "duration": -2928,
    "start_time": "2021-08-28T07:55:49.658Z"
   },
   {
    "duration": -2930,
    "start_time": "2021-08-28T07:55:49.661Z"
   },
   {
    "duration": -2935,
    "start_time": "2021-08-28T07:55:49.666Z"
   },
   {
    "duration": -2935,
    "start_time": "2021-08-28T07:55:49.668Z"
   },
   {
    "duration": -2939,
    "start_time": "2021-08-28T07:55:49.672Z"
   },
   {
    "duration": -2940,
    "start_time": "2021-08-28T07:55:49.674Z"
   },
   {
    "duration": -2940,
    "start_time": "2021-08-28T07:55:49.675Z"
   },
   {
    "duration": -2941,
    "start_time": "2021-08-28T07:55:49.677Z"
   },
   {
    "duration": -2944,
    "start_time": "2021-08-28T07:55:49.681Z"
   },
   {
    "duration": -2945,
    "start_time": "2021-08-28T07:55:49.683Z"
   },
   {
    "duration": -2945,
    "start_time": "2021-08-28T07:55:49.684Z"
   },
   {
    "duration": -2946,
    "start_time": "2021-08-28T07:55:49.686Z"
   },
   {
    "duration": -2949,
    "start_time": "2021-08-28T07:55:49.690Z"
   },
   {
    "duration": -2950,
    "start_time": "2021-08-28T07:55:49.692Z"
   },
   {
    "duration": -2951,
    "start_time": "2021-08-28T07:55:49.694Z"
   },
   {
    "duration": -2955,
    "start_time": "2021-08-28T07:55:49.698Z"
   },
   {
    "duration": 4,
    "start_time": "2021-08-28T07:56:03.805Z"
   },
   {
    "duration": 64,
    "start_time": "2021-08-28T07:56:03.813Z"
   },
   {
    "duration": 3,
    "start_time": "2021-08-28T07:56:03.878Z"
   },
   {
    "duration": 4,
    "start_time": "2021-08-28T07:56:03.883Z"
   },
   {
    "duration": 6,
    "start_time": "2021-08-28T07:56:03.889Z"
   },
   {
    "duration": 7,
    "start_time": "2021-08-28T07:56:03.897Z"
   },
   {
    "duration": 5,
    "start_time": "2021-08-28T07:56:03.906Z"
   },
   {
    "duration": 5,
    "start_time": "2021-08-28T07:56:03.912Z"
   },
   {
    "duration": 17,
    "start_time": "2021-08-28T07:56:03.919Z"
   },
   {
    "duration": 15,
    "start_time": "2021-08-28T07:56:03.938Z"
   },
   {
    "duration": 323,
    "start_time": "2021-08-28T07:56:03.955Z"
   },
   {
    "duration": 11,
    "start_time": "2021-08-28T07:56:04.280Z"
   },
   {
    "duration": 580,
    "start_time": "2021-08-28T07:56:04.293Z"
   },
   {
    "duration": -2903,
    "start_time": "2021-08-28T07:56:07.778Z"
   },
   {
    "duration": -2904,
    "start_time": "2021-08-28T07:56:07.780Z"
   },
   {
    "duration": -2904,
    "start_time": "2021-08-28T07:56:07.781Z"
   },
   {
    "duration": -2905,
    "start_time": "2021-08-28T07:56:07.783Z"
   },
   {
    "duration": -2905,
    "start_time": "2021-08-28T07:56:07.784Z"
   },
   {
    "duration": -2895,
    "start_time": "2021-08-28T07:56:07.786Z"
   },
   {
    "duration": -2895,
    "start_time": "2021-08-28T07:56:07.787Z"
   },
   {
    "duration": -2896,
    "start_time": "2021-08-28T07:56:07.789Z"
   },
   {
    "duration": -2897,
    "start_time": "2021-08-28T07:56:07.790Z"
   },
   {
    "duration": -2898,
    "start_time": "2021-08-28T07:56:07.792Z"
   },
   {
    "duration": -2899,
    "start_time": "2021-08-28T07:56:07.794Z"
   },
   {
    "duration": -2903,
    "start_time": "2021-08-28T07:56:07.799Z"
   },
   {
    "duration": -2904,
    "start_time": "2021-08-28T07:56:07.801Z"
   },
   {
    "duration": -2904,
    "start_time": "2021-08-28T07:56:07.802Z"
   },
   {
    "duration": -2905,
    "start_time": "2021-08-28T07:56:07.804Z"
   },
   {
    "duration": -2905,
    "start_time": "2021-08-28T07:56:07.805Z"
   },
   {
    "duration": -2906,
    "start_time": "2021-08-28T07:56:07.807Z"
   },
   {
    "duration": -2908,
    "start_time": "2021-08-28T07:56:07.809Z"
   },
   {
    "duration": -2908,
    "start_time": "2021-08-28T07:56:07.810Z"
   },
   {
    "duration": -2910,
    "start_time": "2021-08-28T07:56:07.813Z"
   },
   {
    "duration": -2910,
    "start_time": "2021-08-28T07:56:07.814Z"
   },
   {
    "duration": 352,
    "start_time": "2021-08-28T07:56:25.018Z"
   },
   {
    "duration": 5,
    "start_time": "2021-08-28T07:56:31.125Z"
   },
   {
    "duration": 75,
    "start_time": "2021-08-28T07:56:31.131Z"
   },
   {
    "duration": 2,
    "start_time": "2021-08-28T07:56:31.209Z"
   },
   {
    "duration": 13,
    "start_time": "2021-08-28T07:56:31.213Z"
   },
   {
    "duration": 9,
    "start_time": "2021-08-28T07:56:31.228Z"
   },
   {
    "duration": 18,
    "start_time": "2021-08-28T07:56:31.239Z"
   },
   {
    "duration": 14,
    "start_time": "2021-08-28T07:56:31.260Z"
   },
   {
    "duration": 4,
    "start_time": "2021-08-28T07:56:31.277Z"
   },
   {
    "duration": 20,
    "start_time": "2021-08-28T07:56:31.282Z"
   },
   {
    "duration": 22,
    "start_time": "2021-08-28T07:56:31.305Z"
   },
   {
    "duration": 342,
    "start_time": "2021-08-28T07:56:31.328Z"
   },
   {
    "duration": 6,
    "start_time": "2021-08-28T07:56:31.672Z"
   },
   {
    "duration": 368,
    "start_time": "2021-08-28T07:56:31.680Z"
   },
   {
    "duration": 361,
    "start_time": "2021-08-28T07:56:32.050Z"
   },
   {
    "duration": 439,
    "start_time": "2021-08-28T07:56:32.413Z"
   },
   {
    "duration": 369,
    "start_time": "2021-08-28T07:56:32.854Z"
   },
   {
    "duration": 425,
    "start_time": "2021-08-28T07:56:33.224Z"
   },
   {
    "duration": 100,
    "start_time": "2021-08-28T07:56:33.651Z"
   },
   {
    "duration": 2,
    "start_time": "2021-08-28T07:56:33.754Z"
   },
   {
    "duration": 27,
    "start_time": "2021-08-28T07:56:33.758Z"
   },
   {
    "duration": 437,
    "start_time": "2021-08-28T07:56:33.786Z"
   },
   {
    "duration": 5,
    "start_time": "2021-08-28T07:56:34.224Z"
   },
   {
    "duration": 25,
    "start_time": "2021-08-28T07:56:34.230Z"
   },
   {
    "duration": 455,
    "start_time": "2021-08-28T07:56:34.257Z"
   },
   {
    "duration": 534,
    "start_time": "2021-08-28T07:56:34.714Z"
   },
   {
    "duration": 5,
    "start_time": "2021-08-28T07:56:35.249Z"
   },
   {
    "duration": 12,
    "start_time": "2021-08-28T07:56:35.255Z"
   },
   {
    "duration": 124,
    "start_time": "2021-08-28T07:56:35.269Z"
   },
   {
    "duration": 57,
    "start_time": "2021-08-28T07:56:35.395Z"
   },
   {
    "duration": 11,
    "start_time": "2021-08-28T07:56:35.454Z"
   },
   {
    "duration": 32,
    "start_time": "2021-08-28T07:56:35.467Z"
   },
   {
    "duration": 29,
    "start_time": "2021-08-28T07:56:35.501Z"
   },
   {
    "duration": 56,
    "start_time": "2021-08-28T07:56:35.531Z"
   },
   {
    "duration": 14,
    "start_time": "2021-08-28T07:56:35.592Z"
   },
   {
    "duration": 4,
    "start_time": "2021-08-28T07:57:06.711Z"
   },
   {
    "duration": 63,
    "start_time": "2021-08-28T07:57:06.717Z"
   },
   {
    "duration": 2,
    "start_time": "2021-08-28T07:57:06.782Z"
   },
   {
    "duration": 6,
    "start_time": "2021-08-28T07:57:06.785Z"
   },
   {
    "duration": 6,
    "start_time": "2021-08-28T07:57:06.793Z"
   },
   {
    "duration": 10,
    "start_time": "2021-08-28T07:57:06.801Z"
   },
   {
    "duration": 6,
    "start_time": "2021-08-28T07:57:06.812Z"
   },
   {
    "duration": 8,
    "start_time": "2021-08-28T07:57:06.820Z"
   },
   {
    "duration": 14,
    "start_time": "2021-08-28T07:57:06.830Z"
   },
   {
    "duration": 14,
    "start_time": "2021-08-28T07:57:06.846Z"
   },
   {
    "duration": 347,
    "start_time": "2021-08-28T07:57:06.861Z"
   },
   {
    "duration": 7,
    "start_time": "2021-08-28T07:57:07.209Z"
   },
   {
    "duration": 334,
    "start_time": "2021-08-28T07:57:07.218Z"
   },
   {
    "duration": 330,
    "start_time": "2021-08-28T07:57:07.554Z"
   },
   {
    "duration": 558,
    "start_time": "2021-08-28T07:57:07.885Z"
   },
   {
    "duration": 377,
    "start_time": "2021-08-28T07:57:08.444Z"
   },
   {
    "duration": 435,
    "start_time": "2021-08-28T07:57:08.823Z"
   },
   {
    "duration": 104,
    "start_time": "2021-08-28T07:57:09.259Z"
   },
   {
    "duration": 2,
    "start_time": "2021-08-28T07:57:09.365Z"
   },
   {
    "duration": 23,
    "start_time": "2021-08-28T07:57:09.368Z"
   },
   {
    "duration": 435,
    "start_time": "2021-08-28T07:57:09.393Z"
   },
   {
    "duration": 4,
    "start_time": "2021-08-28T07:57:09.830Z"
   },
   {
    "duration": 25,
    "start_time": "2021-08-28T07:57:09.835Z"
   },
   {
    "duration": 458,
    "start_time": "2021-08-28T07:57:09.862Z"
   },
   {
    "duration": 429,
    "start_time": "2021-08-28T07:57:10.321Z"
   },
   {
    "duration": 5,
    "start_time": "2021-08-28T07:57:10.752Z"
   },
   {
    "duration": 3,
    "start_time": "2021-08-28T07:57:10.760Z"
   },
   {
    "duration": 127,
    "start_time": "2021-08-28T07:57:10.764Z"
   },
   {
    "duration": 52,
    "start_time": "2021-08-28T07:57:10.893Z"
   },
   {
    "duration": 10,
    "start_time": "2021-08-28T07:57:10.947Z"
   },
   {
    "duration": 9,
    "start_time": "2021-08-28T07:57:10.958Z"
   },
   {
    "duration": 13,
    "start_time": "2021-08-28T07:57:10.992Z"
   },
   {
    "duration": 54,
    "start_time": "2021-08-28T07:57:11.007Z"
   },
   {
    "duration": 29,
    "start_time": "2021-08-28T07:57:11.063Z"
   },
   {
    "duration": 1450,
    "start_time": "2021-08-28T10:54:40.481Z"
   },
   {
    "duration": 96,
    "start_time": "2021-08-28T10:54:41.933Z"
   },
   {
    "duration": 3,
    "start_time": "2021-08-28T10:54:42.032Z"
   },
   {
    "duration": 7,
    "start_time": "2021-08-28T10:54:42.037Z"
   },
   {
    "duration": 6,
    "start_time": "2021-08-28T10:54:42.046Z"
   },
   {
    "duration": 15,
    "start_time": "2021-08-28T10:54:42.054Z"
   },
   {
    "duration": 10,
    "start_time": "2021-08-28T10:54:42.072Z"
   },
   {
    "duration": 4,
    "start_time": "2021-08-28T10:54:42.087Z"
   },
   {
    "duration": 28,
    "start_time": "2021-08-28T10:54:42.095Z"
   },
   {
    "duration": 56,
    "start_time": "2021-08-28T10:54:42.126Z"
   },
   {
    "duration": 574,
    "start_time": "2021-08-28T10:54:42.184Z"
   },
   {
    "duration": 11,
    "start_time": "2021-08-28T10:54:42.762Z"
   },
   {
    "duration": 900,
    "start_time": "2021-08-28T10:54:42.776Z"
   },
   {
    "duration": 851,
    "start_time": "2021-08-28T10:54:43.679Z"
   },
   {
    "duration": 737,
    "start_time": "2021-08-28T10:54:44.533Z"
   },
   {
    "duration": 647,
    "start_time": "2021-08-28T10:54:45.272Z"
   },
   {
    "duration": 988,
    "start_time": "2021-08-28T10:54:45.922Z"
   },
   {
    "duration": 316,
    "start_time": "2021-08-28T10:54:46.913Z"
   },
   {
    "duration": 3,
    "start_time": "2021-08-28T10:54:47.232Z"
   },
   {
    "duration": 9,
    "start_time": "2021-08-28T10:54:47.238Z"
   },
   {
    "duration": 697,
    "start_time": "2021-08-28T10:54:47.265Z"
   },
   {
    "duration": 16,
    "start_time": "2021-08-28T10:54:47.965Z"
   },
   {
    "duration": 4,
    "start_time": "2021-08-28T10:54:47.986Z"
   },
   {
    "duration": 715,
    "start_time": "2021-08-28T10:54:47.993Z"
   },
   {
    "duration": 924,
    "start_time": "2021-08-28T10:54:48.711Z"
   },
   {
    "duration": 7,
    "start_time": "2021-08-28T10:54:49.638Z"
   },
   {
    "duration": 4,
    "start_time": "2021-08-28T10:54:49.662Z"
   },
   {
    "duration": 352,
    "start_time": "2021-08-28T10:54:49.668Z"
   },
   {
    "duration": 116,
    "start_time": "2021-08-28T10:54:50.023Z"
   },
   {
    "duration": 26,
    "start_time": "2021-08-28T10:54:50.141Z"
   },
   {
    "duration": 19,
    "start_time": "2021-08-28T10:54:50.170Z"
   },
   {
    "duration": 21,
    "start_time": "2021-08-28T10:54:50.192Z"
   },
   {
    "duration": 109,
    "start_time": "2021-08-28T10:54:50.216Z"
   },
   {
    "duration": 36,
    "start_time": "2021-08-28T10:54:50.328Z"
   },
   {
    "duration": 13,
    "start_time": "2021-08-28T11:00:32.700Z"
   },
   {
    "duration": 579,
    "start_time": "2021-08-28T11:49:54.771Z"
   },
   {
    "duration": 3,
    "start_time": "2021-08-28T11:50:01.302Z"
   },
   {
    "duration": 5,
    "start_time": "2021-08-28T11:50:06.846Z"
   },
   {
    "duration": 78,
    "start_time": "2021-08-28T11:50:22.931Z"
   },
   {
    "duration": 71,
    "start_time": "2021-08-28T11:50:31.617Z"
   },
   {
    "duration": 7,
    "start_time": "2021-08-28T11:50:37.100Z"
   },
   {
    "duration": 8,
    "start_time": "2021-08-28T11:50:41.445Z"
   },
   {
    "duration": 21,
    "start_time": "2021-08-28T11:52:22.791Z"
   },
   {
    "duration": 11,
    "start_time": "2021-08-28T14:18:06.553Z"
   },
   {
    "duration": 5,
    "start_time": "2021-08-28T14:18:22.693Z"
   },
   {
    "duration": 62,
    "start_time": "2021-08-28T14:18:22.702Z"
   },
   {
    "duration": 7,
    "start_time": "2021-08-28T14:18:22.766Z"
   },
   {
    "duration": 5,
    "start_time": "2021-08-28T14:18:22.775Z"
   },
   {
    "duration": 5,
    "start_time": "2021-08-28T14:18:22.782Z"
   },
   {
    "duration": 9,
    "start_time": "2021-08-28T14:18:22.788Z"
   },
   {
    "duration": 5,
    "start_time": "2021-08-28T14:18:22.798Z"
   },
   {
    "duration": 5,
    "start_time": "2021-08-28T14:18:22.804Z"
   },
   {
    "duration": 6368,
    "start_time": "2021-08-28T14:18:22.811Z"
   },
   {
    "duration": -80,
    "start_time": "2021-08-28T14:18:29.262Z"
   },
   {
    "duration": -81,
    "start_time": "2021-08-28T14:18:29.264Z"
   },
   {
    "duration": -82,
    "start_time": "2021-08-28T14:18:29.266Z"
   },
   {
    "duration": -82,
    "start_time": "2021-08-28T14:18:29.267Z"
   },
   {
    "duration": -95,
    "start_time": "2021-08-28T14:18:29.280Z"
   },
   {
    "duration": -99,
    "start_time": "2021-08-28T14:18:29.285Z"
   },
   {
    "duration": -101,
    "start_time": "2021-08-28T14:18:29.288Z"
   },
   {
    "duration": -102,
    "start_time": "2021-08-28T14:18:29.290Z"
   },
   {
    "duration": -104,
    "start_time": "2021-08-28T14:18:29.293Z"
   },
   {
    "duration": -104,
    "start_time": "2021-08-28T14:18:29.294Z"
   },
   {
    "duration": -105,
    "start_time": "2021-08-28T14:18:29.296Z"
   },
   {
    "duration": -106,
    "start_time": "2021-08-28T14:18:29.298Z"
   },
   {
    "duration": -110,
    "start_time": "2021-08-28T14:18:29.303Z"
   },
   {
    "duration": -111,
    "start_time": "2021-08-28T14:18:29.305Z"
   },
   {
    "duration": -116,
    "start_time": "2021-08-28T14:18:29.310Z"
   },
   {
    "duration": -118,
    "start_time": "2021-08-28T14:18:29.313Z"
   },
   {
    "duration": -119,
    "start_time": "2021-08-28T14:18:29.315Z"
   },
   {
    "duration": -120,
    "start_time": "2021-08-28T14:18:29.317Z"
   },
   {
    "duration": -131,
    "start_time": "2021-08-28T14:18:29.329Z"
   },
   {
    "duration": -132,
    "start_time": "2021-08-28T14:18:29.331Z"
   },
   {
    "duration": -134,
    "start_time": "2021-08-28T14:18:29.334Z"
   },
   {
    "duration": -135,
    "start_time": "2021-08-28T14:18:29.336Z"
   },
   {
    "duration": -136,
    "start_time": "2021-08-28T14:18:29.338Z"
   },
   {
    "duration": -137,
    "start_time": "2021-08-28T14:18:29.340Z"
   },
   {
    "duration": -138,
    "start_time": "2021-08-28T14:18:29.342Z"
   },
   {
    "duration": 5,
    "start_time": "2021-08-28T14:19:42.449Z"
   },
   {
    "duration": 3,
    "start_time": "2021-08-28T14:20:54.869Z"
   },
   {
    "duration": 268,
    "start_time": "2021-08-28T14:44:43.837Z"
   },
   {
    "duration": 5,
    "start_time": "2021-08-28T14:44:48.921Z"
   },
   {
    "duration": 67,
    "start_time": "2021-08-28T14:44:48.927Z"
   },
   {
    "duration": 7,
    "start_time": "2021-08-28T14:44:48.996Z"
   },
   {
    "duration": 6,
    "start_time": "2021-08-28T14:44:49.004Z"
   },
   {
    "duration": 7,
    "start_time": "2021-08-28T14:44:49.011Z"
   },
   {
    "duration": 247,
    "start_time": "2021-08-28T14:44:49.020Z"
   },
   {
    "duration": 1,
    "start_time": "2021-08-28T14:44:49.269Z"
   },
   {
    "duration": 0,
    "start_time": "2021-08-28T14:44:49.271Z"
   },
   {
    "duration": -1,
    "start_time": "2021-08-28T14:44:49.273Z"
   },
   {
    "duration": -2,
    "start_time": "2021-08-28T14:44:49.275Z"
   },
   {
    "duration": -3,
    "start_time": "2021-08-28T14:44:49.277Z"
   },
   {
    "duration": -11,
    "start_time": "2021-08-28T14:44:49.286Z"
   },
   {
    "duration": -12,
    "start_time": "2021-08-28T14:44:49.288Z"
   },
   {
    "duration": -15,
    "start_time": "2021-08-28T14:44:49.292Z"
   },
   {
    "duration": -18,
    "start_time": "2021-08-28T14:44:49.295Z"
   },
   {
    "duration": -28,
    "start_time": "2021-08-28T14:44:49.306Z"
   },
   {
    "duration": -32,
    "start_time": "2021-08-28T14:44:49.311Z"
   },
   {
    "duration": -33,
    "start_time": "2021-08-28T14:44:49.314Z"
   },
   {
    "duration": -34,
    "start_time": "2021-08-28T14:44:49.316Z"
   },
   {
    "duration": -35,
    "start_time": "2021-08-28T14:44:49.318Z"
   },
   {
    "duration": -37,
    "start_time": "2021-08-28T14:44:49.321Z"
   },
   {
    "duration": -44,
    "start_time": "2021-08-28T14:44:49.330Z"
   },
   {
    "duration": -49,
    "start_time": "2021-08-28T14:44:49.335Z"
   },
   {
    "duration": -50,
    "start_time": "2021-08-28T14:44:49.337Z"
   },
   {
    "duration": -51,
    "start_time": "2021-08-28T14:44:49.339Z"
   },
   {
    "duration": -52,
    "start_time": "2021-08-28T14:44:49.341Z"
   },
   {
    "duration": -54,
    "start_time": "2021-08-28T14:44:49.344Z"
   },
   {
    "duration": -55,
    "start_time": "2021-08-28T14:44:49.346Z"
   },
   {
    "duration": -63,
    "start_time": "2021-08-28T14:44:49.355Z"
   },
   {
    "duration": -64,
    "start_time": "2021-08-28T14:44:49.357Z"
   },
   {
    "duration": -65,
    "start_time": "2021-08-28T14:44:49.359Z"
   },
   {
    "duration": -69,
    "start_time": "2021-08-28T14:44:49.364Z"
   },
   {
    "duration": -70,
    "start_time": "2021-08-28T14:44:49.366Z"
   },
   {
    "duration": -71,
    "start_time": "2021-08-28T14:44:49.368Z"
   },
   {
    "duration": -71,
    "start_time": "2021-08-28T14:44:49.369Z"
   },
   {
    "duration": -73,
    "start_time": "2021-08-28T14:44:49.371Z"
   },
   {
    "duration": 7,
    "start_time": "2021-08-28T14:45:06.909Z"
   },
   {
    "duration": 6,
    "start_time": "2021-08-28T14:45:15.601Z"
   },
   {
    "duration": 88,
    "start_time": "2021-08-28T14:46:38.217Z"
   },
   {
    "duration": 11,
    "start_time": "2021-08-28T15:14:42.434Z"
   },
   {
    "duration": 3,
    "start_time": "2021-08-28T15:16:28.202Z"
   },
   {
    "duration": 9,
    "start_time": "2021-08-28T15:16:30.834Z"
   },
   {
    "duration": 93,
    "start_time": "2021-08-28T15:18:04.618Z"
   },
   {
    "duration": 9,
    "start_time": "2021-08-28T15:24:58.386Z"
   },
   {
    "duration": 4,
    "start_time": "2021-08-28T15:25:23.158Z"
   },
   {
    "duration": 6,
    "start_time": "2021-08-28T15:25:23.163Z"
   },
   {
    "duration": 62,
    "start_time": "2021-08-28T15:25:23.171Z"
   },
   {
    "duration": 7,
    "start_time": "2021-08-28T15:25:23.235Z"
   },
   {
    "duration": 5,
    "start_time": "2021-08-28T15:25:23.243Z"
   },
   {
    "duration": 6,
    "start_time": "2021-08-28T15:25:23.249Z"
   },
   {
    "duration": 4,
    "start_time": "2021-08-28T15:25:23.257Z"
   },
   {
    "duration": 9,
    "start_time": "2021-08-28T15:25:23.263Z"
   },
   {
    "duration": 4,
    "start_time": "2021-08-28T15:25:23.274Z"
   },
   {
    "duration": 8,
    "start_time": "2021-08-28T15:25:23.279Z"
   },
   {
    "duration": 14,
    "start_time": "2021-08-28T15:25:23.288Z"
   },
   {
    "duration": 15,
    "start_time": "2021-08-28T15:25:23.303Z"
   },
   {
    "duration": 19,
    "start_time": "2021-08-28T15:25:23.319Z"
   },
   {
    "duration": 322,
    "start_time": "2021-08-28T15:25:23.339Z"
   },
   {
    "duration": 7,
    "start_time": "2021-08-28T15:25:23.663Z"
   },
   {
    "duration": 342,
    "start_time": "2021-08-28T15:25:23.671Z"
   },
   {
    "duration": 328,
    "start_time": "2021-08-28T15:25:24.015Z"
   },
   {
    "duration": 541,
    "start_time": "2021-08-28T15:25:24.346Z"
   },
   {
    "duration": 365,
    "start_time": "2021-08-28T15:25:24.889Z"
   },
   {
    "duration": 457,
    "start_time": "2021-08-28T15:25:25.255Z"
   },
   {
    "duration": 115,
    "start_time": "2021-08-28T15:25:25.714Z"
   },
   {
    "duration": 3,
    "start_time": "2021-08-28T15:25:25.830Z"
   },
   {
    "duration": 5,
    "start_time": "2021-08-28T15:25:25.835Z"
   },
   {
    "duration": 431,
    "start_time": "2021-08-28T15:25:25.842Z"
   },
   {
    "duration": 5,
    "start_time": "2021-08-28T15:25:26.275Z"
   },
   {
    "duration": 11,
    "start_time": "2021-08-28T15:25:26.282Z"
   },
   {
    "duration": 460,
    "start_time": "2021-08-28T15:25:26.295Z"
   },
   {
    "duration": 455,
    "start_time": "2021-08-28T15:25:26.757Z"
   },
   {
    "duration": 6,
    "start_time": "2021-08-28T15:25:27.214Z"
   },
   {
    "duration": 4,
    "start_time": "2021-08-28T15:25:27.222Z"
   },
   {
    "duration": 129,
    "start_time": "2021-08-28T15:25:27.227Z"
   },
   {
    "duration": 64,
    "start_time": "2021-08-28T15:25:27.357Z"
   },
   {
    "duration": 11,
    "start_time": "2021-08-28T15:25:27.423Z"
   },
   {
    "duration": 9,
    "start_time": "2021-08-28T15:25:27.436Z"
   },
   {
    "duration": 17,
    "start_time": "2021-08-28T15:25:27.447Z"
   },
   {
    "duration": 77,
    "start_time": "2021-08-28T15:25:27.465Z"
   },
   {
    "duration": 14,
    "start_time": "2021-08-28T15:25:27.544Z"
   },
   {
    "duration": 12,
    "start_time": "2021-08-28T15:27:07.378Z"
   },
   {
    "duration": 255,
    "start_time": "2021-08-28T15:33:01.418Z"
   },
   {
    "duration": 9,
    "start_time": "2021-08-28T15:33:14.866Z"
   },
   {
    "duration": 8,
    "start_time": "2021-08-28T15:33:22.798Z"
   },
   {
    "duration": 15,
    "start_time": "2021-08-28T15:39:27.677Z"
   },
   {
    "duration": 8,
    "start_time": "2021-08-28T15:41:35.026Z"
   },
   {
    "duration": 87,
    "start_time": "2021-08-28T15:48:18.742Z"
   },
   {
    "duration": 96,
    "start_time": "2021-08-28T15:49:37.541Z"
   },
   {
    "duration": 317,
    "start_time": "2021-08-28T15:50:05.414Z"
   },
   {
    "duration": 320,
    "start_time": "2021-08-28T15:50:57.102Z"
   },
   {
    "duration": 323,
    "start_time": "2021-08-28T15:51:23.468Z"
   },
   {
    "duration": 319,
    "start_time": "2021-08-28T15:51:52.672Z"
   },
   {
    "duration": 83,
    "start_time": "2021-08-28T15:52:40.016Z"
   },
   {
    "duration": 4,
    "start_time": "2021-08-28T15:52:52.396Z"
   },
   {
    "duration": 6,
    "start_time": "2021-08-28T15:52:52.402Z"
   },
   {
    "duration": 63,
    "start_time": "2021-08-28T15:52:52.409Z"
   },
   {
    "duration": 7,
    "start_time": "2021-08-28T15:52:52.473Z"
   },
   {
    "duration": 6,
    "start_time": "2021-08-28T15:52:52.482Z"
   },
   {
    "duration": 6,
    "start_time": "2021-08-28T15:52:52.489Z"
   },
   {
    "duration": 4,
    "start_time": "2021-08-28T15:52:52.497Z"
   },
   {
    "duration": 11,
    "start_time": "2021-08-28T15:52:52.503Z"
   },
   {
    "duration": 5,
    "start_time": "2021-08-28T15:52:52.516Z"
   },
   {
    "duration": 12,
    "start_time": "2021-08-28T15:52:52.523Z"
   },
   {
    "duration": 11,
    "start_time": "2021-08-28T15:52:52.537Z"
   },
   {
    "duration": 15,
    "start_time": "2021-08-28T15:52:52.550Z"
   },
   {
    "duration": 340,
    "start_time": "2021-08-28T15:52:52.567Z"
   },
   {
    "duration": 6,
    "start_time": "2021-08-28T15:52:52.910Z"
   },
   {
    "duration": 376,
    "start_time": "2021-08-28T15:52:52.918Z"
   },
   {
    "duration": 333,
    "start_time": "2021-08-28T15:52:53.296Z"
   },
   {
    "duration": 441,
    "start_time": "2021-08-28T15:52:53.631Z"
   },
   {
    "duration": 360,
    "start_time": "2021-08-28T15:52:54.073Z"
   },
   {
    "duration": 433,
    "start_time": "2021-08-28T15:52:54.435Z"
   },
   {
    "duration": 94,
    "start_time": "2021-08-28T15:52:54.869Z"
   },
   {
    "duration": 2,
    "start_time": "2021-08-28T15:52:54.965Z"
   },
   {
    "duration": 11,
    "start_time": "2021-08-28T15:52:54.969Z"
   },
   {
    "duration": 554,
    "start_time": "2021-08-28T15:52:54.981Z"
   },
   {
    "duration": 5,
    "start_time": "2021-08-28T15:52:55.536Z"
   },
   {
    "duration": 5,
    "start_time": "2021-08-28T15:52:55.542Z"
   },
   {
    "duration": 435,
    "start_time": "2021-08-28T15:52:55.549Z"
   },
   {
    "duration": 480,
    "start_time": "2021-08-28T15:52:55.986Z"
   },
   {
    "duration": 4,
    "start_time": "2021-08-28T15:52:56.468Z"
   },
   {
    "duration": 4,
    "start_time": "2021-08-28T15:52:56.474Z"
   },
   {
    "duration": 151,
    "start_time": "2021-08-28T15:52:56.479Z"
   },
   {
    "duration": 63,
    "start_time": "2021-08-28T15:52:56.631Z"
   },
   {
    "duration": 10,
    "start_time": "2021-08-28T15:52:56.695Z"
   },
   {
    "duration": 8,
    "start_time": "2021-08-28T15:52:56.708Z"
   },
   {
    "duration": 16,
    "start_time": "2021-08-28T15:52:56.718Z"
   },
   {
    "duration": 77,
    "start_time": "2021-08-28T15:52:56.735Z"
   },
   {
    "duration": 12,
    "start_time": "2021-08-28T15:52:56.814Z"
   },
   {
    "duration": 340,
    "start_time": "2021-08-28T15:59:08.198Z"
   },
   {
    "duration": 354,
    "start_time": "2021-08-28T16:01:02.270Z"
   },
   {
    "duration": 470,
    "start_time": "2021-08-28T16:01:41.802Z"
   },
   {
    "duration": 352,
    "start_time": "2021-08-28T16:02:10.006Z"
   },
   {
    "duration": 357,
    "start_time": "2021-08-28T16:02:17.174Z"
   },
   {
    "duration": 374,
    "start_time": "2021-08-28T16:04:20.202Z"
   },
   {
    "duration": 500,
    "start_time": "2021-08-28T16:07:28.090Z"
   },
   {
    "duration": 481,
    "start_time": "2021-08-28T16:10:41.002Z"
   },
   {
    "duration": 432,
    "start_time": "2021-08-28T16:12:10.722Z"
   },
   {
    "duration": 577,
    "start_time": "2021-08-28T16:12:36.473Z"
   },
   {
    "duration": 4,
    "start_time": "2021-08-28T16:16:20.514Z"
   },
   {
    "duration": 5,
    "start_time": "2021-08-28T16:16:24.403Z"
   },
   {
    "duration": 5,
    "start_time": "2021-08-28T16:16:34.730Z"
   },
   {
    "duration": 5,
    "start_time": "2021-08-28T16:16:37.818Z"
   },
   {
    "duration": 4,
    "start_time": "2021-08-28T16:17:05.370Z"
   },
   {
    "duration": 2,
    "start_time": "2021-08-28T16:17:13.446Z"
   },
   {
    "duration": 86,
    "start_time": "2021-08-28T16:17:51.042Z"
   },
   {
    "duration": 55,
    "start_time": "2021-08-28T16:31:35.802Z"
   },
   {
    "duration": 53,
    "start_time": "2021-08-28T16:32:13.222Z"
   },
   {
    "duration": 52,
    "start_time": "2021-08-28T16:32:19.794Z"
   },
   {
    "duration": 10,
    "start_time": "2021-08-28T16:33:44.742Z"
   },
   {
    "duration": 57,
    "start_time": "2021-08-28T16:34:20.810Z"
   },
   {
    "duration": 15,
    "start_time": "2021-08-28T16:34:45.426Z"
   },
   {
    "duration": 4,
    "start_time": "2021-08-28T19:22:20.594Z"
   },
   {
    "duration": 14,
    "start_time": "2021-08-28T19:22:20.601Z"
   },
   {
    "duration": 69,
    "start_time": "2021-08-28T19:22:20.617Z"
   },
   {
    "duration": 8,
    "start_time": "2021-08-28T19:22:20.688Z"
   },
   {
    "duration": 21,
    "start_time": "2021-08-28T19:22:20.698Z"
   },
   {
    "duration": 16,
    "start_time": "2021-08-28T19:22:20.721Z"
   },
   {
    "duration": 17,
    "start_time": "2021-08-28T19:22:20.740Z"
   },
   {
    "duration": 26,
    "start_time": "2021-08-28T19:22:20.759Z"
   },
   {
    "duration": 24,
    "start_time": "2021-08-28T19:22:20.787Z"
   },
   {
    "duration": 24,
    "start_time": "2021-08-28T19:22:20.813Z"
   },
   {
    "duration": 30,
    "start_time": "2021-08-28T19:22:20.839Z"
   },
   {
    "duration": 18,
    "start_time": "2021-08-28T19:22:20.871Z"
   },
   {
    "duration": 321,
    "start_time": "2021-08-28T19:22:20.892Z"
   },
   {
    "duration": 6,
    "start_time": "2021-08-28T19:22:21.215Z"
   },
   {
    "duration": 378,
    "start_time": "2021-08-28T19:22:21.223Z"
   },
   {
    "duration": 363,
    "start_time": "2021-08-28T19:22:21.603Z"
   },
   {
    "duration": 489,
    "start_time": "2021-08-28T19:22:21.968Z"
   },
   {
    "duration": 377,
    "start_time": "2021-08-28T19:22:22.459Z"
   },
   {
    "duration": 452,
    "start_time": "2021-08-28T19:22:22.839Z"
   },
   {
    "duration": 86,
    "start_time": "2021-08-28T19:22:23.293Z"
   },
   {
    "duration": 2,
    "start_time": "2021-08-28T19:22:23.392Z"
   },
   {
    "duration": 6,
    "start_time": "2021-08-28T19:22:23.395Z"
   },
   {
    "duration": 439,
    "start_time": "2021-08-28T19:22:23.403Z"
   },
   {
    "duration": 5,
    "start_time": "2021-08-28T19:22:23.843Z"
   },
   {
    "duration": 5,
    "start_time": "2021-08-28T19:22:23.849Z"
   },
   {
    "duration": 445,
    "start_time": "2021-08-28T19:22:23.855Z"
   },
   {
    "duration": 458,
    "start_time": "2021-08-28T19:22:24.302Z"
   },
   {
    "duration": 4,
    "start_time": "2021-08-28T19:22:24.762Z"
   },
   {
    "duration": 24,
    "start_time": "2021-08-28T19:22:24.767Z"
   },
   {
    "duration": 129,
    "start_time": "2021-08-28T19:22:24.792Z"
   },
   {
    "duration": 51,
    "start_time": "2021-08-28T19:22:24.923Z"
   },
   {
    "duration": 16,
    "start_time": "2021-08-28T19:22:24.975Z"
   },
   {
    "duration": 14,
    "start_time": "2021-08-28T19:22:24.992Z"
   },
   {
    "duration": 28,
    "start_time": "2021-08-28T19:22:25.008Z"
   },
   {
    "duration": 53,
    "start_time": "2021-08-28T19:22:25.038Z"
   },
   {
    "duration": 13,
    "start_time": "2021-08-28T19:22:25.092Z"
   },
   {
    "duration": 5,
    "start_time": "2021-08-28T19:22:54.933Z"
   },
   {
    "duration": 5,
    "start_time": "2021-08-28T19:22:54.941Z"
   },
   {
    "duration": 62,
    "start_time": "2021-08-28T19:22:54.949Z"
   },
   {
    "duration": 6,
    "start_time": "2021-08-28T19:22:55.014Z"
   },
   {
    "duration": 6,
    "start_time": "2021-08-28T19:22:55.022Z"
   },
   {
    "duration": 8,
    "start_time": "2021-08-28T19:22:55.029Z"
   },
   {
    "duration": 5,
    "start_time": "2021-08-28T19:22:55.039Z"
   },
   {
    "duration": 11,
    "start_time": "2021-08-28T19:22:55.045Z"
   },
   {
    "duration": 6,
    "start_time": "2021-08-28T19:22:55.057Z"
   },
   {
    "duration": 9,
    "start_time": "2021-08-28T19:22:55.064Z"
   },
   {
    "duration": 11,
    "start_time": "2021-08-28T19:22:55.075Z"
   },
   {
    "duration": 14,
    "start_time": "2021-08-28T19:22:55.087Z"
   },
   {
    "duration": 330,
    "start_time": "2021-08-28T19:22:55.102Z"
   },
   {
    "duration": 6,
    "start_time": "2021-08-28T19:22:55.433Z"
   },
   {
    "duration": 358,
    "start_time": "2021-08-28T19:22:55.441Z"
   },
   {
    "duration": 358,
    "start_time": "2021-08-28T19:22:55.801Z"
   },
   {
    "duration": 583,
    "start_time": "2021-08-28T19:22:56.160Z"
   },
   {
    "duration": 380,
    "start_time": "2021-08-28T19:22:56.745Z"
   },
   {
    "duration": 461,
    "start_time": "2021-08-28T19:22:57.128Z"
   },
   {
    "duration": 114,
    "start_time": "2021-08-28T19:22:57.591Z"
   },
   {
    "duration": 2,
    "start_time": "2021-08-28T19:22:57.706Z"
   },
   {
    "duration": 6,
    "start_time": "2021-08-28T19:22:57.709Z"
   },
   {
    "duration": 430,
    "start_time": "2021-08-28T19:22:57.716Z"
   },
   {
    "duration": 4,
    "start_time": "2021-08-28T19:22:58.148Z"
   },
   {
    "duration": 6,
    "start_time": "2021-08-28T19:22:58.154Z"
   },
   {
    "duration": 480,
    "start_time": "2021-08-28T19:22:58.161Z"
   },
   {
    "duration": 442,
    "start_time": "2021-08-28T19:22:58.642Z"
   },
   {
    "duration": 7,
    "start_time": "2021-08-28T19:22:59.086Z"
   },
   {
    "duration": 7,
    "start_time": "2021-08-28T19:22:59.094Z"
   },
   {
    "duration": 124,
    "start_time": "2021-08-28T19:22:59.103Z"
   },
   {
    "duration": 52,
    "start_time": "2021-08-28T19:22:59.229Z"
   },
   {
    "duration": 10,
    "start_time": "2021-08-28T19:22:59.292Z"
   },
   {
    "duration": 9,
    "start_time": "2021-08-28T19:22:59.304Z"
   },
   {
    "duration": 21,
    "start_time": "2021-08-28T19:22:59.314Z"
   },
   {
    "duration": 67,
    "start_time": "2021-08-28T19:22:59.336Z"
   },
   {
    "duration": 14,
    "start_time": "2021-08-28T19:22:59.405Z"
   },
   {
    "duration": 1367,
    "start_time": "2021-08-29T03:47:44.235Z"
   },
   {
    "duration": 4,
    "start_time": "2021-08-29T03:47:45.605Z"
   },
   {
    "duration": 73,
    "start_time": "2021-08-29T03:47:45.613Z"
   },
   {
    "duration": 14,
    "start_time": "2021-08-29T03:47:45.689Z"
   },
   {
    "duration": 5,
    "start_time": "2021-08-29T03:47:45.705Z"
   },
   {
    "duration": 7,
    "start_time": "2021-08-29T03:47:45.713Z"
   },
   {
    "duration": 6,
    "start_time": "2021-08-29T03:47:45.723Z"
   },
   {
    "duration": 14,
    "start_time": "2021-08-29T03:47:45.731Z"
   },
   {
    "duration": 10,
    "start_time": "2021-08-29T03:47:45.750Z"
   },
   {
    "duration": 14,
    "start_time": "2021-08-29T03:47:45.764Z"
   },
   {
    "duration": 19,
    "start_time": "2021-08-29T03:47:45.780Z"
   },
   {
    "duration": 56,
    "start_time": "2021-08-29T03:47:45.802Z"
   },
   {
    "duration": 660,
    "start_time": "2021-08-29T03:47:45.861Z"
   },
   {
    "duration": 9,
    "start_time": "2021-08-29T03:47:46.524Z"
   },
   {
    "duration": 540,
    "start_time": "2021-08-29T03:47:46.541Z"
   },
   {
    "duration": 509,
    "start_time": "2021-08-29T03:47:47.083Z"
   },
   {
    "duration": 665,
    "start_time": "2021-08-29T03:47:47.595Z"
   },
   {
    "duration": 514,
    "start_time": "2021-08-29T03:47:48.263Z"
   },
   {
    "duration": 602,
    "start_time": "2021-08-29T03:47:48.780Z"
   },
   {
    "duration": 136,
    "start_time": "2021-08-29T03:47:49.386Z"
   },
   {
    "duration": 3,
    "start_time": "2021-08-29T03:47:49.525Z"
   },
   {
    "duration": 4,
    "start_time": "2021-08-29T03:47:49.544Z"
   },
   {
    "duration": 555,
    "start_time": "2021-08-29T03:47:49.551Z"
   },
   {
    "duration": 6,
    "start_time": "2021-08-29T03:47:50.108Z"
   },
   {
    "duration": 25,
    "start_time": "2021-08-29T03:47:50.117Z"
   },
   {
    "duration": 693,
    "start_time": "2021-08-29T03:47:50.146Z"
   },
   {
    "duration": 613,
    "start_time": "2021-08-29T03:47:50.845Z"
   },
   {
    "duration": 7,
    "start_time": "2021-08-29T03:47:51.461Z"
   },
   {
    "duration": 5,
    "start_time": "2021-08-29T03:47:51.470Z"
   },
   {
    "duration": 184,
    "start_time": "2021-08-29T03:47:51.478Z"
   },
   {
    "duration": 82,
    "start_time": "2021-08-29T03:47:51.664Z"
   },
   {
    "duration": 17,
    "start_time": "2021-08-29T03:47:51.748Z"
   },
   {
    "duration": 12,
    "start_time": "2021-08-29T03:47:51.767Z"
   },
   {
    "duration": 27,
    "start_time": "2021-08-29T03:47:51.781Z"
   },
   {
    "duration": 101,
    "start_time": "2021-08-29T03:47:51.810Z"
   },
   {
    "duration": 42,
    "start_time": "2021-08-29T03:47:51.914Z"
   },
   {
    "duration": 12,
    "start_time": "2021-08-29T03:54:56.061Z"
   },
   {
    "duration": 13,
    "start_time": "2021-08-29T03:55:41.373Z"
   },
   {
    "duration": 9,
    "start_time": "2021-08-29T03:56:03.603Z"
   },
   {
    "duration": 8,
    "start_time": "2021-08-29T03:56:34.391Z"
   },
   {
    "duration": 15,
    "start_time": "2021-08-29T03:56:46.632Z"
   },
   {
    "duration": 7,
    "start_time": "2021-08-29T03:56:56.725Z"
   },
   {
    "duration": 16,
    "start_time": "2021-08-29T03:58:40.374Z"
   },
   {
    "duration": 7,
    "start_time": "2021-08-29T03:58:58.436Z"
   },
   {
    "duration": 10,
    "start_time": "2021-08-29T03:59:04.908Z"
   },
   {
    "duration": 5,
    "start_time": "2021-08-29T03:59:28.021Z"
   },
   {
    "duration": 8,
    "start_time": "2021-08-29T03:59:37.547Z"
   },
   {
    "duration": 4,
    "start_time": "2021-08-29T04:00:05.886Z"
   },
   {
    "duration": 7,
    "start_time": "2021-08-29T04:00:10.183Z"
   },
   {
    "duration": 4,
    "start_time": "2021-08-29T04:00:17.713Z"
   },
   {
    "duration": 444,
    "start_time": "2021-08-29T04:00:34.738Z"
   },
   {
    "duration": 315,
    "start_time": "2021-08-29T04:00:46.530Z"
   },
   {
    "duration": 9,
    "start_time": "2021-08-29T04:01:04.106Z"
   },
   {
    "duration": 12,
    "start_time": "2021-08-29T04:01:12.751Z"
   },
   {
    "duration": 7,
    "start_time": "2021-08-29T04:01:37.434Z"
   },
   {
    "duration": 8,
    "start_time": "2021-08-29T04:01:39.229Z"
   },
   {
    "duration": 6,
    "start_time": "2021-08-29T04:01:40.709Z"
   },
   {
    "duration": 13,
    "start_time": "2021-08-29T04:01:45.145Z"
   },
   {
    "duration": 4,
    "start_time": "2021-08-29T04:02:05.144Z"
   },
   {
    "duration": 5,
    "start_time": "2021-08-29T04:02:16.744Z"
   },
   {
    "duration": 3,
    "start_time": "2021-08-29T04:02:34.436Z"
   },
   {
    "duration": 6,
    "start_time": "2021-08-29T04:02:38.083Z"
   },
   {
    "duration": 6,
    "start_time": "2021-08-29T04:02:58.219Z"
   },
   {
    "duration": 4,
    "start_time": "2021-08-29T04:03:41.293Z"
   },
   {
    "duration": 7,
    "start_time": "2021-08-29T04:13:36.074Z"
   },
   {
    "duration": 5,
    "start_time": "2021-08-29T04:13:42.546Z"
   },
   {
    "duration": 8,
    "start_time": "2021-08-29T04:15:20.144Z"
   },
   {
    "duration": 3,
    "start_time": "2021-08-29T04:15:31.947Z"
   },
   {
    "duration": 380,
    "start_time": "2021-08-29T08:17:46.046Z"
   },
   {
    "duration": 1806,
    "start_time": "2021-08-29T08:17:50.863Z"
   },
   {
    "duration": 5,
    "start_time": "2021-08-29T08:17:52.672Z"
   },
   {
    "duration": 64,
    "start_time": "2021-08-29T08:17:52.684Z"
   },
   {
    "duration": 16,
    "start_time": "2021-08-29T08:17:52.751Z"
   },
   {
    "duration": 4,
    "start_time": "2021-08-29T08:17:52.769Z"
   },
   {
    "duration": 6,
    "start_time": "2021-08-29T08:17:52.776Z"
   },
   {
    "duration": 6,
    "start_time": "2021-08-29T08:17:52.784Z"
   },
   {
    "duration": 10,
    "start_time": "2021-08-29T08:17:52.794Z"
   },
   {
    "duration": 11,
    "start_time": "2021-08-29T08:17:52.807Z"
   },
   {
    "duration": 7,
    "start_time": "2021-08-29T08:17:52.821Z"
   },
   {
    "duration": 53,
    "start_time": "2021-08-29T08:17:52.831Z"
   },
   {
    "duration": 18,
    "start_time": "2021-08-29T08:17:52.887Z"
   },
   {
    "duration": 733,
    "start_time": "2021-08-29T08:17:52.908Z"
   },
   {
    "duration": 9,
    "start_time": "2021-08-29T08:17:53.643Z"
   },
   {
    "duration": 657,
    "start_time": "2021-08-29T08:17:53.654Z"
   },
   {
    "duration": 633,
    "start_time": "2021-08-29T08:17:54.314Z"
   },
   {
    "duration": 759,
    "start_time": "2021-08-29T08:17:54.950Z"
   },
   {
    "duration": 653,
    "start_time": "2021-08-29T08:17:55.712Z"
   },
   {
    "duration": 737,
    "start_time": "2021-08-29T08:17:56.368Z"
   },
   {
    "duration": 222,
    "start_time": "2021-08-29T08:17:57.107Z"
   },
   {
    "duration": 3,
    "start_time": "2021-08-29T08:17:57.331Z"
   },
   {
    "duration": 6,
    "start_time": "2021-08-29T08:17:57.336Z"
   },
   {
    "duration": 719,
    "start_time": "2021-08-29T08:17:57.346Z"
   },
   {
    "duration": 15,
    "start_time": "2021-08-29T08:17:58.068Z"
   },
   {
    "duration": 15,
    "start_time": "2021-08-29T08:17:58.085Z"
   },
   {
    "duration": 766,
    "start_time": "2021-08-29T08:17:58.103Z"
   },
   {
    "duration": 722,
    "start_time": "2021-08-29T08:17:58.871Z"
   },
   {
    "duration": 6,
    "start_time": "2021-08-29T08:17:59.595Z"
   },
   {
    "duration": 11,
    "start_time": "2021-08-29T08:17:59.603Z"
   },
   {
    "duration": 236,
    "start_time": "2021-08-29T08:17:59.616Z"
   },
   {
    "duration": 75,
    "start_time": "2021-08-29T08:17:59.854Z"
   },
   {
    "duration": 16,
    "start_time": "2021-08-29T08:17:59.931Z"
   },
   {
    "duration": 36,
    "start_time": "2021-08-29T08:17:59.950Z"
   },
   {
    "duration": 55,
    "start_time": "2021-08-29T08:17:59.988Z"
   },
   {
    "duration": 75,
    "start_time": "2021-08-29T08:18:00.046Z"
   },
   {
    "duration": 21,
    "start_time": "2021-08-29T08:18:00.124Z"
   },
   {
    "duration": 7,
    "start_time": "2021-08-29T08:20:17.713Z"
   },
   {
    "duration": 3316,
    "start_time": "2021-08-29T08:24:59.013Z"
   },
   {
    "duration": 3809,
    "start_time": "2021-08-29T08:25:13.554Z"
   },
   {
    "duration": 271,
    "start_time": "2021-08-29T08:25:29.446Z"
   },
   {
    "duration": 13,
    "start_time": "2021-08-29T08:25:43.713Z"
   },
   {
    "duration": 11,
    "start_time": "2021-08-29T08:26:01.498Z"
   },
   {
    "duration": 8,
    "start_time": "2021-08-29T08:26:48.533Z"
   },
   {
    "duration": 6,
    "start_time": "2021-08-29T08:33:21.429Z"
   },
   {
    "duration": 4,
    "start_time": "2021-08-29T08:33:26.045Z"
   },
   {
    "duration": 749,
    "start_time": "2021-08-29T08:33:32.506Z"
   },
   {
    "duration": 7,
    "start_time": "2021-08-29T08:37:21.915Z"
   },
   {
    "duration": 15,
    "start_time": "2021-08-29T08:37:21.925Z"
   },
   {
    "duration": 9,
    "start_time": "2021-08-29T08:37:21.943Z"
   },
   {
    "duration": 65,
    "start_time": "2021-08-29T08:37:21.954Z"
   },
   {
    "duration": 11,
    "start_time": "2021-08-29T08:37:22.021Z"
   },
   {
    "duration": 8,
    "start_time": "2021-08-29T08:37:22.035Z"
   },
   {
    "duration": 13,
    "start_time": "2021-08-29T08:37:22.045Z"
   },
   {
    "duration": 30,
    "start_time": "2021-08-29T08:37:22.062Z"
   },
   {
    "duration": 17,
    "start_time": "2021-08-29T08:37:22.095Z"
   },
   {
    "duration": 11,
    "start_time": "2021-08-29T08:37:22.114Z"
   },
   {
    "duration": 9,
    "start_time": "2021-08-29T08:37:22.127Z"
   },
   {
    "duration": 13,
    "start_time": "2021-08-29T08:37:22.139Z"
   },
   {
    "duration": 8,
    "start_time": "2021-08-29T08:37:22.183Z"
   },
   {
    "duration": 18,
    "start_time": "2021-08-29T08:37:22.193Z"
   },
   {
    "duration": 10,
    "start_time": "2021-08-29T08:37:22.213Z"
   },
   {
    "duration": 10,
    "start_time": "2021-08-29T08:37:22.226Z"
   },
   {
    "duration": 10,
    "start_time": "2021-08-29T08:37:22.238Z"
   },
   {
    "duration": 41,
    "start_time": "2021-08-29T08:37:22.250Z"
   },
   {
    "duration": 104,
    "start_time": "2021-08-29T08:37:22.293Z"
   },
   {
    "duration": -3184,
    "start_time": "2021-08-29T08:37:25.584Z"
   },
   {
    "duration": -3184,
    "start_time": "2021-08-29T08:37:25.586Z"
   },
   {
    "duration": -3212,
    "start_time": "2021-08-29T08:37:25.615Z"
   },
   {
    "duration": -3213,
    "start_time": "2021-08-29T08:37:25.618Z"
   },
   {
    "duration": -3215,
    "start_time": "2021-08-29T08:37:25.621Z"
   },
   {
    "duration": -3216,
    "start_time": "2021-08-29T08:37:25.623Z"
   },
   {
    "duration": -3217,
    "start_time": "2021-08-29T08:37:25.626Z"
   },
   {
    "duration": -3219,
    "start_time": "2021-08-29T08:37:25.629Z"
   },
   {
    "duration": -3219,
    "start_time": "2021-08-29T08:37:25.631Z"
   },
   {
    "duration": -3221,
    "start_time": "2021-08-29T08:37:25.634Z"
   },
   {
    "duration": -3222,
    "start_time": "2021-08-29T08:37:25.636Z"
   },
   {
    "duration": -3224,
    "start_time": "2021-08-29T08:37:25.639Z"
   },
   {
    "duration": -3225,
    "start_time": "2021-08-29T08:37:25.642Z"
   },
   {
    "duration": -3226,
    "start_time": "2021-08-29T08:37:25.644Z"
   },
   {
    "duration": -3227,
    "start_time": "2021-08-29T08:37:25.646Z"
   },
   {
    "duration": -3228,
    "start_time": "2021-08-29T08:37:25.649Z"
   },
   {
    "duration": -3230,
    "start_time": "2021-08-29T08:37:25.652Z"
   },
   {
    "duration": -3231,
    "start_time": "2021-08-29T08:37:25.654Z"
   },
   {
    "duration": -3231,
    "start_time": "2021-08-29T08:37:25.656Z"
   },
   {
    "duration": -3233,
    "start_time": "2021-08-29T08:37:25.659Z"
   },
   {
    "duration": -3233,
    "start_time": "2021-08-29T08:37:25.661Z"
   },
   {
    "duration": -3235,
    "start_time": "2021-08-29T08:37:25.664Z"
   },
   {
    "duration": -3235,
    "start_time": "2021-08-29T08:37:25.666Z"
   },
   {
    "duration": -3237,
    "start_time": "2021-08-29T08:37:25.669Z"
   },
   {
    "duration": -3243,
    "start_time": "2021-08-29T08:37:25.677Z"
   },
   {
    "duration": -3244,
    "start_time": "2021-08-29T08:37:25.679Z"
   },
   {
    "duration": 6,
    "start_time": "2021-08-29T08:37:49.038Z"
   },
   {
    "duration": 6,
    "start_time": "2021-08-29T08:37:49.046Z"
   },
   {
    "duration": 5,
    "start_time": "2021-08-29T08:37:49.055Z"
   },
   {
    "duration": 62,
    "start_time": "2021-08-29T08:37:49.062Z"
   },
   {
    "duration": 11,
    "start_time": "2021-08-29T08:37:49.126Z"
   },
   {
    "duration": 4,
    "start_time": "2021-08-29T08:37:49.139Z"
   },
   {
    "duration": 5,
    "start_time": "2021-08-29T08:37:49.146Z"
   },
   {
    "duration": 17,
    "start_time": "2021-08-29T08:37:49.154Z"
   },
   {
    "duration": 8,
    "start_time": "2021-08-29T08:37:49.182Z"
   },
   {
    "duration": 10,
    "start_time": "2021-08-29T08:37:49.192Z"
   },
   {
    "duration": 7,
    "start_time": "2021-08-29T08:37:49.204Z"
   },
   {
    "duration": 22,
    "start_time": "2021-08-29T08:37:49.213Z"
   },
   {
    "duration": 16,
    "start_time": "2021-08-29T08:37:49.237Z"
   },
   {
    "duration": 7,
    "start_time": "2021-08-29T08:37:49.283Z"
   },
   {
    "duration": 23,
    "start_time": "2021-08-29T08:37:49.292Z"
   },
   {
    "duration": 9,
    "start_time": "2021-08-29T08:37:49.318Z"
   },
   {
    "duration": 7,
    "start_time": "2021-08-29T08:37:49.330Z"
   },
   {
    "duration": 14,
    "start_time": "2021-08-29T08:37:49.339Z"
   },
   {
    "duration": 17,
    "start_time": "2021-08-29T08:37:49.382Z"
   },
   {
    "duration": 17,
    "start_time": "2021-08-29T08:37:49.402Z"
   },
   {
    "duration": 598,
    "start_time": "2021-08-29T08:37:49.421Z"
   },
   {
    "duration": 9,
    "start_time": "2021-08-29T08:37:50.022Z"
   },
   {
    "duration": 639,
    "start_time": "2021-08-29T08:37:50.034Z"
   },
   {
    "duration": 604,
    "start_time": "2021-08-29T08:37:50.682Z"
   },
   {
    "duration": 799,
    "start_time": "2021-08-29T08:37:51.289Z"
   },
   {
    "duration": 695,
    "start_time": "2021-08-29T08:37:52.092Z"
   },
   {
    "duration": 740,
    "start_time": "2021-08-29T08:37:52.790Z"
   },
   {
    "duration": 183,
    "start_time": "2021-08-29T08:37:53.532Z"
   },
   {
    "duration": 3,
    "start_time": "2021-08-29T08:37:53.719Z"
   },
   {
    "duration": 6,
    "start_time": "2021-08-29T08:37:53.725Z"
   },
   {
    "duration": 720,
    "start_time": "2021-08-29T08:37:53.733Z"
   },
   {
    "duration": 8,
    "start_time": "2021-08-29T08:37:54.456Z"
   },
   {
    "duration": 4,
    "start_time": "2021-08-29T08:37:54.483Z"
   },
   {
    "duration": 679,
    "start_time": "2021-08-29T08:37:54.489Z"
   },
   {
    "duration": 689,
    "start_time": "2021-08-29T08:37:55.171Z"
   },
   {
    "duration": 21,
    "start_time": "2021-08-29T08:37:55.863Z"
   },
   {
    "duration": 3,
    "start_time": "2021-08-29T08:37:55.887Z"
   },
   {
    "duration": 304,
    "start_time": "2021-08-29T08:37:55.893Z"
   },
   {
    "duration": 66,
    "start_time": "2021-08-29T08:37:56.200Z"
   },
   {
    "duration": 18,
    "start_time": "2021-08-29T08:37:56.283Z"
   },
   {
    "duration": 15,
    "start_time": "2021-08-29T08:37:56.304Z"
   },
   {
    "duration": 22,
    "start_time": "2021-08-29T08:37:56.322Z"
   },
   {
    "duration": 101,
    "start_time": "2021-08-29T08:37:56.346Z"
   },
   {
    "duration": 51,
    "start_time": "2021-08-29T08:37:56.450Z"
   },
   {
    "duration": 1266,
    "start_time": "2021-08-29T12:59:41.987Z"
   },
   {
    "duration": 3,
    "start_time": "2021-08-29T12:59:43.255Z"
   },
   {
    "duration": 11,
    "start_time": "2021-08-29T12:59:43.261Z"
   },
   {
    "duration": 71,
    "start_time": "2021-08-29T12:59:43.275Z"
   },
   {
    "duration": 13,
    "start_time": "2021-08-29T12:59:43.349Z"
   },
   {
    "duration": 4,
    "start_time": "2021-08-29T12:59:43.364Z"
   },
   {
    "duration": 7,
    "start_time": "2021-08-29T12:59:43.370Z"
   },
   {
    "duration": 17,
    "start_time": "2021-08-29T12:59:43.380Z"
   },
   {
    "duration": 40,
    "start_time": "2021-08-29T12:59:43.401Z"
   },
   {
    "duration": 10,
    "start_time": "2021-08-29T12:59:43.444Z"
   },
   {
    "duration": 9,
    "start_time": "2021-08-29T12:59:43.457Z"
   },
   {
    "duration": 13,
    "start_time": "2021-08-29T12:59:43.469Z"
   },
   {
    "duration": 10,
    "start_time": "2021-08-29T12:59:43.484Z"
   },
   {
    "duration": 7,
    "start_time": "2021-08-29T12:59:43.542Z"
   },
   {
    "duration": 9,
    "start_time": "2021-08-29T12:59:43.552Z"
   },
   {
    "duration": 10,
    "start_time": "2021-08-29T12:59:43.564Z"
   },
   {
    "duration": 10,
    "start_time": "2021-08-29T12:59:43.577Z"
   },
   {
    "duration": 57,
    "start_time": "2021-08-29T12:59:43.590Z"
   },
   {
    "duration": 15,
    "start_time": "2021-08-29T12:59:43.649Z"
   },
   {
    "duration": 15,
    "start_time": "2021-08-29T12:59:43.666Z"
   },
   {
    "duration": 509,
    "start_time": "2021-08-29T12:59:43.684Z"
   },
   {
    "duration": 10,
    "start_time": "2021-08-29T12:59:44.195Z"
   },
   {
    "duration": 492,
    "start_time": "2021-08-29T12:59:44.210Z"
   },
   {
    "duration": 489,
    "start_time": "2021-08-29T12:59:44.705Z"
   },
   {
    "duration": 632,
    "start_time": "2021-08-29T12:59:45.196Z"
   },
   {
    "duration": 528,
    "start_time": "2021-08-29T12:59:45.831Z"
   },
   {
    "duration": 582,
    "start_time": "2021-08-29T12:59:46.362Z"
   },
   {
    "duration": 114,
    "start_time": "2021-08-29T12:59:46.946Z"
   },
   {
    "duration": 3,
    "start_time": "2021-08-29T12:59:47.062Z"
   },
   {
    "duration": 12,
    "start_time": "2021-08-29T12:59:47.067Z"
   },
   {
    "duration": 540,
    "start_time": "2021-08-29T12:59:47.082Z"
   },
   {
    "duration": 15,
    "start_time": "2021-08-29T12:59:47.625Z"
   },
   {
    "duration": 3,
    "start_time": "2021-08-29T12:59:47.643Z"
   },
   {
    "duration": 698,
    "start_time": "2021-08-29T12:59:47.648Z"
   },
   {
    "duration": 566,
    "start_time": "2021-08-29T12:59:48.348Z"
   },
   {
    "duration": 6,
    "start_time": "2021-08-29T12:59:48.917Z"
   },
   {
    "duration": 17,
    "start_time": "2021-08-29T12:59:48.925Z"
   },
   {
    "duration": 161,
    "start_time": "2021-08-29T12:59:48.945Z"
   },
   {
    "duration": 81,
    "start_time": "2021-08-29T12:59:49.109Z"
   },
   {
    "duration": 16,
    "start_time": "2021-08-29T12:59:49.192Z"
   },
   {
    "duration": 34,
    "start_time": "2021-08-29T12:59:49.210Z"
   },
   {
    "duration": 28,
    "start_time": "2021-08-29T12:59:49.247Z"
   },
   {
    "duration": 85,
    "start_time": "2021-08-29T12:59:49.277Z"
   },
   {
    "duration": 19,
    "start_time": "2021-08-29T12:59:49.365Z"
   },
   {
    "duration": 1323,
    "start_time": "2021-08-29T13:32:21.241Z"
   },
   {
    "duration": 3,
    "start_time": "2021-08-29T13:32:22.567Z"
   },
   {
    "duration": 8,
    "start_time": "2021-08-29T13:32:22.573Z"
   },
   {
    "duration": 73,
    "start_time": "2021-08-29T13:32:22.584Z"
   },
   {
    "duration": 14,
    "start_time": "2021-08-29T13:32:22.660Z"
   },
   {
    "duration": 8,
    "start_time": "2021-08-29T13:32:22.676Z"
   },
   {
    "duration": 14,
    "start_time": "2021-08-29T13:32:22.686Z"
   },
   {
    "duration": 22,
    "start_time": "2021-08-29T13:32:22.704Z"
   },
   {
    "duration": 20,
    "start_time": "2021-08-29T13:32:22.729Z"
   },
   {
    "duration": 17,
    "start_time": "2021-08-29T13:32:22.752Z"
   },
   {
    "duration": 11,
    "start_time": "2021-08-29T13:32:22.772Z"
   },
   {
    "duration": 16,
    "start_time": "2021-08-29T13:32:22.785Z"
   },
   {
    "duration": 18,
    "start_time": "2021-08-29T13:32:22.803Z"
   },
   {
    "duration": 21,
    "start_time": "2021-08-29T13:32:22.823Z"
   },
   {
    "duration": 7,
    "start_time": "2021-08-29T13:32:22.846Z"
   },
   {
    "duration": 12,
    "start_time": "2021-08-29T13:32:22.855Z"
   },
   {
    "duration": 11,
    "start_time": "2021-08-29T13:32:22.870Z"
   },
   {
    "duration": 24,
    "start_time": "2021-08-29T13:32:22.883Z"
   },
   {
    "duration": 41,
    "start_time": "2021-08-29T13:32:22.909Z"
   },
   {
    "duration": 15,
    "start_time": "2021-08-29T13:32:22.952Z"
   },
   {
    "duration": 476,
    "start_time": "2021-08-29T13:32:22.970Z"
   },
   {
    "duration": 10,
    "start_time": "2021-08-29T13:32:23.448Z"
   },
   {
    "duration": 495,
    "start_time": "2021-08-29T13:32:23.462Z"
   },
   {
    "duration": 527,
    "start_time": "2021-08-29T13:32:23.960Z"
   },
   {
    "duration": 588,
    "start_time": "2021-08-29T13:32:24.490Z"
   },
   {
    "duration": 529,
    "start_time": "2021-08-29T13:32:25.080Z"
   },
   {
    "duration": 638,
    "start_time": "2021-08-29T13:32:25.612Z"
   },
   {
    "duration": 170,
    "start_time": "2021-08-29T13:32:26.253Z"
   },
   {
    "duration": 17,
    "start_time": "2021-08-29T13:32:26.425Z"
   },
   {
    "duration": 9,
    "start_time": "2021-08-29T13:32:26.445Z"
   },
   {
    "duration": 591,
    "start_time": "2021-08-29T13:32:26.457Z"
   },
   {
    "duration": 8,
    "start_time": "2021-08-29T13:32:27.051Z"
   },
   {
    "duration": 8,
    "start_time": "2021-08-29T13:32:27.061Z"
   },
   {
    "duration": 683,
    "start_time": "2021-08-29T13:32:27.071Z"
   },
   {
    "duration": 606,
    "start_time": "2021-08-29T13:32:27.757Z"
   },
   {
    "duration": 7,
    "start_time": "2021-08-29T13:32:28.366Z"
   },
   {
    "duration": 5,
    "start_time": "2021-08-29T13:32:28.376Z"
   },
   {
    "duration": 297,
    "start_time": "2021-08-29T13:32:28.383Z"
   },
   {
    "duration": 108,
    "start_time": "2021-08-29T13:32:28.683Z"
   },
   {
    "duration": 17,
    "start_time": "2021-08-29T13:32:28.794Z"
   },
   {
    "duration": 35,
    "start_time": "2021-08-29T13:32:28.814Z"
   },
   {
    "duration": 23,
    "start_time": "2021-08-29T13:32:28.857Z"
   },
   {
    "duration": 102,
    "start_time": "2021-08-29T13:32:28.883Z"
   },
   {
    "duration": 20,
    "start_time": "2021-08-29T13:32:28.987Z"
   }
  ],
  "kernelspec": {
   "display_name": "Python 3",
   "language": "python",
   "name": "python3"
  },
  "language_info": {
   "codemirror_mode": {
    "name": "ipython",
    "version": 3
   },
   "file_extension": ".py",
   "mimetype": "text/x-python",
   "name": "python",
   "nbconvert_exporter": "python",
   "pygments_lexer": "ipython3",
   "version": "3.8.8"
  },
  "toc": {
   "base_numbering": 1,
   "nav_menu": {},
   "number_sections": true,
   "sideBar": true,
   "skip_h1_title": true,
   "title_cell": "Table of Contents",
   "title_sidebar": "Contents",
   "toc_cell": false,
   "toc_position": {
    "height": "calc(100% - 180px)",
    "left": "10px",
    "top": "150px",
    "width": "328px"
   },
   "toc_section_display": true,
   "toc_window_display": true
  }
 },
 "nbformat": 4,
 "nbformat_minor": 2
}
